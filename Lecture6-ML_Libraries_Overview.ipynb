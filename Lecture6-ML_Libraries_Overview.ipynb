{
 "cells": [
  {
   "cell_type": "markdown",
   "id": "6d309206",
   "metadata": {
    "id": "6d309206"
   },
   "source": [
    "# ML Libraries Overview\n",
    "In this notebook, we'll explore three popular machine learning libraries: **scikit-learn**, **TensorFlow**, and **PyTorch**.\n",
    "We'll discuss when to choose each, how to set up the environment, and run minimal working demos."
   ]
  },
  {
   "cell_type": "markdown",
   "id": "c18e8106",
   "metadata": {
    "id": "c18e8106"
   },
   "source": [
    "## 1. When to choose which library\n",
    "| Feature                  | Scikit-learn | TensorFlow | PyTorch |\n",
    "|--------------------------|--------------|------------|---------|\n",
    "| **Best for**             | Classical ML | Deep Learning | Deep Learning |\n",
    "| **Model complexity**     | Simple to moderate | Complex neural nets | Complex neural nets |\n",
    "| **Ease of use**          | Very easy | Medium | Easy-medium |\n",
    "| **Speed on GPU**         | Limited | Excellent | Excellent |\n",
    "| **Ecosystem**            | Data preprocessing, model selection | End-to-end DL, production ready | Research, experimentation |\n",
    "\n",
    "**Rule of thumb:**\n",
    "- If you’re doing **logistic regression, random forests, SVMs** → use **scikit-learn**.\n",
    "- If you’re training **neural networks for production** → use **TensorFlow**.\n",
    "- If you’re doing **deep learning research / custom architectures** → use **PyTorch**."
   ]
  },
  {
   "cell_type": "markdown",
   "id": "c5b8eb9c",
   "metadata": {
    "id": "c5b8eb9c"
   },
   "source": [
    "## 2. Environment Setup"
   ]
  },
  {
   "cell_type": "code",
   "id": "0da51461",
   "metadata": {
    "id": "0da51461",
    "ExecuteTime": {
     "end_time": "2025-09-07T13:04:36.430809Z",
     "start_time": "2025-09-07T13:04:32.844640Z"
    }
   },
   "source": [
    "!pip install scikit-learn tensorflow torch --quiet"
   ],
   "outputs": [],
   "execution_count": 1
  },
  {
   "cell_type": "code",
   "id": "49f4ddf0",
   "metadata": {
    "colab": {
     "base_uri": "https://localhost:8080/"
    },
    "id": "49f4ddf0",
    "outputId": "f8907b73-159d-44a6-b6a4-d4dfbed2fc19",
    "ExecuteTime": {
     "end_time": "2025-09-07T13:04:46.605678Z",
     "start_time": "2025-09-07T13:04:36.453513Z"
    }
   },
   "source": [
    "import sklearn, tensorflow as tf, torch\n",
    "print('scikit-learn:', sklearn.__version__)\n",
    "print('TensorFlow:', tf.__version__)\n",
    "print('PyTorch:', torch.__version__)"
   ],
   "outputs": [
    {
     "name": "stdout",
     "output_type": "stream",
     "text": [
      "scikit-learn: 1.7.1\n",
      "TensorFlow: 2.20.0\n",
      "PyTorch: 2.8.0+cpu\n"
     ]
    }
   ],
   "execution_count": 2
  },
  {
   "cell_type": "markdown",
   "id": "a326f6ed",
   "metadata": {
    "id": "a326f6ed"
   },
   "source": [
    "## 3. Demo: Scikit-learn – Logistic Regression"
   ]
  },
  {
   "cell_type": "code",
   "id": "3acdf8f5",
   "metadata": {
    "id": "3acdf8f5",
    "ExecuteTime": {
     "end_time": "2025-09-07T13:04:47.489771Z",
     "start_time": "2025-09-07T13:04:46.614727Z"
    }
   },
   "source": [
    "from sklearn.datasets import load_iris\n",
    "from sklearn.model_selection import train_test_split\n",
    "from sklearn.linear_model import LogisticRegression\n",
    "from sklearn.linear_model import LinearRegression\n",
    "from sklearn.metrics import accuracy_score\n",
    "from sklearn.preprocessing import LabelEncoder\n",
    "from sklearn.metrics import mean_squared_error, r2_score\n",
    "import pandas as pd\n",
    "import seaborn as sns"
   ],
   "outputs": [],
   "execution_count": 3
  },
  {
   "cell_type": "code",
   "source": [
    "# Load dataset\n",
    "df = sns.load_dataset('iris')\n",
    "df.head()"
   ],
   "metadata": {
    "id": "1Za8lknzjkQx",
    "colab": {
     "base_uri": "https://localhost:8080/",
     "height": 206
    },
    "outputId": "e7fe5dda-fbed-4210-987e-9331bbe7fc62",
    "ExecuteTime": {
     "end_time": "2025-09-07T13:04:47.564251Z",
     "start_time": "2025-09-07T13:04:47.494928Z"
    }
   },
   "id": "1Za8lknzjkQx",
   "outputs": [
    {
     "data": {
      "text/plain": [
       "   sepal_length  sepal_width  petal_length  petal_width species\n",
       "0           5.1          3.5           1.4          0.2  setosa\n",
       "1           4.9          3.0           1.4          0.2  setosa\n",
       "2           4.7          3.2           1.3          0.2  setosa\n",
       "3           4.6          3.1           1.5          0.2  setosa\n",
       "4           5.0          3.6           1.4          0.2  setosa"
      ],
      "text/html": [
       "<div>\n",
       "<style scoped>\n",
       "    .dataframe tbody tr th:only-of-type {\n",
       "        vertical-align: middle;\n",
       "    }\n",
       "\n",
       "    .dataframe tbody tr th {\n",
       "        vertical-align: top;\n",
       "    }\n",
       "\n",
       "    .dataframe thead th {\n",
       "        text-align: right;\n",
       "    }\n",
       "</style>\n",
       "<table border=\"1\" class=\"dataframe\">\n",
       "  <thead>\n",
       "    <tr style=\"text-align: right;\">\n",
       "      <th></th>\n",
       "      <th>sepal_length</th>\n",
       "      <th>sepal_width</th>\n",
       "      <th>petal_length</th>\n",
       "      <th>petal_width</th>\n",
       "      <th>species</th>\n",
       "    </tr>\n",
       "  </thead>\n",
       "  <tbody>\n",
       "    <tr>\n",
       "      <th>0</th>\n",
       "      <td>5.1</td>\n",
       "      <td>3.5</td>\n",
       "      <td>1.4</td>\n",
       "      <td>0.2</td>\n",
       "      <td>setosa</td>\n",
       "    </tr>\n",
       "    <tr>\n",
       "      <th>1</th>\n",
       "      <td>4.9</td>\n",
       "      <td>3.0</td>\n",
       "      <td>1.4</td>\n",
       "      <td>0.2</td>\n",
       "      <td>setosa</td>\n",
       "    </tr>\n",
       "    <tr>\n",
       "      <th>2</th>\n",
       "      <td>4.7</td>\n",
       "      <td>3.2</td>\n",
       "      <td>1.3</td>\n",
       "      <td>0.2</td>\n",
       "      <td>setosa</td>\n",
       "    </tr>\n",
       "    <tr>\n",
       "      <th>3</th>\n",
       "      <td>4.6</td>\n",
       "      <td>3.1</td>\n",
       "      <td>1.5</td>\n",
       "      <td>0.2</td>\n",
       "      <td>setosa</td>\n",
       "    </tr>\n",
       "    <tr>\n",
       "      <th>4</th>\n",
       "      <td>5.0</td>\n",
       "      <td>3.6</td>\n",
       "      <td>1.4</td>\n",
       "      <td>0.2</td>\n",
       "      <td>setosa</td>\n",
       "    </tr>\n",
       "  </tbody>\n",
       "</table>\n",
       "</div>"
      ]
     },
     "execution_count": 4,
     "metadata": {},
     "output_type": "execute_result"
    }
   ],
   "execution_count": 4
  },
  {
   "cell_type": "code",
   "source": [
    "df.head()\n",
    "# #model 1 (logistic regression)\n",
    "# X = df.drop('species', axis=1)\n",
    "# y = LabelEncoder().fit_transform(df[\"species\"])\n",
    "\n",
    "#model 2 (linear regression)\n",
    "X = df.drop(columns=[\"petal_length\", \"species\"])\n",
    "y = df[\"petal_length\"]\n",
    "\n",
    "\n",
    "print(X.shape)\n",
    "print(y.shape)"
   ],
   "metadata": {
    "colab": {
     "base_uri": "https://localhost:8080/"
    },
    "id": "MzqxkS8hP3fd",
    "outputId": "e9ef92bc-c70c-4d17-edb2-16b49b284f10",
    "ExecuteTime": {
     "end_time": "2025-09-07T13:04:47.618874Z",
     "start_time": "2025-09-07T13:04:47.592639Z"
    }
   },
   "id": "MzqxkS8hP3fd",
   "outputs": [
    {
     "name": "stdout",
     "output_type": "stream",
     "text": [
      "(150, 3)\n",
      "(150,)\n"
     ]
    }
   ],
   "execution_count": 5
  },
  {
   "cell_type": "markdown",
   "source": [
    "X = df.drop('species', axis=1): this will form a numby array with first four columns\n",
    "\n",
    "y = LabelEncoder().fit_transform(df[\"species\"]): : this will form a numby array with last column\n",
    "\n",
    "X → Features (numeric values describing each flower, shape (150, 4) — 150 samples, 4 features).\n",
    "\n",
    "y → Target labels (0, 1, 2 for different flower species)."
   ],
   "metadata": {
    "id": "8RX-P-yQjiPI"
   },
   "id": "8RX-P-yQjiPI"
  },
  {
   "cell_type": "code",
   "source": [
    "# Train/test split\n",
    "X_train, X_test, y_train, y_test = train_test_split(X, y, test_size=0.2, random_state=42)\n"
   ],
   "metadata": {
    "id": "Rq4LArPpjmxW",
    "ExecuteTime": {
     "end_time": "2025-09-07T13:04:47.650609Z",
     "start_time": "2025-09-07T13:04:47.641664Z"
    }
   },
   "id": "Rq4LArPpjmxW",
   "outputs": [],
   "execution_count": 6
  },
  {
   "cell_type": "markdown",
   "source": [
    "X_train → Training features.\n",
    "\n",
    "X_test → Testing features.\n",
    "\n",
    "y_train → Training labels.\n",
    "\n",
    "y_test → Testing labels."
   ],
   "metadata": {
    "id": "RmqWx5vUj8Ju"
   },
   "id": "RmqWx5vUj8Ju"
  },
  {
   "cell_type": "code",
   "source": [
    "# # Model 1 (logistic regression)\n",
    "# model = LogisticRegression(max_iter=200)\n",
    "# model.fit(X_train, y_train)\n",
    "\n"
   ],
   "metadata": {
    "colab": {
     "base_uri": "https://localhost:8080/",
     "height": 80
    },
    "id": "UpQuJI_Rjod7",
    "outputId": "05697029-cfe1-4918-b38c-be76a5790fce",
    "ExecuteTime": {
     "end_time": "2025-09-07T13:04:47.666610Z",
     "start_time": "2025-09-07T13:04:47.661626Z"
    }
   },
   "id": "UpQuJI_Rjod7",
   "outputs": [],
   "execution_count": 7
  },
  {
   "cell_type": "markdown",
   "source": [
    "max_iter=200 → Sets the maximum number of optimization iterations (default can be too small for convergence, so we increase it).\n",
    "\n",
    ".fit() → Trains the logistic regression model by finding the best weights for classification.\n",
    "\n",
    "The model learns patterns in X_train that correspond to the correct labels y_train."
   ],
   "metadata": {
    "id": "YMd6Pqofj48s"
   },
   "id": "YMd6Pqofj48s"
  },
  {
   "cell_type": "code",
   "source": [
    "# # Predict & evaluate (logistic regression)\n",
    "# y_pred = model.predict(X_test)\n",
    "# print('Accuracy:', accuracy_score(y_test, y_pred))"
   ],
   "metadata": {
    "colab": {
     "base_uri": "https://localhost:8080/"
    },
    "id": "4z1vfYRtjrAf",
    "outputId": "dd073041-3793-4a4b-b809-f8d0e41aa43b",
    "ExecuteTime": {
     "end_time": "2025-09-07T13:04:47.681610Z",
     "start_time": "2025-09-07T13:04:47.676611Z"
    }
   },
   "id": "4z1vfYRtjrAf",
   "outputs": [],
   "execution_count": 8
  },
  {
   "cell_type": "code",
   "source": [
    "model = LinearRegression()\n",
    "model.fit(X_train, y_train)"
   ],
   "metadata": {
    "colab": {
     "base_uri": "https://localhost:8080/",
     "height": 80
    },
    "id": "FYPBfDYgUZ7C",
    "outputId": "e7cd03ac-87b1-4eec-e51d-02ffac1f0a99",
    "ExecuteTime": {
     "end_time": "2025-09-07T13:04:47.745611Z",
     "start_time": "2025-09-07T13:04:47.691612Z"
    }
   },
   "id": "FYPBfDYgUZ7C",
   "outputs": [
    {
     "data": {
      "text/plain": [
       "LinearRegression()"
      ],
      "text/html": [
       "<style>#sk-container-id-1 {\n",
       "  /* Definition of color scheme common for light and dark mode */\n",
       "  --sklearn-color-text: #000;\n",
       "  --sklearn-color-text-muted: #666;\n",
       "  --sklearn-color-line: gray;\n",
       "  /* Definition of color scheme for unfitted estimators */\n",
       "  --sklearn-color-unfitted-level-0: #fff5e6;\n",
       "  --sklearn-color-unfitted-level-1: #f6e4d2;\n",
       "  --sklearn-color-unfitted-level-2: #ffe0b3;\n",
       "  --sklearn-color-unfitted-level-3: chocolate;\n",
       "  /* Definition of color scheme for fitted estimators */\n",
       "  --sklearn-color-fitted-level-0: #f0f8ff;\n",
       "  --sklearn-color-fitted-level-1: #d4ebff;\n",
       "  --sklearn-color-fitted-level-2: #b3dbfd;\n",
       "  --sklearn-color-fitted-level-3: cornflowerblue;\n",
       "\n",
       "  /* Specific color for light theme */\n",
       "  --sklearn-color-text-on-default-background: var(--sg-text-color, var(--theme-code-foreground, var(--jp-content-font-color1, black)));\n",
       "  --sklearn-color-background: var(--sg-background-color, var(--theme-background, var(--jp-layout-color0, white)));\n",
       "  --sklearn-color-border-box: var(--sg-text-color, var(--theme-code-foreground, var(--jp-content-font-color1, black)));\n",
       "  --sklearn-color-icon: #696969;\n",
       "\n",
       "  @media (prefers-color-scheme: dark) {\n",
       "    /* Redefinition of color scheme for dark theme */\n",
       "    --sklearn-color-text-on-default-background: var(--sg-text-color, var(--theme-code-foreground, var(--jp-content-font-color1, white)));\n",
       "    --sklearn-color-background: var(--sg-background-color, var(--theme-background, var(--jp-layout-color0, #111)));\n",
       "    --sklearn-color-border-box: var(--sg-text-color, var(--theme-code-foreground, var(--jp-content-font-color1, white)));\n",
       "    --sklearn-color-icon: #878787;\n",
       "  }\n",
       "}\n",
       "\n",
       "#sk-container-id-1 {\n",
       "  color: var(--sklearn-color-text);\n",
       "}\n",
       "\n",
       "#sk-container-id-1 pre {\n",
       "  padding: 0;\n",
       "}\n",
       "\n",
       "#sk-container-id-1 input.sk-hidden--visually {\n",
       "  border: 0;\n",
       "  clip: rect(1px 1px 1px 1px);\n",
       "  clip: rect(1px, 1px, 1px, 1px);\n",
       "  height: 1px;\n",
       "  margin: -1px;\n",
       "  overflow: hidden;\n",
       "  padding: 0;\n",
       "  position: absolute;\n",
       "  width: 1px;\n",
       "}\n",
       "\n",
       "#sk-container-id-1 div.sk-dashed-wrapped {\n",
       "  border: 1px dashed var(--sklearn-color-line);\n",
       "  margin: 0 0.4em 0.5em 0.4em;\n",
       "  box-sizing: border-box;\n",
       "  padding-bottom: 0.4em;\n",
       "  background-color: var(--sklearn-color-background);\n",
       "}\n",
       "\n",
       "#sk-container-id-1 div.sk-container {\n",
       "  /* jupyter's `normalize.less` sets `[hidden] { display: none; }`\n",
       "     but bootstrap.min.css set `[hidden] { display: none !important; }`\n",
       "     so we also need the `!important` here to be able to override the\n",
       "     default hidden behavior on the sphinx rendered scikit-learn.org.\n",
       "     See: https://github.com/scikit-learn/scikit-learn/issues/21755 */\n",
       "  display: inline-block !important;\n",
       "  position: relative;\n",
       "}\n",
       "\n",
       "#sk-container-id-1 div.sk-text-repr-fallback {\n",
       "  display: none;\n",
       "}\n",
       "\n",
       "div.sk-parallel-item,\n",
       "div.sk-serial,\n",
       "div.sk-item {\n",
       "  /* draw centered vertical line to link estimators */\n",
       "  background-image: linear-gradient(var(--sklearn-color-text-on-default-background), var(--sklearn-color-text-on-default-background));\n",
       "  background-size: 2px 100%;\n",
       "  background-repeat: no-repeat;\n",
       "  background-position: center center;\n",
       "}\n",
       "\n",
       "/* Parallel-specific style estimator block */\n",
       "\n",
       "#sk-container-id-1 div.sk-parallel-item::after {\n",
       "  content: \"\";\n",
       "  width: 100%;\n",
       "  border-bottom: 2px solid var(--sklearn-color-text-on-default-background);\n",
       "  flex-grow: 1;\n",
       "}\n",
       "\n",
       "#sk-container-id-1 div.sk-parallel {\n",
       "  display: flex;\n",
       "  align-items: stretch;\n",
       "  justify-content: center;\n",
       "  background-color: var(--sklearn-color-background);\n",
       "  position: relative;\n",
       "}\n",
       "\n",
       "#sk-container-id-1 div.sk-parallel-item {\n",
       "  display: flex;\n",
       "  flex-direction: column;\n",
       "}\n",
       "\n",
       "#sk-container-id-1 div.sk-parallel-item:first-child::after {\n",
       "  align-self: flex-end;\n",
       "  width: 50%;\n",
       "}\n",
       "\n",
       "#sk-container-id-1 div.sk-parallel-item:last-child::after {\n",
       "  align-self: flex-start;\n",
       "  width: 50%;\n",
       "}\n",
       "\n",
       "#sk-container-id-1 div.sk-parallel-item:only-child::after {\n",
       "  width: 0;\n",
       "}\n",
       "\n",
       "/* Serial-specific style estimator block */\n",
       "\n",
       "#sk-container-id-1 div.sk-serial {\n",
       "  display: flex;\n",
       "  flex-direction: column;\n",
       "  align-items: center;\n",
       "  background-color: var(--sklearn-color-background);\n",
       "  padding-right: 1em;\n",
       "  padding-left: 1em;\n",
       "}\n",
       "\n",
       "\n",
       "/* Toggleable style: style used for estimator/Pipeline/ColumnTransformer box that is\n",
       "clickable and can be expanded/collapsed.\n",
       "- Pipeline and ColumnTransformer use this feature and define the default style\n",
       "- Estimators will overwrite some part of the style using the `sk-estimator` class\n",
       "*/\n",
       "\n",
       "/* Pipeline and ColumnTransformer style (default) */\n",
       "\n",
       "#sk-container-id-1 div.sk-toggleable {\n",
       "  /* Default theme specific background. It is overwritten whether we have a\n",
       "  specific estimator or a Pipeline/ColumnTransformer */\n",
       "  background-color: var(--sklearn-color-background);\n",
       "}\n",
       "\n",
       "/* Toggleable label */\n",
       "#sk-container-id-1 label.sk-toggleable__label {\n",
       "  cursor: pointer;\n",
       "  display: flex;\n",
       "  width: 100%;\n",
       "  margin-bottom: 0;\n",
       "  padding: 0.5em;\n",
       "  box-sizing: border-box;\n",
       "  text-align: center;\n",
       "  align-items: start;\n",
       "  justify-content: space-between;\n",
       "  gap: 0.5em;\n",
       "}\n",
       "\n",
       "#sk-container-id-1 label.sk-toggleable__label .caption {\n",
       "  font-size: 0.6rem;\n",
       "  font-weight: lighter;\n",
       "  color: var(--sklearn-color-text-muted);\n",
       "}\n",
       "\n",
       "#sk-container-id-1 label.sk-toggleable__label-arrow:before {\n",
       "  /* Arrow on the left of the label */\n",
       "  content: \"▸\";\n",
       "  float: left;\n",
       "  margin-right: 0.25em;\n",
       "  color: var(--sklearn-color-icon);\n",
       "}\n",
       "\n",
       "#sk-container-id-1 label.sk-toggleable__label-arrow:hover:before {\n",
       "  color: var(--sklearn-color-text);\n",
       "}\n",
       "\n",
       "/* Toggleable content - dropdown */\n",
       "\n",
       "#sk-container-id-1 div.sk-toggleable__content {\n",
       "  display: none;\n",
       "  text-align: left;\n",
       "  /* unfitted */\n",
       "  background-color: var(--sklearn-color-unfitted-level-0);\n",
       "}\n",
       "\n",
       "#sk-container-id-1 div.sk-toggleable__content.fitted {\n",
       "  /* fitted */\n",
       "  background-color: var(--sklearn-color-fitted-level-0);\n",
       "}\n",
       "\n",
       "#sk-container-id-1 div.sk-toggleable__content pre {\n",
       "  margin: 0.2em;\n",
       "  border-radius: 0.25em;\n",
       "  color: var(--sklearn-color-text);\n",
       "  /* unfitted */\n",
       "  background-color: var(--sklearn-color-unfitted-level-0);\n",
       "}\n",
       "\n",
       "#sk-container-id-1 div.sk-toggleable__content.fitted pre {\n",
       "  /* unfitted */\n",
       "  background-color: var(--sklearn-color-fitted-level-0);\n",
       "}\n",
       "\n",
       "#sk-container-id-1 input.sk-toggleable__control:checked~div.sk-toggleable__content {\n",
       "  /* Expand drop-down */\n",
       "  display: block;\n",
       "  width: 100%;\n",
       "  overflow: visible;\n",
       "}\n",
       "\n",
       "#sk-container-id-1 input.sk-toggleable__control:checked~label.sk-toggleable__label-arrow:before {\n",
       "  content: \"▾\";\n",
       "}\n",
       "\n",
       "/* Pipeline/ColumnTransformer-specific style */\n",
       "\n",
       "#sk-container-id-1 div.sk-label input.sk-toggleable__control:checked~label.sk-toggleable__label {\n",
       "  color: var(--sklearn-color-text);\n",
       "  background-color: var(--sklearn-color-unfitted-level-2);\n",
       "}\n",
       "\n",
       "#sk-container-id-1 div.sk-label.fitted input.sk-toggleable__control:checked~label.sk-toggleable__label {\n",
       "  background-color: var(--sklearn-color-fitted-level-2);\n",
       "}\n",
       "\n",
       "/* Estimator-specific style */\n",
       "\n",
       "/* Colorize estimator box */\n",
       "#sk-container-id-1 div.sk-estimator input.sk-toggleable__control:checked~label.sk-toggleable__label {\n",
       "  /* unfitted */\n",
       "  background-color: var(--sklearn-color-unfitted-level-2);\n",
       "}\n",
       "\n",
       "#sk-container-id-1 div.sk-estimator.fitted input.sk-toggleable__control:checked~label.sk-toggleable__label {\n",
       "  /* fitted */\n",
       "  background-color: var(--sklearn-color-fitted-level-2);\n",
       "}\n",
       "\n",
       "#sk-container-id-1 div.sk-label label.sk-toggleable__label,\n",
       "#sk-container-id-1 div.sk-label label {\n",
       "  /* The background is the default theme color */\n",
       "  color: var(--sklearn-color-text-on-default-background);\n",
       "}\n",
       "\n",
       "/* On hover, darken the color of the background */\n",
       "#sk-container-id-1 div.sk-label:hover label.sk-toggleable__label {\n",
       "  color: var(--sklearn-color-text);\n",
       "  background-color: var(--sklearn-color-unfitted-level-2);\n",
       "}\n",
       "\n",
       "/* Label box, darken color on hover, fitted */\n",
       "#sk-container-id-1 div.sk-label.fitted:hover label.sk-toggleable__label.fitted {\n",
       "  color: var(--sklearn-color-text);\n",
       "  background-color: var(--sklearn-color-fitted-level-2);\n",
       "}\n",
       "\n",
       "/* Estimator label */\n",
       "\n",
       "#sk-container-id-1 div.sk-label label {\n",
       "  font-family: monospace;\n",
       "  font-weight: bold;\n",
       "  display: inline-block;\n",
       "  line-height: 1.2em;\n",
       "}\n",
       "\n",
       "#sk-container-id-1 div.sk-label-container {\n",
       "  text-align: center;\n",
       "}\n",
       "\n",
       "/* Estimator-specific */\n",
       "#sk-container-id-1 div.sk-estimator {\n",
       "  font-family: monospace;\n",
       "  border: 1px dotted var(--sklearn-color-border-box);\n",
       "  border-radius: 0.25em;\n",
       "  box-sizing: border-box;\n",
       "  margin-bottom: 0.5em;\n",
       "  /* unfitted */\n",
       "  background-color: var(--sklearn-color-unfitted-level-0);\n",
       "}\n",
       "\n",
       "#sk-container-id-1 div.sk-estimator.fitted {\n",
       "  /* fitted */\n",
       "  background-color: var(--sklearn-color-fitted-level-0);\n",
       "}\n",
       "\n",
       "/* on hover */\n",
       "#sk-container-id-1 div.sk-estimator:hover {\n",
       "  /* unfitted */\n",
       "  background-color: var(--sklearn-color-unfitted-level-2);\n",
       "}\n",
       "\n",
       "#sk-container-id-1 div.sk-estimator.fitted:hover {\n",
       "  /* fitted */\n",
       "  background-color: var(--sklearn-color-fitted-level-2);\n",
       "}\n",
       "\n",
       "/* Specification for estimator info (e.g. \"i\" and \"?\") */\n",
       "\n",
       "/* Common style for \"i\" and \"?\" */\n",
       "\n",
       ".sk-estimator-doc-link,\n",
       "a:link.sk-estimator-doc-link,\n",
       "a:visited.sk-estimator-doc-link {\n",
       "  float: right;\n",
       "  font-size: smaller;\n",
       "  line-height: 1em;\n",
       "  font-family: monospace;\n",
       "  background-color: var(--sklearn-color-background);\n",
       "  border-radius: 1em;\n",
       "  height: 1em;\n",
       "  width: 1em;\n",
       "  text-decoration: none !important;\n",
       "  margin-left: 0.5em;\n",
       "  text-align: center;\n",
       "  /* unfitted */\n",
       "  border: var(--sklearn-color-unfitted-level-1) 1pt solid;\n",
       "  color: var(--sklearn-color-unfitted-level-1);\n",
       "}\n",
       "\n",
       ".sk-estimator-doc-link.fitted,\n",
       "a:link.sk-estimator-doc-link.fitted,\n",
       "a:visited.sk-estimator-doc-link.fitted {\n",
       "  /* fitted */\n",
       "  border: var(--sklearn-color-fitted-level-1) 1pt solid;\n",
       "  color: var(--sklearn-color-fitted-level-1);\n",
       "}\n",
       "\n",
       "/* On hover */\n",
       "div.sk-estimator:hover .sk-estimator-doc-link:hover,\n",
       ".sk-estimator-doc-link:hover,\n",
       "div.sk-label-container:hover .sk-estimator-doc-link:hover,\n",
       ".sk-estimator-doc-link:hover {\n",
       "  /* unfitted */\n",
       "  background-color: var(--sklearn-color-unfitted-level-3);\n",
       "  color: var(--sklearn-color-background);\n",
       "  text-decoration: none;\n",
       "}\n",
       "\n",
       "div.sk-estimator.fitted:hover .sk-estimator-doc-link.fitted:hover,\n",
       ".sk-estimator-doc-link.fitted:hover,\n",
       "div.sk-label-container:hover .sk-estimator-doc-link.fitted:hover,\n",
       ".sk-estimator-doc-link.fitted:hover {\n",
       "  /* fitted */\n",
       "  background-color: var(--sklearn-color-fitted-level-3);\n",
       "  color: var(--sklearn-color-background);\n",
       "  text-decoration: none;\n",
       "}\n",
       "\n",
       "/* Span, style for the box shown on hovering the info icon */\n",
       ".sk-estimator-doc-link span {\n",
       "  display: none;\n",
       "  z-index: 9999;\n",
       "  position: relative;\n",
       "  font-weight: normal;\n",
       "  right: .2ex;\n",
       "  padding: .5ex;\n",
       "  margin: .5ex;\n",
       "  width: min-content;\n",
       "  min-width: 20ex;\n",
       "  max-width: 50ex;\n",
       "  color: var(--sklearn-color-text);\n",
       "  box-shadow: 2pt 2pt 4pt #999;\n",
       "  /* unfitted */\n",
       "  background: var(--sklearn-color-unfitted-level-0);\n",
       "  border: .5pt solid var(--sklearn-color-unfitted-level-3);\n",
       "}\n",
       "\n",
       ".sk-estimator-doc-link.fitted span {\n",
       "  /* fitted */\n",
       "  background: var(--sklearn-color-fitted-level-0);\n",
       "  border: var(--sklearn-color-fitted-level-3);\n",
       "}\n",
       "\n",
       ".sk-estimator-doc-link:hover span {\n",
       "  display: block;\n",
       "}\n",
       "\n",
       "/* \"?\"-specific style due to the `<a>` HTML tag */\n",
       "\n",
       "#sk-container-id-1 a.estimator_doc_link {\n",
       "  float: right;\n",
       "  font-size: 1rem;\n",
       "  line-height: 1em;\n",
       "  font-family: monospace;\n",
       "  background-color: var(--sklearn-color-background);\n",
       "  border-radius: 1rem;\n",
       "  height: 1rem;\n",
       "  width: 1rem;\n",
       "  text-decoration: none;\n",
       "  /* unfitted */\n",
       "  color: var(--sklearn-color-unfitted-level-1);\n",
       "  border: var(--sklearn-color-unfitted-level-1) 1pt solid;\n",
       "}\n",
       "\n",
       "#sk-container-id-1 a.estimator_doc_link.fitted {\n",
       "  /* fitted */\n",
       "  border: var(--sklearn-color-fitted-level-1) 1pt solid;\n",
       "  color: var(--sklearn-color-fitted-level-1);\n",
       "}\n",
       "\n",
       "/* On hover */\n",
       "#sk-container-id-1 a.estimator_doc_link:hover {\n",
       "  /* unfitted */\n",
       "  background-color: var(--sklearn-color-unfitted-level-3);\n",
       "  color: var(--sklearn-color-background);\n",
       "  text-decoration: none;\n",
       "}\n",
       "\n",
       "#sk-container-id-1 a.estimator_doc_link.fitted:hover {\n",
       "  /* fitted */\n",
       "  background-color: var(--sklearn-color-fitted-level-3);\n",
       "}\n",
       "\n",
       ".estimator-table summary {\n",
       "    padding: .5rem;\n",
       "    font-family: monospace;\n",
       "    cursor: pointer;\n",
       "}\n",
       "\n",
       ".estimator-table details[open] {\n",
       "    padding-left: 0.1rem;\n",
       "    padding-right: 0.1rem;\n",
       "    padding-bottom: 0.3rem;\n",
       "}\n",
       "\n",
       ".estimator-table .parameters-table {\n",
       "    margin-left: auto !important;\n",
       "    margin-right: auto !important;\n",
       "}\n",
       "\n",
       ".estimator-table .parameters-table tr:nth-child(odd) {\n",
       "    background-color: #fff;\n",
       "}\n",
       "\n",
       ".estimator-table .parameters-table tr:nth-child(even) {\n",
       "    background-color: #f6f6f6;\n",
       "}\n",
       "\n",
       ".estimator-table .parameters-table tr:hover {\n",
       "    background-color: #e0e0e0;\n",
       "}\n",
       "\n",
       ".estimator-table table td {\n",
       "    border: 1px solid rgba(106, 105, 104, 0.232);\n",
       "}\n",
       "\n",
       ".user-set td {\n",
       "    color:rgb(255, 94, 0);\n",
       "    text-align: left;\n",
       "}\n",
       "\n",
       ".user-set td.value pre {\n",
       "    color:rgb(255, 94, 0) !important;\n",
       "    background-color: transparent !important;\n",
       "}\n",
       "\n",
       ".default td {\n",
       "    color: black;\n",
       "    text-align: left;\n",
       "}\n",
       "\n",
       ".user-set td i,\n",
       ".default td i {\n",
       "    color: black;\n",
       "}\n",
       "\n",
       ".copy-paste-icon {\n",
       "    background-image: url(data:image/svg+xml;base64,PHN2ZyB4bWxucz0iaHR0cDovL3d3dy53My5vcmcvMjAwMC9zdmciIHZpZXdCb3g9IjAgMCA0NDggNTEyIj48IS0tIUZvbnQgQXdlc29tZSBGcmVlIDYuNy4yIGJ5IEBmb250YXdlc29tZSAtIGh0dHBzOi8vZm9udGF3ZXNvbWUuY29tIExpY2Vuc2UgLSBodHRwczovL2ZvbnRhd2Vzb21lLmNvbS9saWNlbnNlL2ZyZWUgQ29weXJpZ2h0IDIwMjUgRm9udGljb25zLCBJbmMuLS0+PHBhdGggZD0iTTIwOCAwTDMzMi4xIDBjMTIuNyAwIDI0LjkgNS4xIDMzLjkgMTQuMWw2Ny45IDY3LjljOSA5IDE0LjEgMjEuMiAxNC4xIDMzLjlMNDQ4IDMzNmMwIDI2LjUtMjEuNSA0OC00OCA0OGwtMTkyIDBjLTI2LjUgMC00OC0yMS41LTQ4LTQ4bDAtMjg4YzAtMjYuNSAyMS41LTQ4IDQ4LTQ4ek00OCAxMjhsODAgMCAwIDY0LTY0IDAgMCAyNTYgMTkyIDAgMC0zMiA2NCAwIDAgNDhjMCAyNi41LTIxLjUgNDgtNDggNDhMNDggNTEyYy0yNi41IDAtNDgtMjEuNS00OC00OEwwIDE3NmMwLTI2LjUgMjEuNS00OCA0OC00OHoiLz48L3N2Zz4=);\n",
       "    background-repeat: no-repeat;\n",
       "    background-size: 14px 14px;\n",
       "    background-position: 0;\n",
       "    display: inline-block;\n",
       "    width: 14px;\n",
       "    height: 14px;\n",
       "    cursor: pointer;\n",
       "}\n",
       "</style><body><div id=\"sk-container-id-1\" class=\"sk-top-container\"><div class=\"sk-text-repr-fallback\"><pre>LinearRegression()</pre><b>In a Jupyter environment, please rerun this cell to show the HTML representation or trust the notebook. <br />On GitHub, the HTML representation is unable to render, please try loading this page with nbviewer.org.</b></div><div class=\"sk-container\" hidden><div class=\"sk-item\"><div class=\"sk-estimator fitted sk-toggleable\"><input class=\"sk-toggleable__control sk-hidden--visually\" id=\"sk-estimator-id-1\" type=\"checkbox\" checked><label for=\"sk-estimator-id-1\" class=\"sk-toggleable__label fitted sk-toggleable__label-arrow\"><div><div>LinearRegression</div></div><div><a class=\"sk-estimator-doc-link fitted\" rel=\"noreferrer\" target=\"_blank\" href=\"https://scikit-learn.org/1.7/modules/generated/sklearn.linear_model.LinearRegression.html\">?<span>Documentation for LinearRegression</span></a><span class=\"sk-estimator-doc-link fitted\">i<span>Fitted</span></span></div></label><div class=\"sk-toggleable__content fitted\" data-param-prefix=\"\">\n",
       "        <div class=\"estimator-table\">\n",
       "            <details>\n",
       "                <summary>Parameters</summary>\n",
       "                <table class=\"parameters-table\">\n",
       "                  <tbody>\n",
       "                    \n",
       "        <tr class=\"default\">\n",
       "            <td><i class=\"copy-paste-icon\"\n",
       "                 onclick=\"copyToClipboard('fit_intercept',\n",
       "                          this.parentElement.nextElementSibling)\"\n",
       "            ></i></td>\n",
       "            <td class=\"param\">fit_intercept&nbsp;</td>\n",
       "            <td class=\"value\">True</td>\n",
       "        </tr>\n",
       "    \n",
       "\n",
       "        <tr class=\"default\">\n",
       "            <td><i class=\"copy-paste-icon\"\n",
       "                 onclick=\"copyToClipboard('copy_X',\n",
       "                          this.parentElement.nextElementSibling)\"\n",
       "            ></i></td>\n",
       "            <td class=\"param\">copy_X&nbsp;</td>\n",
       "            <td class=\"value\">True</td>\n",
       "        </tr>\n",
       "    \n",
       "\n",
       "        <tr class=\"default\">\n",
       "            <td><i class=\"copy-paste-icon\"\n",
       "                 onclick=\"copyToClipboard('tol',\n",
       "                          this.parentElement.nextElementSibling)\"\n",
       "            ></i></td>\n",
       "            <td class=\"param\">tol&nbsp;</td>\n",
       "            <td class=\"value\">1e-06</td>\n",
       "        </tr>\n",
       "    \n",
       "\n",
       "        <tr class=\"default\">\n",
       "            <td><i class=\"copy-paste-icon\"\n",
       "                 onclick=\"copyToClipboard('n_jobs',\n",
       "                          this.parentElement.nextElementSibling)\"\n",
       "            ></i></td>\n",
       "            <td class=\"param\">n_jobs&nbsp;</td>\n",
       "            <td class=\"value\">None</td>\n",
       "        </tr>\n",
       "    \n",
       "\n",
       "        <tr class=\"default\">\n",
       "            <td><i class=\"copy-paste-icon\"\n",
       "                 onclick=\"copyToClipboard('positive',\n",
       "                          this.parentElement.nextElementSibling)\"\n",
       "            ></i></td>\n",
       "            <td class=\"param\">positive&nbsp;</td>\n",
       "            <td class=\"value\">False</td>\n",
       "        </tr>\n",
       "    \n",
       "                  </tbody>\n",
       "                </table>\n",
       "            </details>\n",
       "        </div>\n",
       "    </div></div></div></div></div><script>function copyToClipboard(text, element) {\n",
       "    // Get the parameter prefix from the closest toggleable content\n",
       "    const toggleableContent = element.closest('.sk-toggleable__content');\n",
       "    const paramPrefix = toggleableContent ? toggleableContent.dataset.paramPrefix : '';\n",
       "    const fullParamName = paramPrefix ? `${paramPrefix}${text}` : text;\n",
       "\n",
       "    const originalStyle = element.style;\n",
       "    const computedStyle = window.getComputedStyle(element);\n",
       "    const originalWidth = computedStyle.width;\n",
       "    const originalHTML = element.innerHTML.replace('Copied!', '');\n",
       "\n",
       "    navigator.clipboard.writeText(fullParamName)\n",
       "        .then(() => {\n",
       "            element.style.width = originalWidth;\n",
       "            element.style.color = 'green';\n",
       "            element.innerHTML = \"Copied!\";\n",
       "\n",
       "            setTimeout(() => {\n",
       "                element.innerHTML = originalHTML;\n",
       "                element.style = originalStyle;\n",
       "            }, 2000);\n",
       "        })\n",
       "        .catch(err => {\n",
       "            console.error('Failed to copy:', err);\n",
       "            element.style.color = 'red';\n",
       "            element.innerHTML = \"Failed!\";\n",
       "            setTimeout(() => {\n",
       "                element.innerHTML = originalHTML;\n",
       "                element.style = originalStyle;\n",
       "            }, 2000);\n",
       "        });\n",
       "    return false;\n",
       "}\n",
       "\n",
       "document.querySelectorAll('.fa-regular.fa-copy').forEach(function(element) {\n",
       "    const toggleableContent = element.closest('.sk-toggleable__content');\n",
       "    const paramPrefix = toggleableContent ? toggleableContent.dataset.paramPrefix : '';\n",
       "    const paramName = element.parentElement.nextElementSibling.textContent.trim();\n",
       "    const fullParamName = paramPrefix ? `${paramPrefix}${paramName}` : paramName;\n",
       "\n",
       "    element.setAttribute('title', fullParamName);\n",
       "});\n",
       "</script></body>"
      ]
     },
     "execution_count": 9,
     "metadata": {},
     "output_type": "execute_result"
    }
   ],
   "execution_count": 9
  },
  {
   "cell_type": "markdown",
   "source": [
    ".predict(X_test) → Uses the trained model to predict labels for unseen test data.\n",
    "\n",
    "Produces y_pred — an array of predicted class labels.\n",
    "\n",
    "accuracy_score(y_test, y_pred) → Calculates the fraction of correct predictions (values between 0 and 1)."
   ],
   "metadata": {
    "id": "_AV337aUkI9l"
   },
   "id": "_AV337aUkI9l"
  },
  {
   "cell_type": "markdown",
   "source": [
    "Mean Squared Error (MSE) is the most common loss function used in linear regression. It measures how far the predicted values are from the true values by squaring the difference and then averaging over all data points.\n",
    "\n",
    "Formula:\n",
    "MSE = (1/n) * Σ (y_true - y_pred)²\n",
    "\n",
    "Where\n",
    "\n",
    "n = number of samples\n",
    "\n",
    "y_true = actual target values\n",
    "\n",
    "y_pred = predicted target values\n",
    "\n",
    "Why squared?\n",
    "\n",
    "Squaring ensures all errors are positive.\n",
    "\n",
    "It penalizes larger errors more strongly than smaller ones."
   ],
   "metadata": {
    "id": "kkIDoFC3smVp"
   },
   "id": "kkIDoFC3smVp"
  },
  {
   "cell_type": "code",
   "source": [
    "y_pred = model.predict(X_test)\n",
    "\n",
    "\n",
    "print(\"Mean Squared Error:\", mean_squared_error(y_test, y_pred))\n"
   ],
   "metadata": {
    "colab": {
     "base_uri": "https://localhost:8080/"
    },
    "id": "AXa7ZFcOWP-m",
    "outputId": "42dad193-b3ee-4aeb-c518-7ace03805c26",
    "ExecuteTime": {
     "end_time": "2025-09-07T13:04:47.807609Z",
     "start_time": "2025-09-07T13:04:47.784612Z"
    }
   },
   "id": "AXa7ZFcOWP-m",
   "outputs": [
    {
     "name": "stdout",
     "output_type": "stream",
     "text": [
      "Mean Squared Error: 0.1300162603138268\n"
     ]
    }
   ],
   "execution_count": 10
  },
  {
   "cell_type": "markdown",
   "source": [
    "# PyTorch vs TensorFlow: Linear Regression with Gradients\n",
    "\n",
    "We use a simple **linear regression** model:\n",
    "\\[\n",
    "$$ y \\approx wX + b $$\n",
    "\\]\n",
    "---\n",
    "\n",
    "## 🔹 What are Gradients?\n",
    "- The **loss** is the Mean Squared Error (MSE):\n",
    "\n",
    "\\[\n",
    "$$ L = \\frac{1}{N} \\sum (y - (wX+b))^2 $$\n",
    "\\]\n",
    "\n",
    "- We want **derivatives**:\n",
    "  - Gradient wrt `w`:  \\($\\frac{\\partial L}{\\partial w}$\\)  \n",
    "  - Gradient wrt `b`:  \\($\\frac{\\partial L}{\\partial b}$\\)\n",
    "\n",
    "These gradients tell us how much the loss changes when we tweak `w` or `b`.  \n",
    "They are essential for optimization (gradient descent).\n",
    "\n",
    "---\n"
   ],
   "metadata": {
    "id": "HPwZM0Qzu2Cn"
   },
   "id": "HPwZM0Qzu2Cn"
  },
  {
   "cell_type": "code",
   "source": [
    "import torch\n",
    "\n",
    "# Random data\n",
    "X = torch.rand(100, 1)\n",
    "y = 3*X + 2 + 0.1*torch.randn(100, 1)\n",
    "\n",
    "# Parameters (with gradients enabled)\n",
    "w = torch.randn(1, requires_grad=True)\n",
    "b = torch.randn(1, requires_grad=True)\n",
    "\n",
    "# Prediction\n",
    "y_pred = w*X + b\n",
    "\n",
    "# Mean Squared Error\n",
    "loss = torch.mean((y - y_pred)**2)\n",
    "\n",
    "# Backprop (compute gradients)\n",
    "loss.backward()\n",
    "\n",
    "print(\"Loss:\", loss.item())\n",
    "print(\"Gradient w:\", w.grad.item(), \"Gradient b:\", b.grad.item())"
   ],
   "metadata": {
    "colab": {
     "base_uri": "https://localhost:8080/"
    },
    "id": "BYe-kEOjtSJd",
    "outputId": "c8141876-4b52-4c11-e20b-7a969643fa72",
    "ExecuteTime": {
     "end_time": "2025-09-07T13:04:47.934610Z",
     "start_time": "2025-09-07T13:04:47.830612Z"
    }
   },
   "id": "BYe-kEOjtSJd",
   "outputs": [
    {
     "name": "stdout",
     "output_type": "stream",
     "text": [
      "Loss: 6.827523231506348\n",
      "Gradient w: -2.9434878826141357 Gradient b: -5.046761512756348\n"
     ]
    }
   ],
   "execution_count": 11
  },
  {
   "cell_type": "code",
   "source": [
    "import tensorflow as tf\n",
    "\n",
    "# Random data\n",
    "X = tf.random.uniform((100, 1))\n",
    "y = 3*X + 2 + 0.1*tf.random.normal((100, 1))\n",
    "\n",
    "# Parameters as Variables\n",
    "w = tf.Variable(tf.random.normal((1,)))\n",
    "b = tf.Variable(tf.random.normal((1,)))\n",
    "\n",
    "# GradientTape to record operations\n",
    "with tf.GradientTape() as tape:\n",
    "    y_pred = w*X + b\n",
    "    loss = tf.reduce_mean((y - y_pred)**2)\n",
    "\n",
    "# Compute gradients wrt w and b\n",
    "grads = tape.gradient(loss, [w, b])\n",
    "print(\"Loss:\", loss.numpy())\n",
    "print(\"Gradient w:\", grads[0].numpy(), \"Gradient b:\", grads[1].numpy())"
   ],
   "metadata": {
    "colab": {
     "base_uri": "https://localhost:8080/"
    },
    "id": "yqZQRiwewDm-",
    "outputId": "bc07171e-1c63-4242-ea9c-0759a5872c6e",
    "ExecuteTime": {
     "end_time": "2025-09-07T13:04:48.167259Z",
     "start_time": "2025-09-07T13:04:47.951610Z"
    }
   },
   "id": "yqZQRiwewDm-",
   "outputs": [
    {
     "name": "stdout",
     "output_type": "stream",
     "text": [
      "Loss: 2.9597814\n",
      "Gradient w: [-1.8526944] Gradient b: [-3.295917]\n"
     ]
    }
   ],
   "execution_count": 12
  },
  {
   "cell_type": "markdown",
   "id": "0ec60439",
   "metadata": {
    "id": "0ec60439"
   },
   "source": [
    "## 4. Demo: TensorFlow – Simple Neural Network"
   ]
  },
  {
   "cell_type": "code",
   "id": "8c1400af",
   "metadata": {
    "id": "8c1400af",
    "ExecuteTime": {
     "end_time": "2025-09-07T13:04:48.203868Z",
     "start_time": "2025-09-07T13:04:48.188573Z"
    }
   },
   "source": [
    "import tensorflow as tf\n",
    "from tensorflow.keras import layers, models\n",
    "import numpy as np\n",
    "\n",
    "# Random data: 100 samples, 10 features\n",
    "X = np.random.rand(100, 10)\n",
    "y = np.random.randint(0, 2, size=(100,))"
   ],
   "outputs": [],
   "execution_count": 13
  },
  {
   "cell_type": "markdown",
   "source": [
    "np.random.rand(100, 10) → Creates a NumPy array of shape (100, 10) with random values between 0 and 1.\n",
    "\n",
    "Simulates 100 samples, each with 10 features.\n",
    "\n",
    "np.random.randint(0, 2, size=(100,)) → Creates an array of random integers 0 or 1, shape (100,).\n",
    "\n",
    "This simulates binary classification labels (0 = class A, 1 = class B)."
   ],
   "metadata": {
    "id": "0IlJDRrti_w5"
   },
   "id": "0IlJDRrti_w5"
  },
  {
   "cell_type": "code",
   "source": [
    "# Build model\n",
    "model = models.Sequential([\n",
    "    layers.Dense(16, activation='relu', input_shape=(10,)),\n",
    "    layers.Dense(1, activation='sigmoid')\n",
    "])"
   ],
   "metadata": {
    "id": "wTCW127-h8_1",
    "ExecuteTime": {
     "end_time": "2025-09-07T13:04:48.324436Z",
     "start_time": "2025-09-07T13:04:48.237840Z"
    }
   },
   "id": "wTCW127-h8_1",
   "outputs": [
    {
     "name": "stderr",
     "output_type": "stream",
     "text": [
      "C:\\Users\\Roktim\\AppData\\Local\\Programs\\Python\\Python310\\lib\\site-packages\\keras\\src\\layers\\core\\dense.py:92: UserWarning: Do not pass an `input_shape`/`input_dim` argument to a layer. When using Sequential models, prefer using an `Input(shape)` object as the first layer in the model instead.\n",
      "  super().__init__(activity_regularizer=activity_regularizer, **kwargs)\n"
     ]
    }
   ],
   "execution_count": 14
  },
  {
   "cell_type": "markdown",
   "source": [
    "models.Sequential([...]) → Creates a Sequential model, meaning layers are stacked one after the other.\n",
    "\n",
    "layers.Dense(16, activation='relu', input_shape=(10,)) →\n",
    "\n",
    "Fully connected layer with 16 neurons.\n",
    "\n",
    "activation='relu' → Rectified Linear Unit activation, sets negative outputs to 0.\n",
    "\n",
    "input_shape=(10,) → The model expects 10 features for each sample.\n",
    "\n",
    "layers.Dense(1, activation='sigmoid') → Output layer:\n",
    "\n",
    "1 neuron → outputs a single probability.\n",
    "\n",
    "Sigmoid activation squashes output between 0 and 1, suitable for binary classification."
   ],
   "metadata": {
    "id": "iiy5UuAOh6w4"
   },
   "id": "iiy5UuAOh6w4"
  },
  {
   "cell_type": "code",
   "source": [
    "model.compile(optimizer='adam', loss='binary_crossentropy', metrics=['accuracy'])"
   ],
   "metadata": {
    "id": "2UZ9j2XOh_YL",
    "ExecuteTime": {
     "end_time": "2025-09-07T13:04:48.408510Z",
     "start_time": "2025-09-07T13:04:48.389060Z"
    }
   },
   "id": "2UZ9j2XOh_YL",
   "outputs": [],
   "execution_count": 15
  },
  {
   "cell_type": "markdown",
   "source": [
    "optimizer='adam' → Optimization algorithm that adjusts weights using gradients (fast & adaptive learning rates).\n",
    "\n",
    "loss='binary_crossentropy' → Loss function for binary classification using probabilities.\n",
    "\n",
    "metrics=['accuracy'] → We want to track accuracy during training."
   ],
   "metadata": {
    "id": "hBIZKGspiCRI"
   },
   "id": "hBIZKGspiCRI"
  },
  {
   "cell_type": "markdown",
   "source": [
    "**Forward Pass**\n",
    "\n",
    "For each batch of data, TensorFlow runs the model’s call()/forward() function to compute predictions (y_pred).\n",
    "\n",
    "It applies the layers in sequence (Dense, ReLU, etc.).\n",
    "\n",
    "**Loss Computation**\n",
    "\n",
    "Compares predictions (y_pred) against ground truth (y) using the loss function defined in model.compile(...).\n",
    "\n",
    "**Gradient Calculation (Backpropagation)**\n",
    "\n",
    "Uses autograd (via tf.GradientTape) to automatically compute gradients of the loss w.r.t model parameters.\n",
    "\n",
    "**Optimizer Step**\n",
    "\n",
    "Updates weights using the optimizer (e.g., SGD, Adam) chosen in compile.\n",
    "\n",
    "\n",
    "**Metrics Tracking**\n",
    "\n",
    "Evaluates accuracy, loss, or other metrics on each batch/epoch if specified.\n",
    "\n",
    "**Looping**\n",
    "\n",
    "Repeats this process for each batch in each epoch."
   ],
   "metadata": {
    "id": "mubrhdNO2eHa"
   },
   "id": "mubrhdNO2eHa"
  },
  {
   "cell_type": "code",
   "source": [
    "# Train\n",
    "model.fit(X, y, epochs=5, batch_size=8)"
   ],
   "metadata": {
    "id": "sw9iv3YliApD",
    "ExecuteTime": {
     "end_time": "2025-09-07T13:04:49.980179Z",
     "start_time": "2025-09-07T13:04:48.424331Z"
    }
   },
   "id": "sw9iv3YliApD",
   "outputs": [
    {
     "name": "stdout",
     "output_type": "stream",
     "text": [
      "Epoch 1/5\n",
      "\u001B[1m13/13\u001B[0m \u001B[32m━━━━━━━━━━━━━━━━━━━━\u001B[0m\u001B[37m\u001B[0m \u001B[1m1s\u001B[0m 4ms/step - accuracy: 0.5200 - loss: 0.6984\n",
      "Epoch 2/5\n",
      "\u001B[1m13/13\u001B[0m \u001B[32m━━━━━━━━━━━━━━━━━━━━\u001B[0m\u001B[37m\u001B[0m \u001B[1m0s\u001B[0m 3ms/step - accuracy: 0.5200 - loss: 0.6962 \n",
      "Epoch 3/5\n",
      "\u001B[1m13/13\u001B[0m \u001B[32m━━━━━━━━━━━━━━━━━━━━\u001B[0m\u001B[37m\u001B[0m \u001B[1m0s\u001B[0m 3ms/step - accuracy: 0.5200 - loss: 0.6950 \n",
      "Epoch 4/5\n",
      "\u001B[1m13/13\u001B[0m \u001B[32m━━━━━━━━━━━━━━━━━━━━\u001B[0m\u001B[37m\u001B[0m \u001B[1m0s\u001B[0m 3ms/step - accuracy: 0.5200 - loss: 0.6932 \n",
      "Epoch 5/5\n",
      "\u001B[1m13/13\u001B[0m \u001B[32m━━━━━━━━━━━━━━━━━━━━\u001B[0m\u001B[37m\u001B[0m \u001B[1m0s\u001B[0m 2ms/step - accuracy: 0.5400 - loss: 0.6919 \n"
     ]
    },
    {
     "data": {
      "text/plain": [
       "<keras.src.callbacks.history.History at 0x18b8354d150>"
      ]
     },
     "execution_count": 16,
     "metadata": {},
     "output_type": "execute_result"
    }
   ],
   "execution_count": 16
  },
  {
   "cell_type": "markdown",
   "source": [
    "epochs=5 → Go through the entire dataset 5 times.\n",
    "\n",
    "batch_size=8 → Process data in batches of 8 samples before updating weights."
   ],
   "metadata": {
    "id": "_nKuXjXWiCrZ"
   },
   "id": "_nKuXjXWiCrZ"
  },
  {
   "cell_type": "code",
   "source": [
    "loss, accuracy = model.evaluate(X, y, verbose=0)\n",
    "print(\"Loss:\", loss)\n",
    "print(\"Accuracy:\", accuracy)"
   ],
   "metadata": {
    "id": "Xe6f3KQlfrF3",
    "ExecuteTime": {
     "end_time": "2025-09-07T13:04:50.139193Z",
     "start_time": "2025-09-07T13:04:49.994174Z"
    }
   },
   "id": "Xe6f3KQlfrF3",
   "outputs": [
    {
     "name": "stdout",
     "output_type": "stream",
     "text": [
      "Loss: 0.6910519599914551\n",
      "Accuracy: 0.5400000214576721\n"
     ]
    }
   ],
   "execution_count": 17
  },
  {
   "cell_type": "code",
   "source": [
    "# Predict probabilities\n",
    "y_pred_prob = model.predict(X)\n",
    "\n",
    "# Convert probabilities to class labels (if classification)\n",
    "import numpy as np\n",
    "y_pred = np.argmax(y_pred_prob, axis=1)\n",
    "\n",
    "print(\"Predicted classes:\", y_pred[:10])"
   ],
   "metadata": {
    "id": "AXmZqKgYgS4E",
    "ExecuteTime": {
     "end_time": "2025-09-07T13:04:50.282761Z",
     "start_time": "2025-09-07T13:04:50.156933Z"
    }
   },
   "id": "AXmZqKgYgS4E",
   "outputs": [
    {
     "name": "stdout",
     "output_type": "stream",
     "text": [
      "\u001B[1m4/4\u001B[0m \u001B[32m━━━━━━━━━━━━━━━━━━━━\u001B[0m\u001B[37m\u001B[0m \u001B[1m0s\u001B[0m 13ms/step\n",
      "Predicted classes: [0 0 0 0 0 0 0 0 0 0]\n"
     ]
    }
   ],
   "execution_count": 18
  },
  {
   "cell_type": "code",
   "source": [],
   "metadata": {
    "id": "6uOF2EhIftt5",
    "ExecuteTime": {
     "end_time": "2025-09-07T13:04:50.298765Z",
     "start_time": "2025-09-07T13:04:50.294762Z"
    }
   },
   "id": "6uOF2EhIftt5",
   "outputs": [],
   "execution_count": null
  },
  {
   "cell_type": "markdown",
   "id": "bf684484",
   "metadata": {
    "id": "bf684484"
   },
   "source": [
    "## 5. Demo: PyTorch – Simple Neural Network"
   ]
  },
  {
   "cell_type": "markdown",
   "source": [
    "torch – the main PyTorch package for tensors and core operations.\n",
    "\n",
    "torch.nn – contains tools to build neural networks (layers, activations, loss functions).\n",
    "\n",
    "torch.optim – contains optimization algorithms like Adam, SGD, RMSP"
   ],
   "metadata": {
    "id": "yxJe0ipAgAP1"
   },
   "id": "yxJe0ipAgAP1"
  },
  {
   "cell_type": "code",
   "source": [
    "import torch\n",
    "import torch.nn as nn\n",
    "import torch.optim as optim"
   ],
   "metadata": {
    "id": "qNd9CVjKgDs4",
    "ExecuteTime": {
     "end_time": "2025-09-07T13:04:50.314760Z",
     "start_time": "2025-09-07T13:04:50.305767Z"
    }
   },
   "id": "qNd9CVjKgDs4",
   "outputs": [],
   "execution_count": 19
  },
  {
   "cell_type": "code",
   "source": [
    "# Random data\n",
    "X = torch.rand(100, 10)\n",
    "y = torch.randint(0, 2, (100,), dtype=torch.float32)"
   ],
   "metadata": {
    "id": "9c83RbRWgF-g",
    "ExecuteTime": {
     "end_time": "2025-09-07T13:04:50.345765Z",
     "start_time": "2025-09-07T13:04:50.336762Z"
    }
   },
   "id": "9c83RbRWgF-g",
   "outputs": [],
   "execution_count": 20
  },
  {
   "cell_type": "code",
   "id": "6efba878",
   "metadata": {
    "id": "6efba878",
    "ExecuteTime": {
     "end_time": "2025-09-07T13:04:50.367945Z",
     "start_time": "2025-09-07T13:04:50.353851Z"
    }
   },
   "source": [
    "# Model\n",
    "class SimpleNN(nn.Module):\n",
    "    def __init__(self):\n",
    "        super().__init__()\n",
    "        self.fc1 = nn.Linear(10, 16)\n",
    "        self.relu = nn.ReLU()\n",
    "        self.fc2 = nn.Linear(16, 1)\n",
    "        self.sigmoid = nn.Sigmoid()\n",
    "    def forward(self, x):\n",
    "        return self.sigmoid(self.fc2(self.relu(self.fc1(x))))\n",
    "# Defines how data flows through the network:\n",
    "# Input x goes to fc1 layer.\n",
    "# Apply ReLU activation.\n",
    "# Output goes to fc2 layer.\n",
    "# Apply Sigmoid to get probability between 0 and 1."
   ],
   "outputs": [],
   "execution_count": 21
  },
  {
   "cell_type": "code",
   "source": [
    "model = SimpleNN()\n",
    "criterion = nn.BCELoss()\n",
    "optimizer = optim.Adam(model.parameters(), lr=0.01)"
   ],
   "metadata": {
    "id": "BNklZyrqgjSv",
    "ExecuteTime": {
     "end_time": "2025-09-07T13:04:51.933081Z",
     "start_time": "2025-09-07T13:04:50.374849Z"
    }
   },
   "id": "BNklZyrqgjSv",
   "outputs": [],
   "execution_count": 22
  },
  {
   "cell_type": "code",
   "source": [
    "# Train loop\n",
    "for epoch in range(5):\n",
    "    optimizer.zero_grad()\n",
    "    outputs = model(X).squeeze()\n",
    "    loss = criterion(outputs, y)\n",
    "    loss.backward()\n",
    "    optimizer.step()\n",
    "    print(f'Epoch {epoch+1}, Loss: {loss.item():.4f}')"
   ],
   "metadata": {
    "id": "Evhbm500gk5X",
    "ExecuteTime": {
     "end_time": "2025-09-07T13:04:51.990521Z",
     "start_time": "2025-09-07T13:04:51.943455Z"
    }
   },
   "id": "Evhbm500gk5X",
   "outputs": [
    {
     "name": "stdout",
     "output_type": "stream",
     "text": [
      "Epoch 1, Loss: 0.7050\n",
      "Epoch 2, Loss: 0.7001\n",
      "Epoch 3, Loss: 0.6969\n",
      "Epoch 4, Loss: 0.6946\n",
      "Epoch 5, Loss: 0.6927\n"
     ]
    }
   ],
   "execution_count": 23
  },
  {
   "cell_type": "markdown",
   "id": "11f0ded7",
   "metadata": {
    "id": "11f0ded7"
   },
   "source": [
    "## 6. Summary\n",
    "- **scikit-learn** → Best for small to medium datasets, quick models, classical algorithms.\n",
    "- **TensorFlow** → Best for scalable deep learning models, production deployment.\n",
    "- **PyTorch** → Best for flexible, experimental deep learning research."
   ]
  }
 ],
 "metadata": {
  "colab": {
   "provenance": []
  },
  "language_info": {
   "name": "python"
  },
  "kernelspec": {
   "name": "python3",
   "display_name": "Python 3 (ipykernel)",
   "language": "python"
  }
 },
 "nbformat": 4,
 "nbformat_minor": 5
}
