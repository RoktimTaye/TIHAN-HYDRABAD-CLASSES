{
 "cells": [
  {
   "cell_type": "code",
   "id": "initial_id",
   "metadata": {
    "collapsed": true,
    "ExecuteTime": {
     "end_time": "2025-09-08T05:23:42.613311Z",
     "start_time": "2025-09-08T05:23:41.158453Z"
    }
   },
   "source": [
    "import torch\n",
    "import torch.nn as nn\n",
    "import torch.optim as optim"
   ],
   "outputs": [],
   "execution_count": 1
  },
  {
   "metadata": {
    "ExecuteTime": {
     "end_time": "2025-09-08T05:23:42.629305Z",
     "start_time": "2025-09-08T05:23:42.619304Z"
    }
   },
   "cell_type": "code",
   "source": [
    "x = torch.rand(100,10)\n",
    "y = torch.randint(0,2,(100,),dtype=torch.float32)"
   ],
   "id": "5e9420e2d3d8d1e0",
   "outputs": [],
   "execution_count": 2
  },
  {
   "metadata": {
    "ExecuteTime": {
     "end_time": "2025-09-08T05:23:42.644763Z",
     "start_time": "2025-09-08T05:23:42.637306Z"
    }
   },
   "cell_type": "code",
   "source": [
    "class SimpleNN(nn.Module):\n",
    "    def __init__(self):\n",
    "        super(SimpleNN, self).__init__()\n",
    "    def __init__(self):\n",
    "        super().__init__() #Bug : eeXTRA USELESS __INIT__()\n",
    "        self.fc1 = nn.Linear(10,16)\n",
    "        self.relu = nn.ReLU()\n",
    "        self.fc2 = nn.Linear(16,1)\n",
    "        self.sigmoid = nn.Sigmoid()\n",
    "    def forward(self,x):\n",
    "        return self.sigmoid(self.fc2(self.relu(self.fc1(x))))"
   ],
   "id": "500d45d6747e5f7f",
   "outputs": [],
   "execution_count": 3
  },
  {
   "metadata": {
    "ExecuteTime": {
     "end_time": "2025-09-08T05:23:44.600135Z",
     "start_time": "2025-09-08T05:23:42.652766Z"
    }
   },
   "cell_type": "code",
   "source": [
    "model = SimpleNN()\n",
    "criterion = nn.BCELoss()\n",
    "optimizer = optim.Adam(model.parameters(), lr=0.01)"
   ],
   "id": "cca0a27501a2ee76",
   "outputs": [],
   "execution_count": 4
  }
 ],
 "metadata": {
  "kernelspec": {
   "display_name": "Python 3",
   "language": "python",
   "name": "python3"
  },
  "language_info": {
   "codemirror_mode": {
    "name": "ipython",
    "version": 2
   },
   "file_extension": ".py",
   "mimetype": "text/x-python",
   "name": "python",
   "nbconvert_exporter": "python",
   "pygments_lexer": "ipython2",
   "version": "2.7.6"
  }
 },
 "nbformat": 4,
 "nbformat_minor": 5
}
