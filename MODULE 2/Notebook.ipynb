{
 "cells": [
  {
   "cell_type": "code",
   "execution_count": null,
   "metadata": {
    "ExecuteTime": {
     "end_time": "2025-09-02T10:53:22.683745Z",
     "start_time": "2025-09-02T10:53:22.582508Z"
    },
    "id": "RvR3Ib7D0dfV"
   },
   "outputs": [],
   "source": [
    "# Handling Missing Data & Outliers in UAV Dataset\n",
    "\n",
    "import pandas as pd\n",
    "import numpy as np\n",
    "import seaborn as sns\n",
    "import matplotlib.pyplot as plt\n",
    "\n",
    "from sklearn.model_selection import train_test_split\n",
    "from sklearn.linear_model import LinearRegression\n",
    "from sklearn.impute import SimpleImputer, KNNImputer\n",
    "from sklearn.metrics import mean_squared_error\n"
   ]
  },
  {
   "cell_type": "code",
   "execution_count": null,
   "metadata": {
    "ExecuteTime": {
     "end_time": "2025-09-02T10:53:22.982331Z",
     "start_time": "2025-09-02T10:53:22.713262Z"
    },
    "colab": {
     "base_uri": "https://localhost:8080/",
     "height": 224
    },
    "id": "g2PUGLMI05lU",
    "outputId": "1d5eb626-4ed8-4527-a086-c788fb041642"
   },
   "outputs": [],
   "source": [
    "# Load Titanic dataset\n",
    "titanic = sns.load_dataset(\"titanic\")\n",
    "print(titanic.shape)\n",
    "titanic.head()\n"
   ]
  },
  {
   "cell_type": "code",
   "execution_count": null,
   "metadata": {
    "ExecuteTime": {
     "end_time": "2025-09-02T10:53:23.367633Z",
     "start_time": "2025-09-02T10:53:23.015260Z"
    },
    "colab": {
     "base_uri": "https://localhost:8080/",
     "height": 817
    },
    "id": "vWl-8GJ4ri4f",
    "outputId": "345f0ad7-9cc5-42b9-92ea-9872c60587e4"
   },
   "outputs": [],
   "source": [
    "# Missing summary\n",
    "print(titanic.isna().sum())\n",
    "\n",
    "# Visual heatmap\n",
    "sns.heatmap(titanic.isna(), cbar=False)\n",
    "plt.title(\"Missing Data Heatmap\")\n",
    "plt.show()\n"
   ]
  },
  {
   "cell_type": "code",
   "execution_count": null,
   "metadata": {
    "ExecuteTime": {
     "end_time": "2025-09-02T10:53:23.437325Z",
     "start_time": "2025-09-02T10:53:23.393718Z"
    },
    "colab": {
     "base_uri": "https://localhost:8080/"
    },
    "id": "cVArI8NZrnGG",
    "outputId": "df9f9af3-1c25-4340-eb02-0d7ac37c73f1"
   },
   "outputs": [],
   "source": [
    "# Drop rows with any missing age\n",
    "drop_rows = titanic.dropna(subset=['age'])\n",
    "print(\"Before:\", titanic.shape, \"After:\", drop_rows.shape)\n",
    "\n",
    "# Drop columns with too many NaNs\n",
    "drop_cols = titanic.drop(columns=['deck'])\n",
    "print(\"Dropped 'deck' → Shape:\", drop_cols.shape)\n",
    "\n",
    "# Drop rows with too many NaNs (keep rows with at least 13 non-NaN values)\n",
    "drop_thresh = titanic.dropna(thresh=14)\n",
    "print(\"After threshold deletion:\", drop_thresh.shape)"
   ]
  },
  {
   "cell_type": "code",
   "execution_count": null,
   "metadata": {
    "ExecuteTime": {
     "end_time": "2025-09-02T10:53:23.781207Z",
     "start_time": "2025-09-02T10:53:23.459514Z"
    },
    "colab": {
     "base_uri": "https://localhost:8080/",
     "height": 410
    },
    "id": "Qn8pyVB5sJLL",
    "outputId": "9427cff4-9502-4502-e27a-4a0eb0375d37"
   },
   "outputs": [],
   "source": [
    "fig, ax = plt.subplots(1,2, figsize=(10,4))\n",
    "sns.histplot(titanic['age'], bins=30, kde=True, ax=ax[0])\n",
    "ax[0].set_title(\"Original Age Dist\")\n",
    "sns.histplot(drop_rows['age'], bins=30, kde=True, ax=ax[1])\n",
    "ax[1].set_title(\"After Deletion\")\n",
    "plt.show()"
   ]
  },
  {
   "cell_type": "code",
   "execution_count": null,
   "metadata": {
    "ExecuteTime": {
     "end_time": "2025-09-02T10:53:23.803242Z",
     "start_time": "2025-09-02T10:53:23.790415Z"
    },
    "colab": {
     "base_uri": "https://localhost:8080/"
    },
    "id": "qF10g7wU03vb",
    "outputId": "29097fb5-d265-4088-e169-dab718ade85e"
   },
   "outputs": [],
   "source": [
    "\n",
    "df_del = titanic.dropna()\n",
    "print(\"After Deletion Shape:\", df_del.shape)\n"
   ]
  },
  {
   "cell_type": "markdown",
   "metadata": {
    "id": "bcDAnhX92bbE"
   },
   "source": [
    "(b) Imputation Methods\n",
    "\n",
    "Instead of deleting, fill in the missing values.\n",
    "\n",
    "1.Mean Imputation\n",
    "\n",
    "Replace missing values with the column’s mean.\n",
    "\n",
    ". Good when data is normally distributed.\n",
    "\n",
    ". Risk: shrinks variance (underestimates extremes).\n",
    "\n",
    "2.Median Imputation\n",
    "\n",
    "Replace missing values with the column’s median.\n",
    "\n",
    " . Better for skewed data.\n",
    "\n",
    " . More robust to outliers.\n",
    "\n",
    "3.Interpolation\n",
    "\n",
    "Estimate missing values based on trends in neighboring data (linear, time-based).\n",
    "\n",
    ". Best when data is time-series (like our UAV alt_gps_m).\n",
    "\n",
    ". Maintains continuity in signals."
   ]
  },
  {
   "cell_type": "code",
   "execution_count": null,
   "metadata": {
    "ExecuteTime": {
     "end_time": "2025-09-02T10:53:23.873495Z",
     "start_time": "2025-09-02T10:53:23.823583Z"
    },
    "id": "WHtG_7IE01pp"
   },
   "outputs": [],
   "source": [
    "imp_mean = SimpleImputer(strategy=\"mean\")\n",
    "titanic['age_mean'] = imp_mean.fit_transform(titanic[['age']])\n",
    "\n",
    "imp_median = SimpleImputer(strategy=\"median\")\n",
    "titanic['age_median'] = imp_median.fit_transform(titanic[['age']])"
   ]
  },
  {
   "cell_type": "code",
   "execution_count": null,
   "metadata": {
    "ExecuteTime": {
     "end_time": "2025-09-02T10:53:23.917996Z",
     "start_time": "2025-09-02T10:53:23.879838Z"
    },
    "id": "3P698Tys9DMW"
   },
   "outputs": [],
   "source": [
    "imp_mode = SimpleImputer(strategy=\"most_frequent\")\n",
    "titanic['age_mode'] = imp_mode.fit_transform(titanic[['age']])"
   ]
  },
  {
   "cell_type": "code",
   "execution_count": null,
   "metadata": {
    "ExecuteTime": {
     "end_time": "2025-09-02T10:53:23.953823Z",
     "start_time": "2025-09-02T10:53:23.925609Z"
    },
    "colab": {
     "base_uri": "https://localhost:8080/"
    },
    "id": "NmCAFhnU8vD1",
    "outputId": "a7e4f8c1-3dcb-47d0-c537-70cec79b8cd2"
   },
   "outputs": [],
   "source": [
    "titanic['age_ffill'] = titanic['age'].fillna(method='ffill')"
   ]
  },
  {
   "cell_type": "markdown",
   "metadata": {
    "id": "YTonbB0MBIkS"
   },
   "source": [
    "forward fill: *Take* the last known (non-missing) value and use it to fill the next missing entry.\n",
    "\n",
    "Passenger\tAge\n",
    "\n",
    "1\t22\n",
    "\n",
    "2\tNaN\n",
    "\n",
    "3\t24\n",
    "\n",
    "4\tNaN\n",
    "\n",
    "5\tNaN\n",
    "\n",
    "6\t30\n",
    "\n",
    "\n",
    "Passenger\tAge (ffill)\n",
    "\n",
    "1\t22\n",
    "\n",
    "2\t22 ← filled from Passenger 1\n",
    "\n",
    "3\t24\n",
    "\n",
    "4\t24 ← filled from Passenger 3\n",
    "\n",
    "5\t24 ← still filled from Passenger 3\n",
    "\n",
    "6\t30"
   ]
  },
  {
   "cell_type": "code",
   "execution_count": null,
   "metadata": {
    "ExecuteTime": {
     "end_time": "2025-09-02T10:53:23.990334Z",
     "start_time": "2025-09-02T10:53:23.964329Z"
    },
    "colab": {
     "base_uri": "https://localhost:8080/"
    },
    "id": "-wI14Vp1BIHb",
    "outputId": "22fb17e1-40d6-4308-ce73-00f701cf0eee"
   },
   "outputs": [],
   "source": [
    "titanic['age_bfill'] = titanic['age'].fillna(method='bfill')"
   ]
  },
  {
   "cell_type": "markdown",
   "metadata": {
    "id": "88s6zaOTAXvw"
   },
   "source": [
    "KNNImputer(n_neighbors=x) sets up a k-nearest neighbors imputer that will, for each missing value, look at the x most similar rows (neighbors) to estimate it."
   ]
  },
  {
   "cell_type": "code",
   "execution_count": null,
   "metadata": {
    "ExecuteTime": {
     "end_time": "2025-09-02T10:53:24.059409Z",
     "start_time": "2025-09-02T10:53:24.015155Z"
    },
    "id": "y2OLEiZi8yp0"
   },
   "outputs": [],
   "source": [
    "knn = KNNImputer(n_neighbors=5)\n",
    "titanic['age_knn'] = knn.fit_transform(titanic[['age','fare']])[:,0]"
   ]
  },
  {
   "cell_type": "code",
   "execution_count": null,
   "metadata": {
    "ExecuteTime": {
     "end_time": "2025-09-02T10:53:24.252829Z",
     "start_time": "2025-09-02T10:53:24.066331Z"
    },
    "colab": {
     "base_uri": "https://localhost:8080/",
     "height": 487
    },
    "id": "cmROqfte83Sl",
    "outputId": "df09a8c2-eb54-440c-e98d-694180fe6e65"
   },
   "outputs": [],
   "source": [
    "plt.figure(figsize=(10,5))\n",
    "sns.kdeplot(titanic['age'], label='Original (with NaN)')\n",
    "sns.kdeplot(titanic['age_mean'], label='Mean Imputed')\n",
    "sns.kdeplot(titanic['age_median'], label='Median Imputed')\n",
    "sns.kdeplot(titanic['age_knn'], label='KNN Imputed')\n",
    "plt.legend(); plt.title(\"Age Imputation Comparison\"); plt.show()"
   ]
  },
  {
   "cell_type": "markdown",
   "metadata": {
    "id": "SWaP2HyO_g4Y"
   },
   "source": [
    "Mean imputation pulls values toward the center, shrinking variability and making the distribution more \"peaked.\"\n",
    "\n",
    "Median imputation is more robust to skew and outliers, so the curve is often closer to the original.\n",
    "\n",
    "KNN imputation can preserve natural shape better, since it uses relationships with other features, not just one summary statistic."
   ]
  },
  {
   "cell_type": "markdown",
   "metadata": {
    "id": "uAhTXFZ_DpLy"
   },
   "source": [
    "# 🔹 Interpolation\n",
    "\n",
    "**Definition**  \n",
    "Interpolation = estimating missing values by assuming that data follows a **continuous trend** between known points.  \n",
    "\n",
    "**Idea**  \n",
    "If values are *smoothly varying*, then missing values can be filled by using values **before and after the gap**.  \n",
    "\n",
    "**Applications**  \n",
    "- Widely used in **time series**, **sensor data**, and **numeric sequences**.  \n",
    "\n",
    "---\n",
    "\n",
    "## 🔸 Types of Interpolation\n",
    "\n",
    "### 1. Linear Interpolation\n",
    "- Assumes a straight line between two known points.  \n",
    "- Formula:\n",
    "\n",
    "$\n",
    "x(t) = x_1 + \\frac{(x_2 - x_1)}{(t_2 - t_1)} \\cdot (t - t_1)\n",
    "$\n",
    "\n",
    "Where:  \n",
    "- $(t_1, x_1)$ and $(t_2, x_2)$ are known points  \n",
    "- \\(t\\) is a point between \\($t_1$\\) and \\($t_2$\\)  \n",
    "\n",
    "---\n",
    "\n",
    "### 2. Polynomial Interpolation\n",
    "- Breaks the data into small intervals and fits a low-degree polynomial (often cubic) in each interval.\n",
    "- Fit a polynomial through known data points and use it to estimate missing ones.  \n",
    "- **Risk:** High-degree polynomials may **overfit** and create unrealistic oscillations.  \n",
    "\n",
    "---\n",
    "\n",
    "### 3. Spline Interpolation\n",
    "- Piecewise polynomial fits (commonly **cubic splines**).  \n",
    "- Provides a **smooth curve** and avoids oscillations found in high-degree polynomials.  \n",
    "\n",
    "---\n",
    "\n",
    "### 4. Time-based Interpolation\n",
    "- If the index is **time**, interpolation can consider **actual time gaps** instead of row order.  \n",
    "- Very useful in **sensor logs, IoT data, and financial time series**.  \n"
   ]
  },
  {
   "cell_type": "code",
   "execution_count": null,
   "metadata": {
    "ExecuteTime": {
     "end_time": "2025-09-02T10:53:24.284797Z",
     "start_time": "2025-09-02T10:53:24.262206Z"
    },
    "colab": {
     "base_uri": "https://localhost:8080/"
    },
    "id": "OHPAyQ7SC7v-",
    "outputId": "aee59ff8-9810-4fdc-e802-2b9b7c20f6c1"
   },
   "outputs": [],
   "source": [
    "# Apply linear interpolation on 'age'\n",
    "titanic['age_linear'] = titanic['age'].interpolate(method='linear')\n",
    "\n",
    "# Check before vs after for some rows with missing values\n",
    "print(titanic.loc[titanic['age'].isna(), ['age','age_linear']].head(10))"
   ]
  },
  {
   "cell_type": "code",
   "execution_count": null,
   "metadata": {
    "ExecuteTime": {
     "end_time": "2025-09-02T10:53:24.381778Z",
     "start_time": "2025-09-02T10:53:24.294047Z"
    },
    "id": "bw7ar7jND7Cv"
   },
   "outputs": [],
   "source": [
    "# Polynomial interpolation (order 2 = quadratic)\n",
    "titanic['age_poly'] = titanic['age'].interpolate(method='polynomial', order=2)\n",
    "\n",
    "# Spline interpolation (cubic smoothing)\n",
    "\n",
    "titanic['age_spline'] = titanic['age'].interpolate(method='spline', order=3)"
   ]
  },
  {
   "cell_type": "code",
   "execution_count": null,
   "metadata": {
    "ExecuteTime": {
     "end_time": "2025-09-02T10:53:24.585390Z",
     "start_time": "2025-09-02T10:53:24.400152Z"
    },
    "colab": {
     "base_uri": "https://localhost:8080/",
     "height": 564
    },
    "id": "VQK2JbrVDBDu",
    "outputId": "a8bf0809-ca5f-4f1e-aa9d-9ea832b7742d"
   },
   "outputs": [],
   "source": [
    "plt.figure(figsize=(12,6))\n",
    "sns.kdeplot(titanic['age'], label='Original (with NaN)')\n",
    "sns.kdeplot(titanic['age_linear'], label='Linear')\n",
    "sns.kdeplot(titanic['age_poly'], label='Polynomial (deg=2)')\n",
    "sns.kdeplot(titanic['age_spline'], label='Spline (deg=3)')\n",
    "plt.legend()\n",
    "plt.title(\"Age Imputation: Interpolation Methods\")\n",
    "plt.show()"
   ]
  },
  {
   "cell_type": "markdown",
   "metadata": {
    "id": "vGKfTbMb3GG7"
   },
   "source": [
    "**Outlier detection**\n",
    "\n",
    "Z-Score Method\n",
    "\n",
    "What it is: Standardize values and check how many standard deviations away from the mean.\n",
    "\n",
    "Formula:\n",
    "\n",
    "𝑍=(𝑥\n",
    "−\n",
    "𝜇\n",
    ")/\n",
    "𝜎\n",
    "\n",
    "\n",
    "Rule: If |Z| > 3, treat as outlier.\n",
    "\n",
    "\n",
    "Works well if data is approximately normal (bell-shaped).\n",
    "\n",
    "Sensitive to skewed or non-normal distributions.\n",
    "\n",
    "Mean and std can themselves be distorted by extreme outliers."
   ]
  },
  {
   "cell_type": "code",
   "execution_count": null,
   "metadata": {
    "ExecuteTime": {
     "end_time": "2025-09-02T10:53:24.832091Z",
     "start_time": "2025-09-02T10:53:24.593690Z"
    },
    "colab": {
     "base_uri": "https://localhost:8080/",
     "height": 898
    },
    "id": "fmCw4v_I0xta",
    "outputId": "464c59d6-db62-4b73-96dc-a4ae4066deeb"
   },
   "outputs": [],
   "source": [
    "from scipy.stats import zscore\n",
    "\n",
    "titanic['fare_z'] = zscore(titanic['fare'].fillna(0))\n",
    "outliers_z = titanic[np.abs(titanic['fare_z']) > 3]\n",
    "print(\"Z-score outliers in fare:\", outliers_z.shape[0])\n",
    "\n",
    "\n",
    "# --- Visualization 1: Boxplot highlighting outliers ---\n",
    "plt.figure(figsize=(10,4))\n",
    "sns.boxplot(x=titanic['fare'])\n",
    "plt.title(\"Boxplot of Fare (Outliers appear as distant points)\")\n",
    "plt.show()\n",
    "\n",
    "# --- Visualization 2: Scatterplot with outliers highlighted ---\n",
    "plt.figure(figsize=(10,5))\n",
    "plt.scatter(range(len(titanic)), titanic['fare'], label=\"Data\", alpha=0.6)\n",
    "plt.scatter(outliers_z.index, outliers_z['fare'], color='red', label=\"Z-score Outliers\", marker='x', s=60)\n",
    "plt.xlabel(\"Passenger Index\")\n",
    "plt.ylabel(\"Fare\")\n",
    "plt.title(\"Fare with Z-score Outliers Highlighted\")\n",
    "plt.legend()\n",
    "plt.show()\n"
   ]
  },
  {
   "cell_type": "markdown",
   "metadata": {
    "id": "WHzFEB6sFOt3"
   },
   "source": [
    "# 🔹 Modified Z-Score (Robust Outlier Detection)\n",
    "\n",
    "**Why not plain Z-score?**  \n",
    "- Z-score uses the **mean** and **standard deviation**.  \n",
    "- Both are sensitive to **outliers** and **skewed data**.  \n",
    "- A few extreme values can distort them.  \n",
    "\n",
    "**Solution: Modified Z-Score**  \n",
    "- Uses **Median** and **Median Absolute Deviation (MAD)** instead.  \n",
    "- Much more **robust** against outliers.  \n",
    "\n",
    "---\n",
    "\n",
    "## 📌 Formula\n",
    "\n",
    "$\n",
    "M_z = \\frac{0.6745 \\cdot (x_i - \\text{median}(x))}{MAD}\n",
    "$\n",
    "\n",
    "where  \n",
    "\n",
    "$\n",
    "MAD = \\text{median}(|x_i - \\text{median}(x)|)\n",
    "$\n",
    "\n",
    "- $x_i$ = data point  \n",
    "- $M_z$ = modified z-score  \n",
    "- Threshold: \\(|M_z| > 3.5\\) ⇒ Outlier  \n",
    "\n",
    "---\n",
    "\n",
    "## Key Points\n",
    "- More reliable for **skewed** or **heavy-tailed** distributions.  \n",
    "- Widely used in **finance, sensor data, and real-world noisy datasets**.  \n",
    "- Recommended when mean/std are unstable.  \n",
    "\n",
    "---\n",
    "\n",
    "##  Example (Titanic `fare`)\n",
    "If we compute Modified Z-Scores for the `fare` column:  \n",
    "- Most passenger fares are low/medium.  \n",
    "- A few very high fares (1st class luxury tickets) will be flagged as outliers.  \n"
   ]
  },
  {
   "cell_type": "code",
   "execution_count": null,
   "metadata": {
    "ExecuteTime": {
     "end_time": "2025-09-02T10:53:25.063907Z",
     "start_time": "2025-09-02T10:53:24.850062Z"
    },
    "colab": {
     "base_uri": "https://localhost:8080/",
     "height": 898
    },
    "id": "mwbZ3QdGFEWb",
    "outputId": "608b061c-312d-42a9-b201-4160fc94f984"
   },
   "outputs": [],
   "source": [
    "# We'll use these numeric columns, dropping rows with all-NaN across them\n",
    "num_cols = ['age', 'fare', 'pclass', 'sibsp', 'parch']\n",
    "X = titanic[num_cols].copy()\n",
    "\n",
    "# --- Modified Z-score function ---\n",
    "def modified_zscore(s: pd.Series):\n",
    "    med = s.median()\n",
    "    mad = (s - med).abs().median()\n",
    "    return 0.6745 * (s - med) / mad\n",
    "\n",
    "# Compute Modified Z-scores for 'fare'\n",
    "mz = modified_zscore(X['fare'].dropna())\n",
    "out_mz = mz.abs() > 3.5\n",
    "print(\"Modified Z outliers (fare):\", out_mz.sum())\n",
    "\n",
    "# --- Visualization 1: Boxplot ---\n",
    "plt.figure(figsize=(8,4))\n",
    "sns.boxplot(x=X['fare'], orient='h')\n",
    "plt.title(\"Fare (boxplot) — robust check pairs well with MAD\")\n",
    "plt.show()\n",
    "\n",
    "# --- Visualization 2: Scatterplot with outliers highlighted ---\n",
    "plt.figure(figsize=(10,5))\n",
    "plt.scatter(range(len(X['fare'].dropna())), X['fare'].dropna(),\n",
    "            label=\"Data\", alpha=0.6)\n",
    "plt.scatter(np.where(out_mz)[0], X['fare'].dropna()[out_mz],\n",
    "            color='red', marker='x', s=60, label=\"Modified Z Outliers\")\n",
    "plt.xlabel(\"Passenger Index\")\n",
    "plt.ylabel(\"Fare\")\n",
    "plt.title(\"Fare with Modified Z-score Outliers Highlighted\")\n",
    "plt.legend()\n",
    "plt.show()"
   ]
  },
  {
   "cell_type": "markdown",
   "metadata": {
    "id": "e15BVaGD3dto"
   },
   "source": [
    "**IQR** Method\n",
    "\n",
    "What it is: Based on percentiles.\n",
    "\n",
    "Formula:\n",
    "\n",
    "IQR=Q3−Q1\n",
    "\n",
    "Outlier rule:\n",
    "\n",
    "Lower bound =\n",
    "\n",
    "Q1 − 1.5× IQR\n",
    "\n",
    "Upper bound =\n",
    "\n",
    "Q3 + 1.5× IQR\n",
    "\n",
    "Anything outside this range = outlier.\n",
    "\n",
    "\n",
    "Why useful: Works for non-normal data distributions.\n",
    "\n"
   ]
  },
  {
   "cell_type": "code",
   "execution_count": null,
   "metadata": {
    "ExecuteTime": {
     "end_time": "2025-09-02T10:53:25.090307Z",
     "start_time": "2025-09-02T10:53:25.077627Z"
    },
    "colab": {
     "base_uri": "https://localhost:8080/"
    },
    "id": "svqE1Zqs0tW7",
    "outputId": "9e661c1b-184e-497f-c65f-9ec465afcf7e"
   },
   "outputs": [],
   "source": [
    "Q1 = titanic['fare'].quantile(0.25)\n",
    "Q3 = titanic['fare'].quantile(0.75)\n",
    "IQR = Q3 - Q1\n",
    "lower, upper = Q1 - 1.5*IQR, Q3 + 1.5*IQR\n",
    "\n",
    "outliers_iqr = titanic[(titanic['fare'] < lower) | (titanic['fare'] > upper)]\n",
    "print(\"IQR outliers in fare:\", outliers_iqr.shape[0])"
   ]
  },
  {
   "cell_type": "code",
   "execution_count": null,
   "metadata": {
    "ExecuteTime": {
     "end_time": "2025-09-02T10:53:25.169627Z",
     "start_time": "2025-09-02T10:53:25.101679Z"
    },
    "colab": {
     "base_uri": "https://localhost:8080/",
     "height": 472
    },
    "id": "zF7coP8I-HPd",
    "outputId": "18314b8e-dec6-4f89-ec27-77b38b54287e"
   },
   "outputs": [],
   "source": [
    "sns.boxplot(x=titanic['fare'])\n",
    "plt.title(\"Boxplot: Fare with Outliers\")\n",
    "plt.show()"
   ]
  },
  {
   "cell_type": "markdown",
   "metadata": {
    "id": "BDjVX7ek33uP"
   },
   "source": [
    "Missing Data\n",
    "\n",
    "If left untreated, ML models like Linear Regression or Decision Trees may fail (NaN not supported).\n",
    "\n",
    "Proper imputation ensures models train on complete data.\n",
    "\n",
    "Choice of imputation (mean/median/interpolation) affects bias & accuracy.\n",
    "\n"
   ]
  },
  {
   "cell_type": "markdown",
   "metadata": {
    "id": "7qmlLDHM38gw"
   },
   "source": [
    "Outliers\n",
    "\n",
    "Outliers distort models that rely on mean & variance (Linear Regression, KNN).\n",
    "\n",
    "Example: One very high speed_kmh can make regression coefficients unstable.\n",
    "\n",
    "Removing/transforming outliers → more stable & generalizable models."
   ]
  },
  {
   "cell_type": "code",
   "execution_count": null,
   "metadata": {
    "ExecuteTime": {
     "end_time": "2025-09-02T10:53:25.220629Z",
     "start_time": "2025-09-02T10:53:25.178674Z"
    },
    "colab": {
     "base_uri": "https://localhost:8080/"
    },
    "id": "v4UoNOk0-R3X",
    "outputId": "174b820f-d2b8-4951-9385-519cd05739fe"
   },
   "outputs": [],
   "source": [
    "# Prepare data\n",
    "df_model = titanic[['fare','age','pclass']].dropna()\n",
    "\n",
    "X = df_model[['age','pclass']]\n",
    "y = df_model['fare']\n",
    "\n",
    "X_train, X_test, y_train, y_test = train_test_split(X, y, test_size=0.2, random_state=42)\n",
    "\n",
    "# Base model\n",
    "lr = LinearRegression().fit(X_train, y_train)\n",
    "y_pred = lr.predict(X_test)\n",
    "print(\"MSE (with outliers):\", mean_squared_error(y_test, y_pred))\n",
    "\n",
    "# Remove IQR outliers\n",
    "df_no_out = df_model[(df_model['fare'] >= lower) & (df_model['fare'] <= upper)]\n",
    "X_no, y_no = df_no_out[['age','pclass']], df_no_out['fare']\n",
    "Xn_train, Xn_test, yn_train, yn_test = train_test_split(X_no, y_no, test_size=0.2, random_state=42)\n",
    "\n",
    "lr2 = LinearRegression().fit(Xn_train, yn_train)\n",
    "yn_pred = lr2.predict(Xn_test)\n",
    "print(\"MSE (without outliers):\", mean_squared_error(yn_test, yn_pred))"
   ]
  }
 ],
 "metadata": {
  "colab": {
   "provenance": []
  },
  "kernelspec": {
   "display_name": "base",
   "language": "python",
   "name": "python3"
  },
  "language_info": {
   "codemirror_mode": {
    "name": "ipython",
    "version": 3
   },
   "file_extension": ".py",
   "mimetype": "text/x-python",
   "name": "python",
   "nbconvert_exporter": "python",
   "pygments_lexer": "ipython3",
   "version": "3.13.5"
  }
 },
 "nbformat": 4,
 "nbformat_minor": 0
}
