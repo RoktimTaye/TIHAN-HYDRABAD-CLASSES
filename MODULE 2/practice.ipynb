{
 "cells": [
  {
   "cell_type": "code",
   "execution_count": null,
   "id": "eab4b176",
   "metadata": {},
   "outputs": [],
   "source": [
    "import pandas as pd\n",
    "import numpy as np\n",
    "import seaborn as sns\n",
    "import matplotlib.pyplot as plt\n",
    "from dask.dataframe.methods import drop_columns\n",
    "from sklearn.model_selection import train_test_split\n",
    "from sklearn.linear_model import LinearRegression\n",
    "from sklearn.impute import SimpleImputer,KNNImputer\n",
    "from sklearn.metrics import mean_absolute_error"
   ]
  },
  {
   "cell_type": "code",
   "execution_count": null,
   "id": "af277fd016ba2953",
   "metadata": {},
   "outputs": [],
   "source": [
    "titanic = sns.load_dataset(\"titanic\")\n",
    "print(titanic.shape)\n",
    "titanic.head()"
   ]
  },
  {
   "cell_type": "code",
   "execution_count": null,
   "id": "a595c2efe92bd0e7",
   "metadata": {},
   "outputs": [],
   "source": [
    "print(titanic.isna().sum())\n",
    "sns.heatmap(titanic.isna(), cbar=False)\n",
    "plt.title(\"Missing Data Heatmap\")\n",
    "plt.show()"
   ]
  },
  {
   "cell_type": "code",
   "execution_count": null,
   "id": "7cf38f47888bb3fb",
   "metadata": {},
   "outputs": [],
   "source": [
    "drop_rows = titanic.dropna(subset=['age'])\n",
    "drop_columns = titanic.drop(columns=['deck'])\n",
    "drop_threst = titanic.dropna(thresh=14)"
   ]
  },
  {
   "cell_type": "code",
   "execution_count": null,
   "id": "c59ce2b0606f4fbe",
   "metadata": {},
   "outputs": [],
   "source": [
    "fig, ax = plt.subplots(1,2, figsize=(10,4))\n",
    "sns.histplot(titanic['age'],bins=30,kde=True,ax=ax[0])\n",
    "ax[0].set_title(\"Original age dist\")\n",
    "sns.histplot(drop_rows['age'],bins=30,kde=True,ax=ax[1])\n",
    "ax[1].set_title(\"After Deletion\")\n",
    "plt.show()"
   ]
  },
  {
   "cell_type": "code",
   "execution_count": null,
   "id": "54f3a7e2da614a16",
   "metadata": {},
   "outputs": [],
   "source": [
    "df_del = titanic.dropna()\n",
    "print(\"After Deletion Shape:\", df_del.shape)"
   ]
  },
  {
   "cell_type": "code",
   "execution_count": null,
   "id": "6e6f7c3ff8ad3b8e",
   "metadata": {},
   "outputs": [],
   "source": [
    "imp_mean = SimpleImputer(strategy=\"mean\")\n",
    "titanic['age_mean'] = imp_mean.fit_transform(titanic[['age']])\n",
    "\n",
    "imp_median = SimpleImputer(strategy=\"median\")\n",
    "titanic['age_median'] = imp_median.fit_transform(titanic[['age']])\n",
    "\n",
    "imp_mode = SimpleImputer(strategy=\"most_frequent\")\n",
    "titanic['age_mode'] = imp_mode.fit_transform(titanic[['age']])"
   ]
  },
  {
   "cell_type": "code",
   "execution_count": null,
   "id": "21b0381907240ad6",
   "metadata": {},
   "outputs": [],
   "source": [
    "titanic['age_ffill'] = titanic['age'].fillna(method='ffill')\n",
    "titanic['age_bfill'] = titanic['age'].fillna(method='bfill')"
   ]
  },
  {
   "cell_type": "code",
   "execution_count": null,
   "id": "a6c140354cfec84c",
   "metadata": {},
   "outputs": [],
   "source": [
    "knn = KNNImputer(n_neighbors=5)\n",
    "titanic['age_knn'] = knn.fit_transform(titanic[['age','fare']])[:,0]\n",
    "\n",
    "plt.figure(figsize=(10,5))\n",
    "sns.kdeplot(titanic['age'], label='Original (with NaN)')\n",
    "sns.kdeplot(titanic['age_mean'], label='Mean Imputed')\n",
    "sns.kdeplot(titanic['age_median'], label='Median Imputed')\n",
    "sns.kdeplot(titanic['age_knn'], label='KNN Imputed')\n",
    "plt.legend(); plt.title(\"Age Imputation Comparison\"); plt.show()"
   ]
  },
  {
   "cell_type": "code",
   "execution_count": null,
   "id": "8829a13d2bfbbda7",
   "metadata": {},
   "outputs": [],
   "source": [
    "# Apply linear interpolation on 'age'\n",
    "titanic['age_linear'] = titanic['age'].interpolate(method='linear')\n",
    "# Check before vs after for some rows with missing values\n",
    "print(titanic.loc[titanic['age'].isna(), ['age','age_linear']].head(10))"
   ]
  },
  {
   "cell_type": "code",
   "execution_count": null,
   "id": "a2c53d56549320f",
   "metadata": {},
   "outputs": [],
   "source": [
    "# Polynomial interpolation (order 2 = quadratic)\n",
    "titanic['age_poly'] = titanic['age'].interpolate(method='polynomial', order=2)\n",
    "# Spline interpolation (cubic smoothing)\n",
    "titanic['age_spline'] = titanic['age'].interpolate(method='spline', order=3)"
   ]
  },
  {
   "cell_type": "code",
   "execution_count": null,
   "id": "8b61b6556c3c0180",
   "metadata": {},
   "outputs": [],
   "source": [
    "plt.figure(figsize=(12,6))\n",
    "sns.kdeplot(titanic['age'], label='Original (with NaN)')\n",
    "sns.kdeplot(titanic['age_linear'], label='Linear')\n",
    "sns.kdeplot(titanic['age_poly'], label='Polynomial (deg=2)')\n",
    "sns.kdeplot(titanic['age_spline'], label='Spline (deg=3)')\n",
    "plt.legend()\n",
    "plt.title(\"Age Imputation: Interpolation Methods\")\n",
    "plt.show()"
   ]
  },
  {
   "cell_type": "code",
   "execution_count": null,
   "id": "545a113cbed4de08",
   "metadata": {},
   "outputs": [],
   "source": [
    "from scipy.stats import zscore\n",
    "\n",
    "titanic['fare_z'] = zscore(titanic['fare'].fillna(0))\n",
    "outliers_z = titanic[np.abs(titanic['fare_z']) > 3]\n",
    "print(\"Z-score outliers in fare:\", outliers_z.shape[0])"
   ]
  },
  {
   "cell_type": "code",
   "execution_count": null,
   "id": "c35659d7cf6a8092",
   "metadata": {},
   "outputs": [],
   "source": [
    "plt.figure(figsize=(10,4))\n",
    "sns.boxplot(x=titanic['fare'])\n",
    "plt.title(\"Boxplot of Fare (Outliers appear as distant points)\")\n",
    "plt.show()"
   ]
  },
  {
   "cell_type": "code",
   "execution_count": null,
   "id": "333de67cd16fc150",
   "metadata": {},
   "outputs": [],
   "source": [
    "plt.figure(figsize=(10,5))\n",
    "plt.scatter(range(len(titanic)), titanic['fare'], label=\"Data\", alpha=0.6)\n",
    "plt.scatter(outliers_z.index, outliers_z['fare'], color='red', label=\"Z-score Outliers\", marker='x', s=60)\n",
    "plt.xlabel(\"Passenger Index\")\n",
    "plt.ylabel(\"Fare\")\n",
    "plt.title(\"Fare with Z-score Outliers Highlighted\")\n",
    "plt.legend()\n",
    "plt.show()"
   ]
  },
  {
   "cell_type": "code",
   "execution_count": null,
   "id": "a49806c1",
   "metadata": {},
   "outputs": [],
   "source": [
    "num_cols = ['age', 'fare', 'pclass', 'sibsp', 'parch']\n",
    "X = titanic[num_cols].copy()\n",
    "\n",
    "def modified_zscore(s:pd.Series):\n",
    "    med = s.median()\n",
    "    mad = (s-med).abs().median()\n",
    "    return 0.6745 *(s - med) / mad\n",
    "mz = modified_zscore(X['fare'].dropna())\n",
    "out_mz = mz.abs() > 3.5\n",
    "\n",
    "# --- Visualization 1: Boxplot ---\n",
    "plt.figure(figsize=(8,4))\n",
    "sns.boxplot(x=X['fare'], orient='h')\n",
    "plt.title(\"Fare (boxplot) — robust check pairs well with MAD\")\n",
    "plt.show()\n",
    "\n",
    "# --- Visualization 2: Scatterplot with outliers highlighted ---\n",
    "plt.figure(figsize=(10,5))\n",
    "plt.scatter(range(len(X['fare'].dropna())), X['fare'].dropna(),\n",
    "            label=\"Data\", alpha=0.6)\n",
    "plt.scatter(np.where(out_mz)[0], X['fare'].dropna()[out_mz],\n",
    "            color='red', marker='x', s=60, label=\"Modified Z Outliers\")\n",
    "plt.xlabel(\"Passenger Index\")\n",
    "plt.ylabel(\"Fare\")\n",
    "plt.title(\"Fare with Modified Z-score Outliers Highlighted\")\n",
    "plt.legend()\n",
    "plt.show()"
   ]
  },
  {
   "cell_type": "code",
   "execution_count": null,
   "id": "0a4f372d",
   "metadata": {},
   "outputs": [],
   "source": [
    "Q1 = titanic['fare'].quantile(0.25)\n",
    "Q3 = titanic['fare'].quantile(0.75)\n",
    "IQR = Q3 -Q1\n",
    "lower, upper = Q1 - 1.5*IQR, Q3 + 1.5*IQR\n",
    "outliers_iqr = titanic[(titanic['fare'] < lower) | (titanic['fare'] > upper)]\n",
    "\n",
    "print(\"IQR outliers in fare:\", outliers_iqr.shape[0])\n",
    "\n",
    "sns.boxplot(x=titanic['fare'])\n",
    "plt.title(\"Boxplot: Fare with Outliers\")\n",
    "plt.show()"
   ]
  },
  {
   "cell_type": "code",
   "execution_count": null,
   "id": "713e5624",
   "metadata": {},
   "outputs": [],
   "source": [
    "# Prepare data\n",
    "df_model = titanic[['fare','age','pclass']].dropna()\n",
    "\n",
    "X = df_model[['age','pclass']]\n",
    "y = df_model['fare']\n",
    "\n",
    "X_train, X_test, y_train, y_test = train_test_split(X, y, test_size=0.2, random_state=42)\n",
    "\n",
    "# Base model\n",
    "lr = LinearRegression().fit(X_train, y_train)\n",
    "y_pred = lr.predict(X_test)\n",
    "print(\"MSE (with outliers):\", mean_squared_error(y_test, y_pred))\n",
    "\n",
    "# Remove IQR outliers\n",
    "df_no_out = df_model[(df_model['fare'] >= lower) & (df_model['fare'] <= upper)]\n",
    "X_no, y_no = df_no_out[['age','pclass']], df_no_out['fare']\n",
    "Xn_train, Xn_test, yn_train, yn_test = train_test_split(X_no, y_no, test_size=0.2, random_state=42)\n",
    "\n",
    "lr2 = LinearRegression().fit(Xn_train, yn_train)\n",
    "yn_pred = lr2.predict(Xn_test)\n",
    "print(\"MSE (without outliers):\", mean_squared_error(yn_test, yn_pred))"
   ]
  }
 ],
 "metadata": {
  "kernelspec": {
   "display_name": "base",
   "language": "python",
   "name": "python3"
  },
  "language_info": {
   "codemirror_mode": {
    "name": "ipython",
    "version": 3
   },
   "file_extension": ".py",
   "mimetype": "text/x-python",
   "name": "python",
   "nbconvert_exporter": "python",
   "pygments_lexer": "ipython3",
   "version": "3.13.5"
  }
 },
 "nbformat": 4,
 "nbformat_minor": 5
}
