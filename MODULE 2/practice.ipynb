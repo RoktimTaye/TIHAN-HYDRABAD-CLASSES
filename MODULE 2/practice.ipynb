{
 "cells": [
  {
   "cell_type": "code",
   "id": "eab4b176",
   "metadata": {},
   "source": [
    "import pandas as pd\n",
    "import numpy as np\n",
    "import seaborn as sns\n",
    "import matplotlib.pyplot as plt\n",
    "from dask.dataframe.methods import drop_columns\n",
    "from sklearn.model_selection import train_test_split\n",
    "from sklearn.linear_model import LinearRegression\n",
    "from sklearn.impute import SimpleImputer,KNNImputer\n",
    "from sklearn.metrics import mean_absolute_error"
   ],
   "outputs": [],
   "execution_count": null
  },
  {
   "metadata": {},
   "cell_type": "code",
   "source": [
    "titanic = sns.load_dataset(\"titanic\")\n",
    "print(titanic.shape)\n",
    "titanic.head()"
   ],
   "id": "af277fd016ba2953",
   "outputs": [],
   "execution_count": null
  },
  {
   "metadata": {},
   "cell_type": "code",
   "source": [
    "print(titanic.isna().sum())\n",
    "sns.heatmap(titanic.isna(), cbar=False)\n",
    "plt.title(\"Missing Data Heatmap\")\n",
    "plt.show()"
   ],
   "id": "a595c2efe92bd0e7",
   "outputs": [],
   "execution_count": null
  },
  {
   "metadata": {},
   "cell_type": "code",
   "source": [
    "drop_rows = titanic.dropna(subset=['age'])\n",
    "drop_columns = titanic.drop(columns=['deck'])\n",
    "drop_threst = titanic.dropna(thresh=14)"
   ],
   "id": "7cf38f47888bb3fb",
   "outputs": [],
   "execution_count": null
  },
  {
   "metadata": {},
   "cell_type": "code",
   "source": [
    "fig, ax = plt.subplots(1,2, figsize=(10,4))\n",
    "sns.histplot(titanic['age'],bins=30,kde=True,ax=ax[0])\n",
    "ax[0].set_title(\"Original age dist\")\n",
    "sns.histplot(drop_rows['age'],bins=30,kde=True,ax=ax[1])\n",
    "ax[1].set_title(\"After Deletion\")\n",
    "plt.show()"
   ],
   "id": "c59ce2b0606f4fbe",
   "outputs": [],
   "execution_count": null
  },
  {
   "metadata": {},
   "cell_type": "code",
   "source": [
    "df_del = titanic.dropna()\n",
    "print(\"After Deletion Shape:\", df_del.shape)"
   ],
   "id": "54f3a7e2da614a16",
   "outputs": [],
   "execution_count": null
  },
  {
   "metadata": {},
   "cell_type": "code",
   "source": [
    "imp_mean = SimpleImputer(strategy=\"mean\")\n",
    "titanic['age_mean'] = imp_mean.fit_transform(titanic[['age']])\n",
    "\n",
    "imp_median = SimpleImputer(strategy=\"median\")\n",
    "titanic['age_median'] = imp_median.fit_transform(titanic[['age']])\n",
    "\n",
    "imp_mode = SimpleImputer(strategy=\"most_frequent\")\n",
    "titanic['age_mode'] = imp_mode.fit_transform(titanic[['age']])"
   ],
   "id": "6e6f7c3ff8ad3b8e",
   "outputs": [],
   "execution_count": null
  },
  {
   "metadata": {},
   "cell_type": "code",
   "source": [
    "titanic['age_ffill'] = titanic['age'].fillna(method='ffill')\n",
    "titanic['age_bfill'] = titanic['age'].fillna(method='bfill')"
   ],
   "id": "21b0381907240ad6",
   "outputs": [],
   "execution_count": null
  },
  {
   "metadata": {},
   "cell_type": "code",
   "source": [
    "knn = KNNImputer(n_neighbors=5)\n",
    "titanic['age_knn'] = knn.fit_transform(titanic[['age','fare']])[:,0]\n",
    "\n",
    "plt.figure(figsize=(10,5))\n",
    "sns.kdeplot(titanic['age'], label='Original (with NaN)')\n",
    "sns.kdeplot(titanic['age_mean'], label='Mean Imputed')\n",
    "sns.kdeplot(titanic['age_median'], label='Median Imputed')\n",
    "sns.kdeplot(titanic['age_knn'], label='KNN Imputed')\n",
    "plt.legend(); plt.title(\"Age Imputation Comparison\"); plt.show()"
   ],
   "id": "a6c140354cfec84c",
   "outputs": [],
   "execution_count": null
  },
  {
   "metadata": {},
   "cell_type": "code",
   "source": [
    "# Apply linear interpolation on 'age'\n",
    "titanic['age_linear'] = titanic['age'].interpolate(method='linear')\n",
    "# Check before vs after for some rows with missing values\n",
    "print(titanic.loc[titanic['age'].isna(), ['age','age_linear']].head(10))"
   ],
   "id": "8829a13d2bfbbda7",
   "outputs": [],
   "execution_count": null
  },
  {
   "metadata": {},
   "cell_type": "code",
   "source": [
    "# Polynomial interpolation (order 2 = quadratic)\n",
    "titanic['age_poly'] = titanic['age'].interpolate(method='polynomial', order=2)\n",
    "# Spline interpolation (cubic smoothing)\n",
    "titanic['age_spline'] = titanic['age'].interpolate(method='spline', order=3)"
   ],
   "id": "a2c53d56549320f",
   "outputs": [],
   "execution_count": null
  },
  {
   "metadata": {},
   "cell_type": "code",
   "source": [
    "plt.figure(figsize=(12,6))\n",
    "sns.kdeplot(titanic['age'], label='Original (with NaN)')\n",
    "sns.kdeplot(titanic['age_linear'], label='Linear')\n",
    "sns.kdeplot(titanic['age_poly'], label='Polynomial (deg=2)')\n",
    "sns.kdeplot(titanic['age_spline'], label='Spline (deg=3)')\n",
    "plt.legend()\n",
    "plt.title(\"Age Imputation: Interpolation Methods\")\n",
    "plt.show()"
   ],
   "id": "8b61b6556c3c0180",
   "outputs": [],
   "execution_count": null
  },
  {
   "metadata": {},
   "cell_type": "code",
   "source": [
    "from scipy.stats import zscore\n",
    "\n",
    "titanic['fare_z'] = zscore(titanic['fare'].fillna(0))\n",
    "outliers_z = titanic[np.abs(titanic['fare_z']) > 3]\n",
    "print(\"Z-score outliers in fare:\", outliers_z.shape[0])"
   ],
   "id": "545a113cbed4de08",
   "outputs": [],
   "execution_count": null
  },
  {
   "metadata": {},
   "cell_type": "code",
   "source": [
    "plt.figure(figsize=(10,4))\n",
    "sns.boxplot(x=titanic['fare'])\n",
    "plt.title(\"Boxplot of Fare (Outliers appear as distant points)\")\n",
    "plt.show()"
   ],
   "id": "c35659d7cf6a8092",
   "outputs": [],
   "execution_count": null
  },
  {
   "metadata": {},
   "cell_type": "code",
   "source": [
    "plt.figure(figsize=(10,5))\n",
    "plt.scatter(range(len(titanic)), titanic['fare'], label=\"Data\", alpha=0.6)\n",
    "plt.scatter(outliers_z.index, outliers_z['fare'], color='red', label=\"Z-score Outliers\", marker='x', s=60)\n",
    "plt.xlabel(\"Passenger Index\")\n",
    "plt.ylabel(\"Fare\")\n",
    "plt.title(\"Fare with Z-score Outliers Highlighted\")\n",
    "plt.legend()\n",
    "plt.show()"
   ],
   "id": "333de67cd16fc150",
   "outputs": [],
   "execution_count": null
  }
 ],
 "metadata": {
  "kernelspec": {
   "display_name": "base",
   "language": "python",
   "name": "python3"
  },
  "language_info": {
   "codemirror_mode": {
    "name": "ipython",
    "version": 3
   },
   "file_extension": ".py",
   "mimetype": "text/x-python",
   "name": "python",
   "nbconvert_exporter": "python",
   "pygments_lexer": "ipython3",
   "version": "3.13.5"
  }
 },
 "nbformat": 4,
 "nbformat_minor": 5
}
