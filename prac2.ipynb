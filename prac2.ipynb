{
 "cells": [
  {
   "metadata": {
    "ExecuteTime": {
     "end_time": "2025-09-07T03:15:08.165945Z",
     "start_time": "2025-09-07T03:15:08.159984Z"
    }
   },
   "cell_type": "code",
   "source": [
    "import sklearn, tensorflow as tf, torch\n",
    "from sklearn.datasets import load_iris\n",
    "from sklearn.model_selection import train_test_split\n",
    "from sklearn.linear_model import LogisticRegression\n",
    "from sklearn.linear_model import LinearRegression\n",
    "from sklearn.metrics import accuracy_score\n",
    "from sklearn.preprocessing import LabelEncoder\n",
    "from sklearn.metrics import mean_squared_error, r2_score\n",
    "import pandas as pd\n",
    "import seaborn as sns"
   ],
   "id": "d70c1dc77bbe7a61",
   "outputs": [],
   "execution_count": 26
  },
  {
   "metadata": {
    "ExecuteTime": {
     "end_time": "2025-09-07T03:15:08.182504Z",
     "start_time": "2025-09-07T03:15:08.177823Z"
    }
   },
   "cell_type": "code",
   "source": "df = sns.load_dataset('iris')",
   "id": "152b76608947cf5c",
   "outputs": [],
   "execution_count": 27
  },
  {
   "metadata": {
    "ExecuteTime": {
     "end_time": "2025-09-07T03:15:08.191127Z",
     "start_time": "2025-09-07T03:15:08.187177Z"
    }
   },
   "cell_type": "code",
   "source": [
    "X = df.drop(columns=[\"petal_length\", \"species\"])\n",
    "y = df[\"petal_length\"]"
   ],
   "id": "dd558c04faf64733",
   "outputs": [],
   "execution_count": 28
  },
  {
   "metadata": {
    "ExecuteTime": {
     "end_time": "2025-09-07T03:15:08.201705Z",
     "start_time": "2025-09-07T03:15:08.195969Z"
    }
   },
   "cell_type": "code",
   "source": "X_train, X_test, y_train, y_test = train_test_split(X, y, test_size=0.2, random_state=42)",
   "id": "11fae3687cb4a1d2",
   "outputs": [],
   "execution_count": 29
  },
  {
   "metadata": {
    "ExecuteTime": {
     "end_time": "2025-09-07T03:15:08.280599Z",
     "start_time": "2025-09-07T03:15:08.208207Z"
    }
   },
   "cell_type": "code",
   "source": [
    "model = LogisticRegression(max_iter=200)\n",
    "model.fit(X_train, y_train)"
   ],
   "id": "cf2ccce04c18bac2",
   "outputs": [
    {
     "ename": "ValueError",
     "evalue": "Unknown label type: continuous. Maybe you are trying to fit a classifier, which expects discrete classes on a regression target with continuous values.",
     "output_type": "error",
     "traceback": [
      "\u001B[31m---------------------------------------------------------------------------\u001B[39m",
      "\u001B[31mValueError\u001B[39m                                Traceback (most recent call last)",
      "\u001B[36mCell\u001B[39m\u001B[36m \u001B[39m\u001B[32mIn[30]\u001B[39m\u001B[32m, line 2\u001B[39m\n\u001B[32m      1\u001B[39m model = LogisticRegression(max_iter=\u001B[32m200\u001B[39m)\n\u001B[32m----> \u001B[39m\u001B[32m2\u001B[39m \u001B[43mmodel\u001B[49m\u001B[43m.\u001B[49m\u001B[43mfit\u001B[49m\u001B[43m(\u001B[49m\u001B[43mX_train\u001B[49m\u001B[43m,\u001B[49m\u001B[43m \u001B[49m\u001B[43my_train\u001B[49m\u001B[43m)\u001B[49m\n",
      "\u001B[36mFile \u001B[39m\u001B[32m~\\Desktop\\AI_ML_Practice\\.venv\\Lib\\site-packages\\sklearn\\base.py:1365\u001B[39m, in \u001B[36m_fit_context.<locals>.decorator.<locals>.wrapper\u001B[39m\u001B[34m(estimator, *args, **kwargs)\u001B[39m\n\u001B[32m   1358\u001B[39m     estimator._validate_params()\n\u001B[32m   1360\u001B[39m \u001B[38;5;28;01mwith\u001B[39;00m config_context(\n\u001B[32m   1361\u001B[39m     skip_parameter_validation=(\n\u001B[32m   1362\u001B[39m         prefer_skip_nested_validation \u001B[38;5;129;01mor\u001B[39;00m global_skip_validation\n\u001B[32m   1363\u001B[39m     )\n\u001B[32m   1364\u001B[39m ):\n\u001B[32m-> \u001B[39m\u001B[32m1365\u001B[39m     \u001B[38;5;28;01mreturn\u001B[39;00m \u001B[43mfit_method\u001B[49m\u001B[43m(\u001B[49m\u001B[43mestimator\u001B[49m\u001B[43m,\u001B[49m\u001B[43m \u001B[49m\u001B[43m*\u001B[49m\u001B[43margs\u001B[49m\u001B[43m,\u001B[49m\u001B[43m \u001B[49m\u001B[43m*\u001B[49m\u001B[43m*\u001B[49m\u001B[43mkwargs\u001B[49m\u001B[43m)\u001B[49m\n",
      "\u001B[36mFile \u001B[39m\u001B[32m~\\Desktop\\AI_ML_Practice\\.venv\\Lib\\site-packages\\sklearn\\linear_model\\_logistic.py:1256\u001B[39m, in \u001B[36mLogisticRegression.fit\u001B[39m\u001B[34m(self, X, y, sample_weight)\u001B[39m\n\u001B[32m   1245\u001B[39m     _dtype = [np.float64, np.float32]\n\u001B[32m   1247\u001B[39m X, y = validate_data(\n\u001B[32m   1248\u001B[39m     \u001B[38;5;28mself\u001B[39m,\n\u001B[32m   1249\u001B[39m     X,\n\u001B[32m   (...)\u001B[39m\u001B[32m   1254\u001B[39m     accept_large_sparse=solver \u001B[38;5;129;01mnot\u001B[39;00m \u001B[38;5;129;01min\u001B[39;00m [\u001B[33m\"\u001B[39m\u001B[33mliblinear\u001B[39m\u001B[33m\"\u001B[39m, \u001B[33m\"\u001B[39m\u001B[33msag\u001B[39m\u001B[33m\"\u001B[39m, \u001B[33m\"\u001B[39m\u001B[33msaga\u001B[39m\u001B[33m\"\u001B[39m],\n\u001B[32m   1255\u001B[39m )\n\u001B[32m-> \u001B[39m\u001B[32m1256\u001B[39m \u001B[43mcheck_classification_targets\u001B[49m\u001B[43m(\u001B[49m\u001B[43my\u001B[49m\u001B[43m)\u001B[49m\n\u001B[32m   1257\u001B[39m \u001B[38;5;28mself\u001B[39m.classes_ = np.unique(y)\n\u001B[32m   1259\u001B[39m \u001B[38;5;66;03m# TODO(1.8) remove multi_class\u001B[39;00m\n",
      "\u001B[36mFile \u001B[39m\u001B[32m~\\Desktop\\AI_ML_Practice\\.venv\\Lib\\site-packages\\sklearn\\utils\\multiclass.py:221\u001B[39m, in \u001B[36mcheck_classification_targets\u001B[39m\u001B[34m(y)\u001B[39m\n\u001B[32m    213\u001B[39m y_type = type_of_target(y, input_name=\u001B[33m\"\u001B[39m\u001B[33my\u001B[39m\u001B[33m\"\u001B[39m)\n\u001B[32m    214\u001B[39m \u001B[38;5;28;01mif\u001B[39;00m y_type \u001B[38;5;129;01mnot\u001B[39;00m \u001B[38;5;129;01min\u001B[39;00m [\n\u001B[32m    215\u001B[39m     \u001B[33m\"\u001B[39m\u001B[33mbinary\u001B[39m\u001B[33m\"\u001B[39m,\n\u001B[32m    216\u001B[39m     \u001B[33m\"\u001B[39m\u001B[33mmulticlass\u001B[39m\u001B[33m\"\u001B[39m,\n\u001B[32m   (...)\u001B[39m\u001B[32m    219\u001B[39m     \u001B[33m\"\u001B[39m\u001B[33mmultilabel-sequences\u001B[39m\u001B[33m\"\u001B[39m,\n\u001B[32m    220\u001B[39m ]:\n\u001B[32m--> \u001B[39m\u001B[32m221\u001B[39m     \u001B[38;5;28;01mraise\u001B[39;00m \u001B[38;5;167;01mValueError\u001B[39;00m(\n\u001B[32m    222\u001B[39m         \u001B[33mf\u001B[39m\u001B[33m\"\u001B[39m\u001B[33mUnknown label type: \u001B[39m\u001B[38;5;132;01m{\u001B[39;00my_type\u001B[38;5;132;01m}\u001B[39;00m\u001B[33m. Maybe you are trying to fit a \u001B[39m\u001B[33m\"\u001B[39m\n\u001B[32m    223\u001B[39m         \u001B[33m\"\u001B[39m\u001B[33mclassifier, which expects discrete classes on a \u001B[39m\u001B[33m\"\u001B[39m\n\u001B[32m    224\u001B[39m         \u001B[33m\"\u001B[39m\u001B[33mregression target with continuous values.\u001B[39m\u001B[33m\"\u001B[39m\n\u001B[32m    225\u001B[39m     )\n",
      "\u001B[31mValueError\u001B[39m: Unknown label type: continuous. Maybe you are trying to fit a classifier, which expects discrete classes on a regression target with continuous values."
     ]
    }
   ],
   "execution_count": 30
  }
 ],
 "metadata": {
  "kernelspec": {
   "display_name": "Python 3",
   "language": "python",
   "name": "python3"
  },
  "language_info": {
   "codemirror_mode": {
    "name": "ipython",
    "version": 2
   },
   "file_extension": ".py",
   "mimetype": "text/x-python",
   "name": "python",
   "nbconvert_exporter": "python",
   "pygments_lexer": "ipython2",
   "version": "2.7.6"
  }
 },
 "nbformat": 4,
 "nbformat_minor": 5
}
