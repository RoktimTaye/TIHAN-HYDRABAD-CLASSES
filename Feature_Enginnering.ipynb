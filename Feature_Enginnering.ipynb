{
 "cells": [
  {
   "cell_type": "code",
   "id": "initial_id",
   "metadata": {
    "collapsed": true
   },
   "source": [
    "import pandas as pd\n",
    "import numpy as np\n",
    "import seaborn as sns\n",
    "import matplotlib.pyplot as plt\n",
    "from sklearn.preprocessing import StandardScaler\n",
    "from sklearn.decomposition import PCA"
   ],
   "outputs": [],
   "execution_count": null
  },
  {
   "metadata": {},
   "cell_type": "code",
   "source": [
    "titanic = sns.load_dataset('titanic')\n",
    "\n",
    "df = titanic[['survived', 'pclass', 'sex', 'age', 'sibsp', 'parch', 'fare', 'embarked']].dropna()\n",
    "print(df.shape)"
   ],
   "id": "409c3a5f62ace8af",
   "outputs": [],
   "execution_count": null
  },
  {
   "metadata": {},
   "cell_type": "code",
   "source": [
    "df.describe()\n",
    "df.info()"
   ],
   "id": "5009c20c5e1f5009",
   "outputs": [],
   "execution_count": null
  },
  {
   "metadata": {},
   "cell_type": "code",
   "source": "df['family_size'] = df['sibsp'] + df['parch'] + 1",
   "id": "3fecd2d02d487a9",
   "outputs": [],
   "execution_count": null
  },
  {
   "metadata": {},
   "cell_type": "code",
   "source": "df['age_fare_interaction'] = df['age'] * df['fare']",
   "id": "e9162a1a0f05291c",
   "outputs": [],
   "execution_count": null
  },
  {
   "metadata": {},
   "cell_type": "code",
   "source": "df['is_child'] = (df['age'] < 12).astype(int)",
   "id": "3a3d2a68ac12b602",
   "outputs": [],
   "execution_count": null
  },
  {
   "metadata": {},
   "cell_type": "code",
   "source": [
    "df = pd.get_dummies(df, columns=['sex', 'embarked'], drop_first=True)\n",
    "print(\"\\nSample with new features:\")\n",
    "print(df.head())"
   ],
   "id": "bd103eb027e9483d",
   "outputs": [],
   "execution_count": null
  },
  {
   "metadata": {},
   "cell_type": "code",
   "source": "from sklearn.datasets import load_iris",
   "id": "dd7850f8dd445f3a",
   "outputs": [],
   "execution_count": null
  },
  {
   "metadata": {},
   "cell_type": "code",
   "source": [
    "iris = load_iris()\n",
    "X = iris.data\n",
    "y = iris.target\n",
    "feature_names = iris.feature_names\n",
    "print(X[:10])\n",
    "print(y[:10])"
   ],
   "id": "2fa39e0ce68bffd2",
   "outputs": [],
   "execution_count": null
  },
  {
   "metadata": {},
   "cell_type": "code",
   "source": [
    "scaler = StandardScaler()\n",
    "X_scaled = scaler.fit_transform(X)"
   ],
   "id": "febf8ed765ad03ae",
   "outputs": [],
   "execution_count": null
  },
  {
   "metadata": {},
   "cell_type": "code",
   "source": [
    "pca = PCA(n_components=2)\n",
    "X_pca = pca.fit_transform(X_scaled)\n",
    "print(\"\\nExplained variance ratio:\", pca.explained_variance_ratio_)"
   ],
   "id": "f29cd63795a3bbfe",
   "outputs": [],
   "execution_count": null
  },
  {
   "metadata": {},
   "cell_type": "code",
   "source": [
    "plt.figure(figsize=(8,6))\n",
    "plt.scatter(X_pca[:,0], X_pca[:,1], c=y, cmap='viridis', edgecolor='k', s=80)\n",
    "plt.xlabel(\"PC1\")\n",
    "plt.ylabel(\"PC2\")\n",
    "plt.title(\"PCA on Iris Dataset\")\n",
    "plt.colorbar(label=\"Species\")\n",
    "plt.show()"
   ],
   "id": "ebcb76f3f63d9d0",
   "outputs": [],
   "execution_count": null
  },
  {
   "metadata": {},
   "cell_type": "code",
   "source": [
    "import seaborn as sns\n",
    "import pandas as pd\n",
    "import numpy as np\n",
    "import matplotlib.pyplot as plt\n",
    "from sklearn.preprocessing import StandardScaler\n",
    "from sklearn.decomposition import PCA\n",
    "\n",
    "# 1) Load data\n",
    "df = sns.load_dataset(\"titanic\").copy()\n",
    "\n",
    "# We'll use only numeric columns to keep it simple\n",
    "num_cols = [\"age\", \"fare\", \"pclass\", \"sibsp\", \"parch\"]\n",
    "\n",
    "df = df.dropna(subset=[\"survived\"]).copy()\n",
    "y = df[\"survived\"].astype(int)\n",
    "#  Simple imputation for numerics (median)\n",
    "for c in num_cols:\n",
    "    df[c] = df[c].fillna(df[c].median())\n",
    "\n",
    "X = df[num_cols].astype(float)\n",
    "\n",
    "scaler = StandardScaler()\n",
    "X_std = scaler.fit_transform(X)"
   ],
   "id": "97b9d5cf8f0c9681",
   "outputs": [],
   "execution_count": null
  },
  {
   "metadata": {},
   "cell_type": "code",
   "source": [
    "# PCA to 2 components\n",
    "pca = PCA(n_components=2, svd_solver=\"full\")\n",
    "X_pca = pca.fit_transform(X_std)\n",
    "evr = pca.explained_variance_ratio_\n",
    "print(\"Explained variance ratio (PC1, PC2):\", evr, \" | cumulative:\", evr.sum())"
   ],
   "id": "10132c86a01e4faa",
   "outputs": [],
   "execution_count": null
  },
  {
   "metadata": {},
   "cell_type": "code",
   "source": [
    "# 5) BEFORE: Raw-space visualization (pick two original features)\n",
    "plt.figure()\n",
    "mask0 = (y == 0).values\n",
    "mask1 = (y == 1).values\n",
    "plt.scatter(X.loc[mask0, \"age\"], X.loc[mask0, \"fare\"], alpha=0.6, label=\"Died (y=0)\")\n",
    "plt.scatter(X.loc[mask1, \"age\"], X.loc[mask1, \"fare\"], alpha=0.6, label=\"Survived (y=1)\")\n",
    "plt.xlabel(\"age\"); plt.ylabel(\"fare\"); plt.title(\"BEFORE: Raw features (age vs fare)\")\n",
    "plt.legend()\n",
    "plt.tight_layout()\n",
    "plt.show()\n",
    "\n",
    "# 6) AFTER: PCA-space visualization (PC1 vs PC2)\n",
    "plt.figure()\n",
    "plt.scatter(X_pca[mask0, 0], X_pca[mask0, 1], alpha=0.6, label=\"Died (y=0)\")\n",
    "plt.scatter(X_pca[mask1, 0], X_pca[mask1, 1], alpha=0.6, label=\"Survived (y=1)\")\n",
    "plt.xlabel(\"PC1\"); plt.ylabel(\"PC2\"); plt.title(\"AFTER: PCA projection (PC1 vs PC2)\")\n",
    "plt.legend()\n",
    "plt.tight_layout()\n",
    "plt.show()"
   ],
   "id": "7f818adb081b80e5",
   "outputs": [],
   "execution_count": null
  },
  {
   "metadata": {},
   "cell_type": "code",
   "source": [
    "import seaborn as sns, pandas as pd, numpy as np, matplotlib.pyplot as plt\n",
    "from sklearn.feature_selection import f_classif\n",
    "from sklearn.preprocessing import StandardScaler\n",
    "from sklearn.decomposition import PCA\n",
    "\n",
    "# Load & prep\n",
    "df = sns.load_dataset(\"titanic\").dropna(subset=[\"survived\"]).copy()\n",
    "y = df[\"survived\"].astype(int)\n",
    "num = [\"age\",\"fare\",\"pclass\",\"sibsp\",\"parch\"]\n",
    "for c in num: df[c] = df[c].fillna(df[c].median())\n",
    "X = df[num].astype(float)\n",
    "\n",
    "# Pick best two raw features (univariate) using ANOVA\n",
    "fvals, _ = f_classif(X, y)\n",
    "best2 = np.argsort(fvals)[-2:]\n",
    "f1, f2 = X.columns[best2]\n",
    "\n",
    "# Plot baseline: best two raw features\n",
    "plt.figure();\n",
    "plt.scatter(X[f1][y==0], X[f2][y==0], alpha=0.6, label=\"Died\")\n",
    "plt.scatter(X[f1][y==1], X[f2][y==1], alpha=0.6, label=\"Survived\")\n",
    "plt.xlabel(f1); plt.ylabel(f2); plt.title(\"Baseline: best two raw features\"); plt.legend(); plt.tight_layout(); plt.show()\n",
    "\n",
    "# PCA on the same inputs\n",
    "X_std = StandardScaler().fit_transform(X)\n",
    "X_pca = PCA(n_components=2, svd_solver=\"full\").fit_transform(X_std)\n",
    "\n",
    "# Plot PCA: PC1 vs PC2\n",
    "plt.figure();\n",
    "plt.scatter(X_pca[y==0,0], X_pca[y==0,1], alpha=0.6, label=\"Died\")\n",
    "plt.scatter(X_pca[y==1,0], X_pca[y==1,1], alpha=0.6, label=\"Survived\")\n",
    "plt.xlabel(\"PC1\"); plt.ylabel(\"PC2\"); plt.title(\"PCA: projection of all numeric features\"); plt.legend(); plt.tight_layout(); plt.show()\n"
   ],
   "id": "4808cbb3ed570dd7",
   "outputs": [],
   "execution_count": null
  },
  {
   "metadata": {},
   "cell_type": "code",
   "source": [
    "# Titanic: \"All features\" vs \"PCA → 2 features\" (no pipelines)\n",
    "import seaborn as sns, pandas as pd, numpy as np\n",
    "from sklearn.model_selection import train_test_split\n",
    "from sklearn.preprocessing import StandardScaler\n",
    "from sklearn.decomposition import PCA\n",
    "from sklearn.linear_model import LogisticRegression\n",
    "from sklearn.metrics import accuracy_score, roc_auc_score\n",
    "\n",
    "# 1) Load & target\n",
    "df = sns.load_dataset(\"titanic\").copy()\n",
    "df = df.dropna(subset=[\"survived\"])\n",
    "y = df[\"survived\"].astype(int)\n",
    "\n",
    "# 2) Choose a modest feature set (numeric + a couple categoricals)\n",
    "num_cols = [\"age\", \"fare\", \"pclass\", \"sibsp\", \"parch\"]\n",
    "cat_cols = [\"sex\", \"embarked\"]   # simple, low-cardinality\n",
    "\n",
    "# Impute: median for numeric, mode for categoricals\n",
    "for c in num_cols:\n",
    "    df[c] = df[c].fillna(df[c].median())\n",
    "for c in cat_cols:\n",
    "    df[c] = df[c].fillna(df[c].mode().iloc[0])\n",
    "\n",
    "# One-hot encode categoricals (no label info leakage)\n",
    "X = pd.get_dummies(df[num_cols + cat_cols], drop_first=True)\n",
    "\n",
    "# Train/test split (stratified)\n",
    "X_tr, X_te, y_tr, y_te = train_test_split(\n",
    "    X, y, test_size=0.2, random_state=42, stratify=y\n",
    ")\n",
    "\n",
    "# 3) Scale (fit on train, apply to test)\n",
    "scaler = StandardScaler()\n",
    "Xtr_sc = scaler.fit_transform(X_tr)\n",
    "Xte_sc = scaler.transform(X_te)\n",
    "\n",
    "# 4A) Baseline: Logistic Regression on ALL features\n",
    "clf_all = LogisticRegression(max_iter=1000)\n",
    "clf_all.fit(Xtr_sc, y_tr)\n",
    "proba_all = clf_all.predict_proba(Xte_sc)[:, 1]\n",
    "pred_all = (proba_all >= 0.5).astype(int)\n",
    "print(\"ALL features — Acc:\", accuracy_score(y_te, pred_all),\n",
    "      \"AUC:\", roc_auc_score(y_te, proba_all), \"| dims:\", Xtr_sc.shape[1])\n",
    "\n",
    "# 4B) PCA → 2 components, then Logistic Regression\n",
    "pca = PCA(n_components=2, svd_solver=\"full\")\n",
    "Xtr_pca = pca.fit_transform(Xtr_sc)\n",
    "Xte_pca = pca.transform(Xte_sc)\n",
    "print(\"PCA EVR (PC1, PC2):\", pca.explained_variance_ratio_,\n",
    "      \"| cumulative:\", pca.explained_variance_ratio_.sum())\n",
    "\n",
    "clf_pca2 = LogisticRegression(max_iter=1000)\n",
    "clf_pca2.fit(Xtr_pca, y_tr)\n",
    "proba_pca2 = clf_pca2.predict_proba(Xte_pca)[:, 1]\n",
    "pred_pca2 = (proba_pca2 >= 0.5).astype(int)\n",
    "print(\"PCA→2 comps — Acc:\", accuracy_score(y_te, pred_pca2),\n",
    "      \"AUC:\", roc_auc_score(y_te, proba_pca2), \"| dims:\", Xtr_pca.shape[1])"
   ],
   "id": "f42ebe6e3b3fd9d",
   "outputs": [],
   "execution_count": null
  }
 ],
 "metadata": {
  "kernelspec": {
   "display_name": "Python 3",
   "language": "python",
   "name": "python3"
  },
  "language_info": {
   "codemirror_mode": {
    "name": "ipython",
    "version": 2
   },
   "file_extension": ".py",
   "mimetype": "text/x-python",
   "name": "python",
   "nbconvert_exporter": "python",
   "pygments_lexer": "ipython2",
   "version": "2.7.6"
  }
 },
 "nbformat": 4,
 "nbformat_minor": 5
}
