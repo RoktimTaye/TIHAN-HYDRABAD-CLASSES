{
 "cells": [
  {
   "cell_type": "code",
   "id": "initial_id",
   "metadata": {
    "collapsed": true
   },
   "source": [
    "import pandas as pd\n",
    "import numpy as np\n",
    "import seaborn as sns\n",
    "import matplotlib.pyplot as plt\n",
    "from sklearn.preprocessing import StandardScaler\n",
    "from sklearn.decomposition import PCA"
   ],
   "outputs": [],
   "execution_count": null
  },
  {
   "metadata": {},
   "cell_type": "code",
   "source": [
    "titanic = sns.load_dataset('titanic')\n",
    "print(titanic.shape)"
   ],
   "id": "d4a73cc47d590209",
   "outputs": [],
   "execution_count": null
  },
  {
   "metadata": {},
   "cell_type": "code",
   "source": [
    "df = titanic[['survived', 'pclass', 'sex', 'age', 'sibsp', 'parch', 'fare', 'embarked']].dropna()\n",
    "print(df.shape)"
   ],
   "id": "d81b9e97af7978cb",
   "outputs": [],
   "execution_count": null
  },
  {
   "metadata": {},
   "cell_type": "code",
   "source": "df.head()",
   "id": "d82dbabf1ca76d65",
   "outputs": [],
   "execution_count": null
  },
  {
   "metadata": {},
   "cell_type": "code",
   "source": [
    "df['family_size'] = df['sibsp'] + df['parch'] + 1\n",
    "df['age_fare_interaction'] = df['age'] * df['fare']\n",
    "df['is_child'] = (df['age'] < 12).astype(int)"
   ],
   "id": "d6fb2388dd90841d",
   "outputs": [],
   "execution_count": null
  },
  {
   "metadata": {},
   "cell_type": "code",
   "source": "df = pd.get_dummies(df, columns=['sex', 'embarked'], drop_first=True).copy()",
   "id": "537007b44b4da1ee",
   "outputs": [],
   "execution_count": null
  },
  {
   "metadata": {},
   "cell_type": "code",
   "source": "print(df.head())",
   "id": "4cb1bd2d1967d469",
   "outputs": [],
   "execution_count": null
  },
  {
   "metadata": {},
   "cell_type": "code",
   "source": [
    "from sklearn.datasets import load_iris\n",
    "iris = load_iris()\n",
    "x = iris.data\n",
    "y = iris.target\n",
    "feature_names = iris.feature_names\n",
    "print(x[:10])\n",
    "print(y[:10])"
   ],
   "id": "efee666b17b36048",
   "outputs": [],
   "execution_count": null
  },
  {
   "metadata": {},
   "cell_type": "code",
   "source": [
    "scaler = StandardScaler()\n",
    "x_scaled = scaler.fit_transform(x)"
   ],
   "id": "22eb290f8ae667bf",
   "outputs": [],
   "execution_count": null
  },
  {
   "metadata": {},
   "cell_type": "code",
   "source": [
    "pca = PCA(n_components=2)\n",
    "x_pca = pca.fit_transform(x_scaled)\n",
    "print(pca.explained_variance_ratio_)\n",
    "\n",
    "plt.figure(figsize=(8,6))\n",
    "plt.scatter(x_pca[:,0], x_pca[:,1], c=y, cmap='viridis', edgecolor='k', s=80)\n",
    "plt.xlabel(\"PC1\")\n",
    "plt.ylabel(\"PC2\")\n",
    "plt.title(\"PCA on Iris Dataset\")\n",
    "plt.colorbar(label=\"Species\")\n",
    "plt.show()"
   ],
   "id": "56a0e90e88d4d47e",
   "outputs": [],
   "execution_count": null
  },
  {
   "metadata": {},
   "cell_type": "code",
   "source": [
    "import seaborn as sns\n",
    "import pandas as pd\n",
    "import numpy as np\n",
    "import matplotlib.pyplot as plt\n",
    "\n",
    "df = sns.load_dataset('titanic').copy()\n",
    "num_cols = [\"age\", \"fare\", \"pclass\", \"sibsp\", \"parch\"]\n",
    "\n",
    "df = df.dropna(subset=['survived']).copy()\n",
    "y = df['survived'].astype(int)"
   ],
   "id": "27b5eb3dc63a730c",
   "outputs": [],
   "execution_count": null
  },
  {
   "metadata": {},
   "cell_type": "code",
   "source": [
    "for c in num_cols:\n",
    "    df[c] = df[c].fillna(df[c].median())\n",
    "x = df[num_cols].astype(float)\n",
    "scaler = StandardScaler()\n",
    "X_std = scaler.fit_transform(x)"
   ],
   "id": "978426f837c59657",
   "outputs": [],
   "execution_count": null
  },
  {
   "metadata": {},
   "cell_type": "code",
   "source": [
    "pca = PCA(n_components=2, svd_solver=\"full\")\n",
    "X_pca = pca.fit_transform(X_std)\n",
    "evr = pca.explained_variance_ratio_\n",
    "print(\"Explained variance ratio (PC1, PC2):\", evr, \" | cumulative:\", evr.sum())"
   ],
   "id": "5ea61937f991cda4",
   "outputs": [],
   "execution_count": null
  }
 ],
 "metadata": {
  "kernelspec": {
   "display_name": "Python 3",
   "language": "python",
   "name": "python3"
  },
  "language_info": {
   "codemirror_mode": {
    "name": "ipython",
    "version": 2
   },
   "file_extension": ".py",
   "mimetype": "text/x-python",
   "name": "python",
   "nbconvert_exporter": "python",
   "pygments_lexer": "ipython2",
   "version": "2.7.6"
  }
 },
 "nbformat": 4,
 "nbformat_minor": 5
}
