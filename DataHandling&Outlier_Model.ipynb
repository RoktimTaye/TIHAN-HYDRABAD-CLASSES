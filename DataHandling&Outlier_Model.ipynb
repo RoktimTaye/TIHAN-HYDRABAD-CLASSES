{
 "cells": [
  {
   "metadata": {
    "ExecuteTime": {
     "end_time": "2025-09-10T11:52:48.073707Z",
     "start_time": "2025-09-10T11:52:46.388559Z"
    }
   },
   "cell_type": "code",
   "source": [
    "import pandas as pd\n",
    "import numpy as np\n",
    "import seaborn as sns\n",
    "from sklearn.model_selection import train_test_split\n",
    "from sklearn.pipeline import Pipeline\n",
    "from sklearn.impute import SimpleImputer\n",
    "from sklearn.preprocessing import StandardScaler, MinMaxScaler, OneHotEncoder, OrdinalEncoder\n",
    "from sklearn.compose import ColumnTransformer\n",
    "from sklearn.linear_model import LinearRegression\n",
    "from sklearn.metrics import mean_absolute_error, mean_squared_error, r2_score\n",
    "\n",
    "titanic = sns.load_dataset('titanic')\n",
    "\n",
    "X = titanic.drop(columns=['survived', 'fare'])\n",
    "y = titanic['fare']\n",
    "\n",
    "X_train, X_test, y_train, y_test = train_test_split(X, y, test_size=0.2, random_state=42)\n",
    "num_features = ['age', 'sibsp', 'parch']\n",
    "cat_features = ['pclass', 'sex', 'embarked']\n",
    "\n",
    "def build_pipe(scaler, encoder):\n",
    "    num_pipe = Pipeline([\n",
    "        ('imp', SimpleImputer(strategy='median')),\n",
    "        ('scaler', scaler)\n",
    "    ])\n",
    "    # Pipeline for categorical features\n",
    "    cat_pipe = Pipeline([\n",
    "        ('imp', SimpleImputer(strategy='most_frequent')),\n",
    "        ('encoder', encoder)\n",
    "    ])\n",
    "    pre = ColumnTransformer([\n",
    "        ('num', num_pipe, num_features),\n",
    "        ('cat', cat_pipe, cat_features)\n",
    "    ])\n",
    "    return Pipeline([\n",
    "        ('pre', pre),\n",
    "        ('lr', LinearRegression())\n",
    "    ])\n",
    "pipelines = {\n",
    "    \"Normalization + OHE\": build_pipe(MinMaxScaler(), OneHotEncoder(drop='first', handle_unknown='ignore')),\n",
    "    \"Standardization + OHE\": build_pipe(StandardScaler(), OneHotEncoder(drop='first', handle_unknown='ignore')),\n",
    "    \"Standardization + Label\": build_pipe(StandardScaler(), OrdinalEncoder())\n",
    "}\n",
    "\n",
    "results = []\n",
    "print(\"Training and evaluating pipelines...\")\n",
    "\n",
    "for name, pipe in pipelines.items():\n",
    "    pipe.fit(X_train, y_train)\n",
    "    preds = pipe.predict(X_test)\n",
    "    mae = mean_absolute_error(y_test, preds)\n",
    "    mse = mean_squared_error(y_test, preds)\n",
    "    rmse = np.sqrt(mse)\n",
    "\n",
    "    r2 = r2_score(y_test, preds)\n",
    "\n",
    "    results.append({\n",
    "        'name': name,\n",
    "        'rmse': rmse,\n",
    "        'mae': mae,\n",
    "        'r2': r2\n",
    "    })\n",
    "    print(f\"- Completed: {name}\")\n",
    "df_results = pd.DataFrame(results).sort_values(by='rmse')\n",
    "print(\"\\n--- Pipeline Performance Comparison ---\")\n",
    "print(df_results.to_string(index=False))"
   ],
   "id": "2e2af198ac52b447",
   "outputs": [
    {
     "name": "stdout",
     "output_type": "stream",
     "text": [
      "Training and evaluating pipelines...\n",
      "- Completed: Normalization + OHE\n",
      "- Completed: Standardization + OHE\n",
      "- Completed: Standardization + Label\n",
      "\n",
      "--- Pipeline Performance Comparison ---\n",
      "                   name      rmse       mae       r2\n",
      "Standardization + Label 30.470255 20.837023 0.400014\n",
      "    Normalization + OHE 30.920169 18.870241 0.382165\n",
      "  Standardization + OHE 30.920169 18.870241 0.382165\n"
     ]
    }
   ],
   "execution_count": 1
  }
 ],
 "metadata": {
  "kernelspec": {
   "display_name": "Python 3",
   "language": "python",
   "name": "python3"
  },
  "language_info": {
   "codemirror_mode": {
    "name": "ipython",
    "version": 2
   },
   "file_extension": ".py",
   "mimetype": "text/x-python",
   "name": "python",
   "nbconvert_exporter": "python",
   "pygments_lexer": "ipython2",
   "version": "2.7.6"
  }
 },
 "nbformat": 4,
 "nbformat_minor": 5
}
