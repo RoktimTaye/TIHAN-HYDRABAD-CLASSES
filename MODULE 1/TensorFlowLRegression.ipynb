{
 "cells": [
  {
   "cell_type": "code",
   "execution_count": 28,
   "id": "727b151d",
   "metadata": {},
   "outputs": [
    {
     "name": "stdout",
     "output_type": "stream",
     "text": [
      "W: [[2.0193975]], b: [0.9429692]\n"
     ]
    }
   ],
   "source": [
    "import tensorflow as tf\n",
    "import numpy as np\n",
    "\n",
    "# Sample data: Features (X) and Targets (Y)\n",
    "X = np.array([[1.0], [2.0], [3.0], [4.0]], dtype=np.float32)\n",
    "Y = np.array([[3.0], [5.0], [7.0], [9.0]], dtype=np.float32)\n",
    "\n",
    "# Variables for weights and bias\n",
    "W = tf.Variable(tf.random.normal([1, 1]))\n",
    "b = tf.Variable(tf.random.normal([1]))\n",
    "\n",
    "# Learning rate\n",
    "learning_rate = 0.01\n",
    "\n",
    "# Training loop\n",
    "for epoch in range(1000):\n",
    "    with tf.GradientTape() as tape:\n",
    "        y_pred = tf.matmul(X, W) + b  # Linear model: y = X*W + b\n",
    "        loss = tf.reduce_mean(tf.square(Y - y_pred))  # Mean Squared Error\n",
    "\n",
    "    gradients = tape.gradient(loss, [W, b])  # Compute gradients\n",
    "    W.assign_sub(learning_rate * gradients[0])  # Update weights\n",
    "    b.assign_sub(learning_rate * gradients[1])  # Update bias\n",
    "\n",
    "# Print trained parameters\n",
    "print(f\"W: {W.numpy()}, b: {b.numpy()}\")\n"
   ]
  }
 ],
 "metadata": {
  "kernelspec": {
   "display_name": "base",
   "language": "python",
   "name": "python3"
  },
  "language_info": {
   "codemirror_mode": {
    "name": "ipython",
    "version": 3
   },
   "file_extension": ".py",
   "mimetype": "text/x-python",
   "name": "python",
   "nbconvert_exporter": "python",
   "pygments_lexer": "ipython3",
   "version": "3.13.5"
  }
 },
 "nbformat": 4,
 "nbformat_minor": 5
}
