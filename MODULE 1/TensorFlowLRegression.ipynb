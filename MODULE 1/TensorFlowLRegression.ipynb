{
 "cells": [
  {
   "cell_type": "code",
   "execution_count": null,
   "id": "a1d09207",
   "metadata": {},
   "outputs": [
    {
     "name": "stdout",
     "output_type": "stream",
     "text": [
      "Loss :  13.5364\n",
      "Gradient w :  [-4.1171145] Gradient b :  [-7.1893735]\n"
     ]
    }
   ],
   "source": [
    "import tensorflow as tf \n",
    "\n",
    "x = tf.random.uniform((100,1))\n",
    "y = 3*x + 2 +0.1*tf.random.normal((100,1))\n",
    "\n",
    "w = tf.Variable(tf.random.normal((1,)))\n",
    "b = tf.Variable(tf.random.normal((1,)))\n",
    "\n",
    "with tf.GradientTape() as tape: #performes the differentiation before loss function\n",
    "    y_pred = w*x + b\n",
    "    loss = tf.reduce_mean((y - y_pred)**2) # need to write the loss functin\n",
    "    \n",
    "grads = tape.gradient(loss,[w,b])\n",
    "\n",
    "print(\"Loss : \",loss.numpy())\n",
    "print(\"Gradient w : \",grads[0].numpy(),\"Gradient b : \",grads[1].numpy())"
   ]
  }
 ],
 "metadata": {
  "kernelspec": {
   "display_name": "base",
   "language": "python",
   "name": "python3"
  },
  "language_info": {
   "codemirror_mode": {
    "name": "ipython",
    "version": 3
   },
   "file_extension": ".py",
   "mimetype": "text/x-python",
   "name": "python",
   "nbconvert_exporter": "python",
   "pygments_lexer": "ipython3",
   "version": "3.13.5"
  }
 },
 "nbformat": 4,
 "nbformat_minor": 5
}
