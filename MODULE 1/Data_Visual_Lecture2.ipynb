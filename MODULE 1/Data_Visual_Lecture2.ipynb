{
 "cells": [
  {
   "cell_type": "code",
   "execution_count": null,
   "id": "7fc41a29",
   "metadata": {},
   "outputs": [],
   "source": [
    "import seaborn as sns\n",
    "import pandas as pd\n",
    "import matplotlib.pyplot as plt\n",
    "df = sns.load_dataset('tips')\n",
    "df"
   ]
  },
  {
   "cell_type": "markdown",
   "id": "9295e601",
   "metadata": {},
   "source": [
    "HEAT MAP"
   ]
  },
  {
   "cell_type": "code",
   "execution_count": null,
   "id": "4fd508a3",
   "metadata": {},
   "outputs": [],
   "source": [
    "corr_Matrix = df.corr(numeric_only=True)#Store Corr in variable\n",
    "sns.heatmap(corr_Matrix,annot=True,cmap='coolwarm',fmt='.2f')#heatmap\n",
    "plt.title('Corr Matric of Numeric Features')\n",
    "plt.show()"
   ]
  },
  {
   "cell_type": "code",
   "execution_count": null,
   "id": "0ec514a5",
   "metadata": {},
   "outputs": [],
   "source": [
    "corr_Matrix = df.corr(numeric_only=True)#Store Corr in variable\n",
    "sns.clustermap(corr_Matrix,annot=True,cmap='coolwarm',fmt='.2f')#clustermap\n",
    "plt.title('Corr Matric of Numeric Features')\n",
    "plt.show()"
   ]
  },
  {
   "cell_type": "code",
   "execution_count": null,
   "id": "cc583e96",
   "metadata": {},
   "outputs": [],
   "source": [
    "numerical_cols = df.select_dtypes(include=['float64','int64']).columns #Defin which datatye tu take from dataframe column\n",
    "pair_plot = sns.pairplot(df[numerical_cols])\n",
    "pair_plot.figure.suptitle('Pair Plot of numeric Features',y=1.02)\n",
    "plt.show()"
   ]
  },
  {
   "cell_type": "code",
   "execution_count": null,
   "id": "c394bffc",
   "metadata": {},
   "outputs": [],
   "source": [
    "numerical_cols = df.select_dtypes(include=['float64','int64']).columns\n",
    "pair_plot = sns.pairplot(df,hue='smoker', #According to which ploting is done\n",
    "                         diag_kind='kde', # KDE for diagonal\n",
    "                         kind='reg') #REG for non diagonal\n",
    "pair_plot.figure.suptitle('Pair Plot of numeric Features',y=1.02)\n",
    "plt.show()"
   ]
  },
  {
   "cell_type": "code",
   "execution_count": null,
   "id": "9b38e4c9",
   "metadata": {},
   "outputs": [],
   "source": [
    "sns.jointplot(data=df,\n",
    "              x='total_bill',\n",
    "              y='tip',\n",
    "              kind='scatter',\n",
    "              hue='sex'\n",
    "              )\n",
    "plt.show()"
   ]
  },
  {
   "cell_type": "code",
   "execution_count": null,
   "id": "5d2ac53b",
   "metadata": {},
   "outputs": [],
   "source": [
    "sns.scatterplot(data=df,\n",
    "                x='total_bill',\n",
    "                y='tip',\n",
    "                hue='time')\n",
    "plt.title('Scaattered Plot for Total Bill vs Tip')\n",
    "plt.show()"
   ]
  },
  {
   "cell_type": "code",
   "execution_count": null,
   "id": "9dc2037b",
   "metadata": {},
   "outputs": [],
   "source": [
    "sns.boxplot(data=df, x='day',\n",
    "            y='tip')\n",
    "plt.title('Day vs Tip')\n",
    "plt.show()"
   ]
  },
  {
   "cell_type": "code",
   "execution_count": null,
   "id": "10e81b2b",
   "metadata": {},
   "outputs": [],
   "source": [
    "sns.boxplot(data=df, x='day',\n",
    "            y='tip',hue= 'smoker')\n",
    "plt.title('Day vs Tip')\n",
    "plt.show()"
   ]
  },
  {
   "cell_type": "code",
   "execution_count": null,
   "id": "17abe145",
   "metadata": {},
   "outputs": [],
   "source": [
    "# Create the bubble plot\n",
    "sns.scatterplot(\n",
    "    data=df,\n",
    "    x=\"total_bill\", # X-axis variable\n",
    "    y=\"tip\",        # Y-axis variable\n",
    "    size=\"size\",    # Variable controlling bubble size\n",
    "    hue=\"time\",     # Variable controlling bubble color (optional)\n",
    "    sizes=(15, 100) # Range of bubble sizes (adjust as needed)\n",
    ")\n",
    "\n",
    "plt.show()"
   ]
  },
  {
   "cell_type": "code",
   "execution_count": null,
   "id": "d8b41a7b",
   "metadata": {},
   "outputs": [],
   "source": [
    "# plt.figure(figsize=(10, 7))\n",
    "# sns.scatterplot(\n",
    "#     data=df,\n",
    "#     x=\"total_bill\",\n",
    "#     y=\"tip\",\n",
    "#     size=\"size\",\n",
    "#     hue=\"time\",\n",
    "#     sizes=(20, 1000),\n",
    "#     alpha=0.6,\n",
    "#     edgecolor=\"w\",\n",
    "#     linewidth=0.5\n",
    "# )\n",
    "\n",
    "# # Add title and labels (optional, but good practice)\n",
    "# plt.title('Bubble Plot of Tips Data with Annotations')\n",
    "# plt.xlabel('Total Bill ($)')\n",
    "# plt.ylabel('Tip ($)')\n",
    "# plt.legend(title='Party Size / Time of Day', bbox_to_anchor=(1.05, 1), loc='upper left')\n",
    "# plt.tight_layout()\n",
    "\n",
    "# # --- Annotation Code ---\n",
    "# # Example 1: Annotating a specific data point\n",
    "# # Let's find a point to annotate, e.g., the highest total_bill\n",
    "# highest_bill_row = df.loc[df['total_bill'].idxmax()]\n",
    "# plt.annotate(\n",
    "#     'Highest Bill!',                     # Text to display\n",
    "#     xy=(highest_bill_row['total_bill'], highest_bill_row['tip']), # Coordinates of the point to annotate\n",
    "#     xytext=(highest_bill_row['total_bill'] + 5, highest_bill_row['tip'] + 1), # Coordinates for the text\n",
    "#     arrowprops=dict(facecolor='black', shrink=0.05), # Arrow properties\n",
    "#     fontsize=10,\n",
    "#     color='red'\n",
    "\n",
    "# )\n",
    "# plt.show()\n",
    "\n",
    "import seaborn as sns\n",
    "import matplotlib.pyplot as plt\n",
    "\n",
    "# Load your dataset\n",
    "df = sns.load_dataset('tips')\n",
    "\n",
    "# Create the bubble plot\n",
    "plt.figure(figsize=(8, 5))\n",
    "sns.scatterplot(\n",
    "    data=df,\n",
    "    x=\"total_bill\",\n",
    "    y=\"tip\",\n",
    "    size=\"size\",\n",
    "    hue=\"time\",\n",
    "    sizes=(20, 1000),\n",
    "    alpha=0.6,\n",
    "    edgecolor=\"w\",\n",
    "    linewidth=0.5\n",
    ")\n",
    "\n",
    "# Add title and labels\n",
    "plt.title('Bubble Plot of Tips Data with Annotations')\n",
    "plt.xlabel('Total Bill ($)')\n",
    "plt.ylabel('Tip ($)')\n",
    "plt.legend(title='Party Size / Time of Day', bbox_to_anchor=(1.05, 1), loc='upper left')\n",
    "plt.tight_layout()\n",
    "\n",
    "# Annotate the highest total_bill\n",
    "highest_bill_row = df.loc[df['total_bill'].idxmax()] #Selecting the target row and finding the max value by using idxmax()\n",
    "plt.annotate( #annotating starts here\n",
    "    'Highest Bill!', # Annotation for heighest bill\n",
    "    xy=(highest_bill_row['total_bill'], highest_bill_row['tip']), # Giving the arrow the x and y coordinates to point the max value.\n",
    "    xytext=(highest_bill_row['total_bill'] + 5, highest_bill_row['tip'] + 1), # Giving the text the x and y coordinates to point the max value.\n",
    "    arrowprops=dict(facecolor='black', shrink=0.05), #giving black color and space between arrow and text\n",
    "    fontsize=10,\n",
    "    color='red'  \n",
    ")\n",
    "\n",
    "# Annotate the lowest total_bill\n",
    "lowest_bill_row = df.loc[df['total_bill'].idxmin()]\n",
    "plt.annotate(\n",
    "    'Lowest Bill!',\n",
    "    xy=(lowest_bill_row['total_bill'], lowest_bill_row['tip']),\n",
    "    xytext=(lowest_bill_row['total_bill'] - 5, lowest_bill_row['tip'] + 0.5), # Adjust text position\n",
    "    arrowprops=dict(facecolor='green', shrink=0.05),\n",
    "    fontsize=10,\n",
    "    color='green',\n",
    "    horizontalalignment='right' # Align text to the right of the arrow\n",
    ")\n",
    "\n",
    "plt.show()"
   ]
  }
 ],
 "metadata": {
  "kernelspec": {
   "display_name": "base",
   "language": "python",
   "name": "python3"
  },
  "language_info": {
   "codemirror_mode": {
    "name": "ipython",
    "version": 3
   },
   "file_extension": ".py",
   "mimetype": "text/x-python",
   "name": "python",
   "nbconvert_exporter": "python",
   "pygments_lexer": "ipython3",
   "version": "3.13.5"
  }
 },
 "nbformat": 4,
 "nbformat_minor": 5
}
