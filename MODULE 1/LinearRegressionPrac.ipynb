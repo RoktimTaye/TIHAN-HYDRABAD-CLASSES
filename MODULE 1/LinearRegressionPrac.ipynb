{
 "cells": [
  {
   "cell_type": "code",
   "execution_count": null,
   "id": "069f25b4",
   "metadata": {},
   "outputs": [],
   "source": [
    "import tensorflow as tf\n",
    "\n",
    "x = tf.random.uniform((100,1))\n",
    "y = 3*x + 4 + 0.1*tf.random.normal((100,1))\n",
    "\n",
    "w = tf.Variable(tf.random.normal((1,)))\n",
    "b = tf.Variable(tf.random.normal((1,)))\n",
    "\n",
    "with tf.GradientTape() as tape:\n",
    "    y_pred = w*x + b\n",
    "    loss = tf.reduce_mean((y - y_pred)**2)\n",
    "    grads = tape.gradient(loss,[w,b])\n",
    "    \n",
    "    print(\"Loss function : \",loss)\n",
    "    print(\"Gradient w : \",grads[0].numpy(),\"Gradient b : \",grads[1].numpy())"
   ]
  },
  {
   "cell_type": "code",
   "execution_count": 22,
   "id": "da20303d",
   "metadata": {},
   "outputs": [
    {
     "name": "stdout",
     "output_type": "stream",
     "text": [
      "Loss function :  tensor(50.5708, grad_fn=<MeanBackward0>)\n",
      "Gradient w :  -9.7205810546875 Gradient b :  -10.470830917358398\n"
     ]
    }
   ],
   "source": [
    "import torch\n",
    "\n",
    "x = torch.randn(100,1)\n",
    "y = 3*x + 6 + 0.1*torch.randn(100,1)\n",
    "\n",
    "w = torch.randn(1,requires_grad=True)\n",
    "b = torch.randn(1,requires_grad=True)\n",
    "\n",
    "y_pred = w*x + b\n",
    "loss = torch.mean((y - y_pred)**2)\n",
    "loss.backward()\n",
    "print(\"Loss function : \",loss)\n",
    "print(\"Gradient w : \",w.grad.item(),\"Gradient b : \",b.grad.item())"
   ]
  }
 ],
 "metadata": {
  "kernelspec": {
   "display_name": "base",
   "language": "python",
   "name": "python3"
  },
  "language_info": {
   "codemirror_mode": {
    "name": "ipython",
    "version": 3
   },
   "file_extension": ".py",
   "mimetype": "text/x-python",
   "name": "python",
   "nbconvert_exporter": "python",
   "pygments_lexer": "ipython3",
   "version": "3.13.5"
  }
 },
 "nbformat": 4,
 "nbformat_minor": 5
}
