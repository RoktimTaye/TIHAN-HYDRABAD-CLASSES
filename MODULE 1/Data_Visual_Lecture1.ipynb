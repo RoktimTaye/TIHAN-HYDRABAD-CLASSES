{
  "cells": [
    {
      "cell_type": "code",
      "execution_count": 1,
      "metadata": {
        "id": "i_czylHU_lEU"
      },
      "outputs": [],
      "source": [
        "# Importing matplotlib and pyplot\n",
        "import matplotlib.pyplot as plt\n",
        "import numpy as np\n",
        "import pandas as pd"
      ]
    },
    {
      "cell_type": "markdown",
      "metadata": {
        "id": "fSqEy7qabRq_"
      },
      "source": [
        "matplotlib.pyplot: Plotting library used for creating graphs and charts.\n",
        "\n",
        "numpy: Used for numerical operations (arrays, range of values, etc.).\n",
        "\n",
        "pandas: Used to read and handle tabular data (CSV, Excel, etc.)."
      ]
    },
    {
      "cell_type": "code",
      "execution_count": 2,
      "metadata": {
        "id": "OuF8wuAjCFy2"
      },
      "outputs": [],
      "source": [
        "df = pd.read_csv('Cars.csv')"
      ]
    },
    {
      "cell_type": "code",
      "execution_count": 3,
      "metadata": {
        "colab": {
          "base_uri": "https://localhost:8080/",
          "height": 206
        },
        "id": "TkL9SnYJCOTY",
        "outputId": "6431ca1b-5bea-44be-9cc0-5872586460c8"
      },
      "outputs": [
        {
          "data": {
            "text/html": [
              "<div>\n",
              "<style scoped>\n",
              "    .dataframe tbody tr th:only-of-type {\n",
              "        vertical-align: middle;\n",
              "    }\n",
              "\n",
              "    .dataframe tbody tr th {\n",
              "        vertical-align: top;\n",
              "    }\n",
              "\n",
              "    .dataframe thead th {\n",
              "        text-align: right;\n",
              "    }\n",
              "</style>\n",
              "<table border=\"1\" class=\"dataframe\">\n",
              "  <thead>\n",
              "    <tr style=\"text-align: right;\">\n",
              "      <th></th>\n",
              "      <th>Car_Name</th>\n",
              "      <th>Year</th>\n",
              "      <th>Selling_Price</th>\n",
              "      <th>Present_Price</th>\n",
              "      <th>Kms_Driven</th>\n",
              "      <th>Fuel_Type</th>\n",
              "      <th>Seller_Type</th>\n",
              "      <th>Transmission</th>\n",
              "      <th>Owner</th>\n",
              "    </tr>\n",
              "  </thead>\n",
              "  <tbody>\n",
              "    <tr>\n",
              "      <th>0</th>\n",
              "      <td>ritz</td>\n",
              "      <td>2014</td>\n",
              "      <td>3.35</td>\n",
              "      <td>5.59</td>\n",
              "      <td>27000</td>\n",
              "      <td>Petrol</td>\n",
              "      <td>Dealer</td>\n",
              "      <td>Manual</td>\n",
              "      <td>0</td>\n",
              "    </tr>\n",
              "    <tr>\n",
              "      <th>1</th>\n",
              "      <td>sx4</td>\n",
              "      <td>2013</td>\n",
              "      <td>4.75</td>\n",
              "      <td>9.54</td>\n",
              "      <td>43000</td>\n",
              "      <td>Diesel</td>\n",
              "      <td>Dealer</td>\n",
              "      <td>Manual</td>\n",
              "      <td>0</td>\n",
              "    </tr>\n",
              "    <tr>\n",
              "      <th>2</th>\n",
              "      <td>ciaz</td>\n",
              "      <td>2017</td>\n",
              "      <td>7.25</td>\n",
              "      <td>9.85</td>\n",
              "      <td>6900</td>\n",
              "      <td>Petrol</td>\n",
              "      <td>Dealer</td>\n",
              "      <td>Manual</td>\n",
              "      <td>0</td>\n",
              "    </tr>\n",
              "    <tr>\n",
              "      <th>3</th>\n",
              "      <td>wagon r</td>\n",
              "      <td>2011</td>\n",
              "      <td>2.85</td>\n",
              "      <td>4.15</td>\n",
              "      <td>5200</td>\n",
              "      <td>Petrol</td>\n",
              "      <td>Dealer</td>\n",
              "      <td>Manual</td>\n",
              "      <td>0</td>\n",
              "    </tr>\n",
              "    <tr>\n",
              "      <th>4</th>\n",
              "      <td>swift</td>\n",
              "      <td>2014</td>\n",
              "      <td>4.60</td>\n",
              "      <td>6.87</td>\n",
              "      <td>42450</td>\n",
              "      <td>Diesel</td>\n",
              "      <td>Dealer</td>\n",
              "      <td>Manual</td>\n",
              "      <td>0</td>\n",
              "    </tr>\n",
              "  </tbody>\n",
              "</table>\n",
              "</div>"
            ],
            "text/plain": [
              "  Car_Name  Year  Selling_Price  Present_Price  Kms_Driven Fuel_Type  \\\n",
              "0     ritz  2014           3.35           5.59       27000    Petrol   \n",
              "1      sx4  2013           4.75           9.54       43000    Diesel   \n",
              "2     ciaz  2017           7.25           9.85        6900    Petrol   \n",
              "3  wagon r  2011           2.85           4.15        5200    Petrol   \n",
              "4    swift  2014           4.60           6.87       42450    Diesel   \n",
              "\n",
              "  Seller_Type Transmission  Owner  \n",
              "0      Dealer       Manual      0  \n",
              "1      Dealer       Manual      0  \n",
              "2      Dealer       Manual      0  \n",
              "3      Dealer       Manual      0  \n",
              "4      Dealer       Manual      0  "
            ]
          },
          "execution_count": 3,
          "metadata": {},
          "output_type": "execute_result"
        }
      ],
      "source": [
        "# preview\n",
        "df.head()\n",
        "# Displays the first 5 rows of the DataFrame to understand its structure."
      ]
    },
    {
      "cell_type": "code",
      "execution_count": 4,
      "metadata": {
        "colab": {
          "base_uri": "https://localhost:8080/"
        },
        "id": "h34OK_ohCLjf",
        "outputId": "0e01a220-9543-439e-942d-261d9de4cb0a"
      },
      "outputs": [
        {
          "name": "stdout",
          "output_type": "stream",
          "text": [
            "<class 'pandas.core.frame.DataFrame'>\n",
            "RangeIndex: 301 entries, 0 to 300\n",
            "Data columns (total 9 columns):\n",
            " #   Column         Non-Null Count  Dtype  \n",
            "---  ------         --------------  -----  \n",
            " 0   Car_Name       301 non-null    object \n",
            " 1   Year           301 non-null    int64  \n",
            " 2   Selling_Price  301 non-null    float64\n",
            " 3   Present_Price  301 non-null    float64\n",
            " 4   Kms_Driven     301 non-null    int64  \n",
            " 5   Fuel_Type      301 non-null    object \n",
            " 6   Seller_Type    301 non-null    object \n",
            " 7   Transmission   301 non-null    object \n",
            " 8   Owner          301 non-null    int64  \n",
            "dtypes: float64(2), int64(3), object(4)\n",
            "memory usage: 21.3+ KB\n"
          ]
        }
      ],
      "source": [
        "# info\n",
        "# Gives summary of the DataFrame, including:\n",
        "\n",
        "# Column names\n",
        "\n",
        "# Non-null counts\n",
        "\n",
        "# Data Types\n",
        "\n",
        "df.info()"
      ]
    },
    {
      "cell_type": "code",
      "execution_count": 5,
      "metadata": {
        "colab": {
          "base_uri": "https://localhost:8080/",
          "height": 300
        },
        "id": "ifydqOMITwPf",
        "outputId": "65dae85d-40f0-42db-b657-0c4c2df15f05"
      },
      "outputs": [
        {
          "data": {
            "text/html": [
              "<div>\n",
              "<style scoped>\n",
              "    .dataframe tbody tr th:only-of-type {\n",
              "        vertical-align: middle;\n",
              "    }\n",
              "\n",
              "    .dataframe tbody tr th {\n",
              "        vertical-align: top;\n",
              "    }\n",
              "\n",
              "    .dataframe thead th {\n",
              "        text-align: right;\n",
              "    }\n",
              "</style>\n",
              "<table border=\"1\" class=\"dataframe\">\n",
              "  <thead>\n",
              "    <tr style=\"text-align: right;\">\n",
              "      <th></th>\n",
              "      <th>Year</th>\n",
              "      <th>Selling_Price</th>\n",
              "      <th>Present_Price</th>\n",
              "      <th>Kms_Driven</th>\n",
              "      <th>Owner</th>\n",
              "    </tr>\n",
              "  </thead>\n",
              "  <tbody>\n",
              "    <tr>\n",
              "      <th>count</th>\n",
              "      <td>301.000000</td>\n",
              "      <td>301.000000</td>\n",
              "      <td>301.000000</td>\n",
              "      <td>301.000000</td>\n",
              "      <td>301.000000</td>\n",
              "    </tr>\n",
              "    <tr>\n",
              "      <th>mean</th>\n",
              "      <td>2013.627907</td>\n",
              "      <td>4.661296</td>\n",
              "      <td>7.628472</td>\n",
              "      <td>36947.205980</td>\n",
              "      <td>0.043189</td>\n",
              "    </tr>\n",
              "    <tr>\n",
              "      <th>std</th>\n",
              "      <td>2.891554</td>\n",
              "      <td>5.082812</td>\n",
              "      <td>8.644115</td>\n",
              "      <td>38886.883882</td>\n",
              "      <td>0.247915</td>\n",
              "    </tr>\n",
              "    <tr>\n",
              "      <th>min</th>\n",
              "      <td>2003.000000</td>\n",
              "      <td>0.100000</td>\n",
              "      <td>0.320000</td>\n",
              "      <td>500.000000</td>\n",
              "      <td>0.000000</td>\n",
              "    </tr>\n",
              "    <tr>\n",
              "      <th>25%</th>\n",
              "      <td>2012.000000</td>\n",
              "      <td>0.900000</td>\n",
              "      <td>1.200000</td>\n",
              "      <td>15000.000000</td>\n",
              "      <td>0.000000</td>\n",
              "    </tr>\n",
              "    <tr>\n",
              "      <th>50%</th>\n",
              "      <td>2014.000000</td>\n",
              "      <td>3.600000</td>\n",
              "      <td>6.400000</td>\n",
              "      <td>32000.000000</td>\n",
              "      <td>0.000000</td>\n",
              "    </tr>\n",
              "    <tr>\n",
              "      <th>75%</th>\n",
              "      <td>2016.000000</td>\n",
              "      <td>6.000000</td>\n",
              "      <td>9.900000</td>\n",
              "      <td>48767.000000</td>\n",
              "      <td>0.000000</td>\n",
              "    </tr>\n",
              "    <tr>\n",
              "      <th>max</th>\n",
              "      <td>2018.000000</td>\n",
              "      <td>35.000000</td>\n",
              "      <td>92.600000</td>\n",
              "      <td>500000.000000</td>\n",
              "      <td>3.000000</td>\n",
              "    </tr>\n",
              "  </tbody>\n",
              "</table>\n",
              "</div>"
            ],
            "text/plain": [
              "              Year  Selling_Price  Present_Price     Kms_Driven       Owner\n",
              "count   301.000000     301.000000     301.000000     301.000000  301.000000\n",
              "mean   2013.627907       4.661296       7.628472   36947.205980    0.043189\n",
              "std       2.891554       5.082812       8.644115   38886.883882    0.247915\n",
              "min    2003.000000       0.100000       0.320000     500.000000    0.000000\n",
              "25%    2012.000000       0.900000       1.200000   15000.000000    0.000000\n",
              "50%    2014.000000       3.600000       6.400000   32000.000000    0.000000\n",
              "75%    2016.000000       6.000000       9.900000   48767.000000    0.000000\n",
              "max    2018.000000      35.000000      92.600000  500000.000000    3.000000"
            ]
          },
          "execution_count": 5,
          "metadata": {},
          "output_type": "execute_result"
        }
      ],
      "source": [
        "df.describe()\n",
        "# Shows statistical summary (mean, std, min, max, etc.) of numerical columns."
      ]
    },
    {
      "cell_type": "code",
      "execution_count": 6,
      "metadata": {
        "colab": {
          "base_uri": "https://localhost:8080/"
        },
        "id": "8eiSoLMwcBcM",
        "outputId": "2f3ba6a2-b4d4-42c5-b6cc-bdf8db4e85f5"
      },
      "outputs": [
        {
          "data": {
            "text/plain": [
              "Index(['Car_Name', 'Year', 'Selling_Price', 'Present_Price', 'Kms_Driven',\n",
              "       'Fuel_Type', 'Seller_Type', 'Transmission', 'Owner'],\n",
              "      dtype='object')"
            ]
          },
          "execution_count": 6,
          "metadata": {},
          "output_type": "execute_result"
        }
      ],
      "source": [
        "df.columns\n"
      ]
    },
    {
      "cell_type": "code",
      "execution_count": 7,
      "metadata": {
        "colab": {
          "base_uri": "https://localhost:8080/",
          "height": 366
        },
        "id": "uxn53xR2cCqH",
        "outputId": "503930ee-feec-47e1-9e5c-959437a24fa3"
      },
      "outputs": [
        {
          "data": {
            "text/plain": [
              "Car_Name         0\n",
              "Year             0\n",
              "Selling_Price    0\n",
              "Present_Price    0\n",
              "Kms_Driven       0\n",
              "Fuel_Type        0\n",
              "Seller_Type      0\n",
              "Transmission     0\n",
              "Owner            0\n",
              "dtype: int64"
            ]
          },
          "execution_count": 7,
          "metadata": {},
          "output_type": "execute_result"
        }
      ],
      "source": [
        "df.isnull().sum()\n"
      ]
    },
    {
      "cell_type": "code",
      "execution_count": 8,
      "metadata": {
        "colab": {
          "base_uri": "https://localhost:8080/"
        },
        "id": "hgWQep7AcGd-",
        "outputId": "625755de-6e25-4cd6-931c-ac49548ad37f"
      },
      "outputs": [
        {
          "data": {
            "text/plain": [
              "(301, 9)"
            ]
          },
          "execution_count": 8,
          "metadata": {},
          "output_type": "execute_result"
        }
      ],
      "source": [
        "df.shape\n"
      ]
    },
    {
      "cell_type": "code",
      "execution_count": 9,
      "metadata": {
        "colab": {
          "base_uri": "https://localhost:8080/",
          "height": 210
        },
        "id": "YZHcpmqycKR2",
        "outputId": "2a858e2c-d205-4ec4-9b5b-282520af7f80"
      },
      "outputs": [
        {
          "data": {
            "text/plain": [
              "Fuel_Type\n",
              "Petrol    239\n",
              "Diesel     60\n",
              "CNG         2\n",
              "Name: count, dtype: int64"
            ]
          },
          "execution_count": 9,
          "metadata": {},
          "output_type": "execute_result"
        }
      ],
      "source": [
        "df['Fuel_Type'].value_counts()\n",
        "\n",
        "#  Displays the number of occurrences of each unique value in the Fuel_Type column."
      ]
    },
    {
      "cell_type": "markdown",
      "metadata": {
        "id": "2hPXN8IL_3Ey"
      },
      "source": [
        "# **Line Plot**\n",
        "\n",
        " What is a Line Plot?\n",
        "\n",
        "A line plot connects data points with a continuous line. Useful for trends over time.\n",
        "\n",
        "Key Function: plt.plot()\n"
      ]
    },
    {
      "cell_type": "code",
      "execution_count": 10,
      "metadata": {
        "colab": {
          "base_uri": "https://localhost:8080/",
          "height": 557
        },
        "id": "Uz9Gmt8H_qNb",
        "outputId": "397d0172-a7d9-4b8f-c1a5-51a944c833d3"
      },
      "outputs": [
        {
          "data": {
            "image/png": "[encoded data removed]",
            "text/plain": [
              "<Figure size 800x600 with 1 Axes>"
            ]
          },
          "metadata": {},
          "output_type": "display_data"
        }
      ],
      "source": [
        "# Plot the selling price using a line graph in green color and labeled axis.\n",
        "plt.figure(figsize=(8, 6))\n",
        "plt.plot(df['Selling_Price'], color='green')\n",
        "plt.xlabel('Index')\n",
        "plt.ylabel('Selling Price')\n",
        "plt.title('Selling Price Line Graph')\n",
        "plt.show()\n",
        "\n"
      ]
    },
    {
      "cell_type": "markdown",
      "metadata": {
        "id": "D4FiKQUtBRr5"
      },
      "source": [
        "Important Parameters:\n",
        "\n",
        "x, y: Data points\n",
        "\n",
        "color: Line color ('b', 'g', '#ff5733')\n",
        "\n",
        "linestyle: '-', '--', ':', '-.'\n",
        "\n",
        "linewidth: Thickness of the line\n",
        "\n",
        "marker: 'o', '*', 's', 'x', etc.\n",
        "\n",
        "label: For legends\n"
      ]
    },
    {
      "cell_type": "code",
      "execution_count": 11,
      "metadata": {
        "colab": {
          "base_uri": "https://localhost:8080/",
          "height": 557
        },
        "id": "60H6De70KUSg",
        "outputId": "54212405-e032-4359-ddad-a0fcfa66ebf0"
      },
      "outputs": [
        {
          "data": {
            "image/png": "[encoded data removed]",
            "text/plain": [
              "<Figure size 800x600 with 1 Axes>"
            ]
          },
          "metadata": {},
          "output_type": "display_data"
        }
      ],
      "source": [
        "# Plot the selling price and present price in the same line graph with a legend.\n",
        "plt.figure(figsize=(8, 6))\n",
        "plt.plot(df['Selling_Price'], color='green', label='Selling Price')\n",
        "plt.plot(df['Present_Price'], color='orange', label='Present Price')\n",
        "plt.xlabel('Index')\n",
        "plt.ylabel('Price')\n",
        "plt.legend()\n",
        "plt.title('Selling Price vs Present Price')\n",
        "plt.show()"
      ]
    },
    {
      "cell_type": "code",
      "execution_count": 12,
      "metadata": {
        "colab": {
          "base_uri": "https://localhost:8080/",
          "height": 557
        },
        "id": "jsqTqrjsKaWh",
        "outputId": "7d0401b6-b287-4400-c3e9-f6e2774baa23"
      },
      "outputs": [
        {
          "data": {
            "image/png": "[encoded data removed]",
            "text/plain": [
              "<Figure size 800x600 with 1 Axes>"
            ]
          },
          "metadata": {},
          "output_type": "display_data"
        }
      ],
      "source": [
        "# Plot the Kms driven and selling price in the same line graph.\n",
        "plt.figure(figsize=(8,6))\n",
        "plt.plot(df['Kms_Driven'],color='red',label='Kms Driven')\n",
        "plt.plot(df['Selling_Price'],color='green',label='Selling price')\n",
        "plt.xlabel('Index')\n",
        "plt.ylabel('Value')\n",
        "plt.legend()\n",
        "plt.title('Kms Driven vs Selling Price')\n",
        "plt.show()"
      ]
    },
    {
      "cell_type": "markdown",
      "metadata": {
        "id": "O7SnlohUAIub"
      },
      "source": [
        "# **Bar Plot**\n",
        "\n",
        " What is a Bar Plot?\n",
        "\n",
        "Bar plots are used to compare quantities across categories.\n",
        "\n",
        "Key Function: plt.bar()\n"
      ]
    },
    {
      "cell_type": "code",
      "execution_count": 14,
      "metadata": {
        "colab": {
          "base_uri": "https://localhost:8080/",
          "height": 465
        },
        "id": "6lDQwSX8clHK",
        "outputId": "161b16b1-b4d0-4a8b-e978-bf447bf352ba"
      },
      "outputs": [
        {
          "data": {
            "image/png": "[encoded data removed]",
            "text/plain": [
              "<Figure size 640x480 with 1 Axes>"
            ]
          },
          "metadata": {},
          "output_type": "display_data"
        }
      ],
      "source": [
        "# Plot the bar plot of fuel status.\n",
        "# First Method\n",
        "# print(df['Fuel_Type'].value_counts().index)\n",
        "# print(df['Fuel_Type'].value_counts())\n",
        "\n",
        "plt.bar(df['Fuel_Type'].value_counts().index, df['Fuel_Type'].value_counts())\n",
        "plt.title(\"Fuel Type Count\")\n",
        "plt.xlabel(\"Fuel Type\")\n",
        "plt.ylabel(\"Count\")\n",
        "plt.show()\n"
      ]
    },
    {
      "cell_type": "code",
      "execution_count": 15,
      "metadata": {
        "colab": {
          "base_uri": "https://localhost:8080/",
          "height": 582
        },
        "id": "xZ1b-4ZuA6YO",
        "outputId": "db5a272f-443e-4262-83ed-1d33bd532f0d"
      },
      "outputs": [
        {
          "data": {
            "image/png": "[encoded data removed]",
            "text/plain": [
              "<Figure size 800x600 with 1 Axes>"
            ]
          },
          "metadata": {},
          "output_type": "display_data"
        }
      ],
      "source": [
        "# Second Method\n",
        "plt.figure(figsize=(8,6))\n",
        "df['Fuel_Type'].value_counts().plot(kind='bar')\n",
        "plt.xlabel('Fuel Type')\n",
        "plt.ylabel('Count')\n",
        "plt.title('Bar Plot: Fuel Status')\n",
        "plt.show()"
      ]
    },
    {
      "cell_type": "markdown",
      "metadata": {
        "id": "1RXb0-omBBgC"
      },
      "source": [
        "# **Scatter Plot**\n",
        " What is a Scatter Plot?\n",
        "\n",
        "Shows individual data points. \n",
        "Usage: Correlation, clustering, outlier detection, distribution analysis\n",
        "\n",
        "\n",
        "Key Function: plt.scatter()\n"
      ]
    },
    {
      "cell_type": "code",
      "execution_count": 16,
      "metadata": {
        "colab": {
          "base_uri": "https://localhost:8080/",
          "height": 465
        },
        "id": "SAGuj7-RBIz9",
        "outputId": "b50d4110-f046-458f-a084-efd508d9e20c"
      },
      "outputs": [
        {
          "data": {
            "image/png": "[encoded data removed]",
            "text/plain": [
              "<Figure size 640x480 with 1 Axes>"
            ]
          },
          "metadata": {},
          "output_type": "display_data"
        }
      ],
      "source": [
        "# Plot a scatter plot between the selling price and the present price.\n",
        "plt.scatter(df['Selling_Price'],df['Present_Price'])\n",
        "plt.xlabel('Selling Price')\n",
        "plt.ylabel('Present Price')\n",
        "plt.title('Scatter Plot: Selling Price vs Present Price')\n",
        "plt.show()"
      ]
    },
    {
      "cell_type": "code",
      "execution_count": null,
      "metadata": {
        "colab": {
          "base_uri": "https://localhost:8080/",
          "height": 557
        },
        "id": "FxpEfD6uKoNu",
        "outputId": "4d84117e-5ace-4aea-efbb-bb6c3a70eb28"
      },
      "outputs": [],
      "source": [
        "# Plot a scatter plot between the selling price and the km driven with a marker as ^ and in red color.\n",
        "plt.figure(figsize=(8,6))\n",
        "plt.scatter(df['Selling_Price'],df['Kms_Driven'],marker='*',c='red')\n",
        "plt.xlabel('Selling Price')\n",
        "plt.ylabel('Kms Driven')\n",
        "plt.title('Selling Price vs Kms Driven')\n",
        "plt.show()"
      ]
    },
    {
      "cell_type": "markdown",
      "metadata": {
        "id": "rACJNEMMBWdg"
      },
      "source": [
        "# **Histogram**\n",
        "\n",
        "What is a Histogram?\n",
        "\n",
        "Used to represent the distribution of numeric data.\n",
        "\n",
        "Key Function: plt.hist()"
      ]
    },
    {
      "cell_type": "code",
      "execution_count": null,
      "metadata": {
        "colab": {
          "base_uri": "https://localhost:8080/",
          "height": 462
        },
        "id": "evFmMTnABjbH",
        "outputId": "e49d7b6b-968b-49fa-a728-e321c7574cf5"
      },
      "outputs": [],
      "source": [
        "#  Plot the histogram of all the numerical data in one figure.\n",
        "plt.figure(figsize=(10, 8))\n",
        "df.select_dtypes(include='number').hist(bins=10, edgecolor='black')\n",
        "plt.show()"
      ]
    },
    {
      "cell_type": "code",
      "execution_count": null,
      "metadata": {
        "colab": {
          "base_uri": "https://localhost:8080/",
          "height": 465
        },
        "id": "tQcqLI7Dc47W",
        "outputId": "1c749f23-e3f8-4a0f-be14-e8619cb28311"
      },
      "outputs": [],
      "source": [
        "plt.hist(df['Selling_Price'],bins=5, edgecolor='black')\n",
        "plt.title(\"Distribution of Selling Price\")\n",
        "plt.xlabel(\"Selling Price\")\n",
        "plt.ylabel(\"Frequency\")\n",
        "plt.show()\n"
      ]
    },
    {
      "cell_type": "markdown",
      "metadata": {
        "id": "_wND40tKBjs4"
      },
      "source": [
        "Important Parameters:\n",
        "\n",
        "x: Data\n",
        "\n",
        "bins: Number of bins (or list of bin edges)\n",
        "\n",
        "color: Fill color\n",
        "\n",
        "edgecolor: Color of bin edges\n",
        "\n",
        "alpha: Transparency\n",
        "\n",
        "histtype: 'bar', 'step', 'stepfilled'\n",
        "\n",
        "density: Normalize histogram"
      ]
    },
    {
      "cell_type": "markdown",
      "metadata": {
        "id": "ewmrkJnPKyEZ"
      },
      "source": [
        "# **Polar Projection**\n",
        "\n",
        "Useful when data is cyclic or directional, like:\n",
        "\n",
        "Time-of-day patterns (angles) vs intensity (radius).\n",
        "\n",
        "Wind direction vs wind speed.\n",
        "\n",
        "Radial patterns (e.g., sonar, radar, circular motion)."
      ]
    },
    {
      "cell_type": "code",
      "execution_count": null,
      "metadata": {
        "colab": {
          "base_uri": "https://localhost:8080/",
          "height": 542
        },
        "id": "Y6WzCZu3K0ui",
        "outputId": "c12fd766-4d5c-4930-f7ce-cd5b5d8679b6"
      },
      "outputs": [],
      "source": [
        "# Plot a polar projection of the selling price and the km driven.\n",
        "#Angle → Selling Price\n",
        "#Radius → Kms Driven\n",
        "figure=plt.figure(figsize=(8,6))\n",
        "data1=figure.add_subplot(projection='polar')\n",
        "data1.scatter(df['Selling_Price'],df['Kms_Driven'])\n",
        "plt.title('Polar Projection: Selling Price vs Kms Driven')\n",
        "plt.show()"
      ]
    },
    {
      "cell_type": "markdown",
      "metadata": {
        "id": "_aIetv0zg2aA"
      },
      "source": [
        "Dense Cluster Near Center: Most cars have low Selling_Price and low Kms_Driven. That’s why most points are near the center.\n",
        "\n",
        "Sparse Points at High Radius: Some cars have been driven a lot (higher km), even if the selling price is not high.\n",
        "\n",
        "Few Points on Outer Ring: Very few cars have high selling prices and high kilometers driven."
      ]
    },
    {
      "cell_type": "markdown",
      "metadata": {
        "id": "cb4vxfkwLLag"
      },
      "source": [
        "# **Pie Chart**\n",
        "Useful in:\n",
        "Data distribution analysis: Quickly see which category dominates.\n",
        "\n",
        "Business insights: For example, check if most cars are Petrol, sold by Dealers, and Manual.\n",
        "\n",
        "Data science: Useful in exploratory data analysis (EDA) before modeling."
      ]
    },
    {
      "cell_type": "code",
      "execution_count": null,
      "metadata": {
        "colab": {
          "base_uri": "https://localhost:8080/",
          "height": 423
        },
        "id": "YEAMqqDSLPQ5",
        "outputId": "fbedb028-18cd-4b14-d60a-04ac39e850a3"
      },
      "outputs": [],
      "source": [
        "# Draw the pie charts of fuel_type, seller_type, transmission_type with a shadow as true and explode\n",
        "# value of 0.3 each.\n",
        "\n",
        "# mylabels=('fuel type','seller type','transmission type')\n",
        "fig,axs = plt.subplots(1, 3, figsize=(15, 5))\n",
        "myexplode1=[0.3,0.3,0.3]\n",
        "fuel_type_counts = df['Fuel_Type'].value_counts()\n",
        "axs[2].pie(fuel_type_counts, # Main mal\n",
        "           labels=fuel_type_counts.index,explode=myexplode1,autopct='%1.1f%%',shadow=True) # Decoration\n",
        "axs[2].set_title('Fuel Type')\n",
        "# myexplode2=[0.3,0.3]\n",
        "# seller_type_counts=y=df['Seller_Type'].value_counts()\n",
        "# axs[1].pie(y,labels=y.index,explode=myexplode2,shadow=True)\n",
        "# axs[1].set_title('Seller Type')\n",
        "myexplode2 = [0.3, 0.3]\n",
        "seller_type_counts = df['Seller_Type'].value_counts()\n",
        "axs[1].pie(seller_type_counts,\n",
        "           labels=seller_type_counts.index, explode=myexplode2,autopct='%1.1f%%', shadow=True)\n",
        "axs[1].set_title('Seller Type')\n",
        "# myexplode3=[0.3,0.3]\n",
        "# transmission_type_counts=z=df['Transmission'].value_counts()\n",
        "# axs[2].pie(z,labels=z.index,explode=myexplode3,shadow=True)\n",
        "# axs[2].set_title('Transmission Type')\n",
        "myexplode3 = [0.3, 0.3]\n",
        "transmission_type_counts = df['Transmission'].value_counts()\n",
        "axs[0].pie(transmission_type_counts,\n",
        "           labels=transmission_type_counts.index,autopct='%1.1f%%', explode=myexplode3, shadow=True)\n",
        "axs[0].set_title('Transmission Type')\n",
        "plt.show()"
      ]
    },
    {
      "cell_type": "code",
      "execution_count": null,
      "metadata": {
        "colab": {
          "base_uri": "https://localhost:8080/",
          "height": 519
        },
        "id": "Tk4b_HJedYx8",
        "outputId": "b2b1b23f-4bb6-4183-af98-fe98f332fc8b"
      },
      "outputs": [],
      "source": [
        "plt.figure(figsize=(8, 6))\n",
        "df['Transmission'].value_counts().plot(kind='pie', autopct='%1.1f%%', startangle=90)\n",
        "plt.title(\"Transmission Type\")\n",
        "plt.ylabel(\"\")  # Hides the default y-axis label\n",
        "plt.show()\n",
        "# Pie chart showing percentage of Manual vs Automatic cars.\n",
        "# autopct shows percentages."
      ]
    },
    {
      "cell_type": "markdown",
      "metadata": {
        "id": "kMkrXVyBLWdQ"
      },
      "source": [
        "# **Box Plot**\n",
        "\n",
        "When is this useful?\n",
        "Exploratory Data Analysis (EDA) → Quickly detect skewness and outliers in numeric data.\n",
        "\n",
        "Business insight → For example, check if there are cars with unusually high selling price or kilometers driven.\n",
        "\n",
        "Data cleaning → Identify outliers that might need further investigation.\n",
        "\n",
        "Boxplot components:\n",
        "\n",
        "Middle line → median of the data.\n",
        "\n",
        "Box edges → 25th percentile (Q1) and 75th percentile (Q3).\n",
        "\n",
        "Whiskers → show range excluding outliers.\n",
        "\n",
        "Dots outside whiskers → outliers."
      ]
    },
    {
      "cell_type": "code",
      "execution_count": null,
      "metadata": {
        "colab": {
          "base_uri": "https://localhost:8080/",
          "height": 579
        },
        "id": "dVlyRR1eGFJU",
        "outputId": "58dcc56d-ac67-40b6-f0f0-59f06c6b14ab"
      },
      "outputs": [],
      "source": [
        "#  Draw the boxplot of -the selling price, present price, and kms driven.\n",
        "fig,axs = plt.subplots(1, 3, sharex=True,figsize=(15, 5))\n",
        "#1 row → all plots will be placed horizontally.\n",
        "#3 columns → three separate plotting areas (called axes) are created side by side.\n",
        "axs[0].boxplot(df['Selling_Price'])\n",
        "axs[1].boxplot(df['Present_Price'])\n",
        "axs[2].boxplot(df['Kms_Driven'])\n",
        "plt.show()"
      ]
    },
    {
      "cell_type": "markdown",
      "metadata": {
        "id": "I6HmvVGqdnkF"
      },
      "source": [
        "# **Dot Plot**"
      ]
    },
    {
      "cell_type": "code",
      "execution_count": null,
      "metadata": {
        "colab": {
          "base_uri": "https://localhost:8080/",
          "height": 465
        },
        "id": "uN0I1d2ydmae",
        "outputId": "fd1f7fb3-2ef4-4ab4-bfef-2824923932af"
      },
      "outputs": [],
      "source": [
        "plt.plot(df['Year'], df['Selling_Price'],'o')\n",
        "plt.title(\"Selling Price by Year\")\n",
        "plt.xlabel(\"Year\")\n",
        "plt.ylabel(\"Selling Price\")\n",
        "plt.show()\n",
        "\n",
        "# Dot plot of Selling_Price over Year.\n",
        "\n",
        "# Not a time series (years are not continuous), so o marker is okay."
      ]
    },
    {
      "cell_type": "markdown",
      "metadata": {},
      "source": [
        "3D Scatter Plots: 3D scatter plots visualize relationships among three numerical variables, plotting each observation as a point in 3D space.\n",
        "They are commonly used to detect clusters, outliers, and correlations, for example in analyzing car price vs usage vs resale value or visualizing model prediction errors.\n"
      ]
    },
    {
      "cell_type": "code",
      "execution_count": null,
      "metadata": {},
      "outputs": [],
      "source": [
        "#df = pd.read_csv('cardata.csv')\n",
        "# Choose numeric columns\n",
        "x = df['Present_Price']\n",
        "y = df['Kms_Driven']\n",
        "z = df['Selling_Price']\n",
        "# Set up 3D plot\n",
        "fig = plt.figure(figsize=(10, 7))\n",
        "ax = fig.add_subplot(111, projection='3d')\n",
        "# Scatter plot\n",
        "scatter = ax.scatter(x, y, z,c=z,  # Color of each point is based on Selling price\n",
        "                     cmap='viridis', marker='o')\n",
        "ax.set_xlabel('Present Price (Lakh)')\n",
        "ax.set_ylabel('Kms Driven')\n",
        "ax.set_zlabel('Selling Price (Lakh)')\n",
        "ax.set_title('3D Scatter Plot: Car Data')\n",
        "# Color bar\n",
        "fig.colorbar(scatter, ax=ax, shrink=0.5, aspect=5)\n",
        "plt.show()"
      ]
    },
    {
      "cell_type": "markdown",
      "metadata": {},
      "source": [
        "3D Surface with Hillshading: 3D surface plots with hillshading convert scattered data into a smooth continuous surface with realistic light effects, highlighting shape and gradients.\n",
        "These are used for understanding trends across continuous variables, like sales forecasting surfaces, geographical elevation models, or ML response surfaces for hyperparameter tuning."
      ]
    },
    {
      "cell_type": "code",
      "execution_count": null,
      "metadata": {},
      "outputs": [],
      "source": [
        "import matplotlib.pyplot as plt\n",
        "import pandas as pd\n",
        "import numpy as np\n",
        "from scipy.interpolate import griddata\n",
        "from matplotlib.colors import LightSource\n",
        "from matplotlib import cm\n",
        "\n",
        "# Load dataset\n",
        "df = pd.read_csv('Cars.csv')\n",
        "\n",
        "# Select numeric columns\n",
        "x = df['Present_Price'].values\n",
        "y = df['Kms_Driven'].values\n",
        "z = df['Selling_Price'].values\n",
        "\n",
        "# Create a grid for interpolation\n",
        "xi = np.linspace(min(x), max(x), 100)\n",
        "yi = np.linspace(min(y), max(y), 100)\n",
        "xi, yi = np.meshgrid(xi, yi)\n",
        "\n",
        "# Interpolate Selling_Price over grid\n",
        "zi = griddata((x, y), z, (xi, yi), method='cubic')\n",
        "\n",
        "# Handle any NaN values from interpolation\n",
        "zi = np.nan_to_num(zi, nan=np.nanmean(z))\n",
        "\n",
        "# Hillshading\n",
        "ls = LightSource(azdeg=270, altdeg=45)\n",
        "rgb = ls.shade(zi, cmap=cm.viridis, vert_exag=0.1, blend_mode='soft')\n",
        "\n",
        "# Plot\n",
        "fig, ax = plt.subplots(subplot_kw={'projection': '3d'}, figsize=(12, 8))\n",
        "surf = ax.plot_surface(xi, yi, zi, facecolors=rgb, linewidth=0, antialiased=False, shade=False)\n",
        "\n",
        "# Labels and title\n",
        "ax.set_xlabel('Present Price (Lakh)')\n",
        "ax.set_ylabel('Kms Driven')\n",
        "ax.set_zlabel('Selling Price (Lakh)')\n",
        "ax.set_title('3D Surface with Hillshading: Car Dataset')\n",
        "\n",
        "plt.show()\n"
      ]
    },
    {
      "cell_type": "code",
      "execution_count": null,
      "metadata": {},
      "outputs": [],
      "source": []
    },
    {
      "cell_type": "markdown",
      "metadata": {
        "id": "qbV9zc17hUCH"
      },
      "source": [
        "# **Older Cars (2003–2009):**\n",
        "\n",
        "Most selling prices are quite low (₹0–5 lakhs).\n",
        "\n",
        "\n",
        "\n",
        "# **2010–2016 Cars:**\n",
        "\n",
        "Much wider range of prices.\n",
        "\n",
        "Some go up to ₹35 lakhs — probably high-end cars.\n",
        "\n",
        "Cluster of mid-range prices (₹5–15 lakhs) appears.\n",
        "\n",
        "\n",
        "# **Newer Cars (2017–2018):**\n",
        "\n",
        "Fewer listings, but still reasonably priced (₹5–20+ lakhs).\n",
        "\n",
        "Possibly fewer listings because they are newer and fewer owners are reselling them yet."
      ]
    },
    {
      "cell_type": "markdown",
      "metadata": {
        "id": "hkFz_89QGvm6"
      },
      "source": [
        "# **Correlation Matrix**"
      ]
    },
    {
      "cell_type": "code",
      "execution_count": null,
      "metadata": {
        "colab": {
          "base_uri": "https://localhost:8080/"
        },
        "id": "j9ZG17qEGlwd",
        "outputId": "333277b3-de02-4809-aad1-78236ecf2e93"
      },
      "outputs": [],
      "source": [
        "# It only takes numeric value\n",
        "df_numeric = df.select_dtypes(include=['number'])\n",
        "correlation_matrix = df_numeric.corr()\n",
        "print(correlation_matrix)\n"
      ]
    },
    {
      "cell_type": "markdown",
      "metadata": {
        "id": "f6bdBnfPLrBL"
      },
      "source": [
        "# **Heat Map**"
      ]
    },
    {
      "cell_type": "code",
      "execution_count": null,
      "metadata": {
        "colab": {
          "base_uri": "https://localhost:8080/",
          "height": 692
        },
        "id": "TdXUvcE-GtYT",
        "outputId": "0d921bc3-78de-412f-c3dc-efc0d1264ead"
      },
      "outputs": [],
      "source": [
        "# Draw the heatmap of the correlation matrix of the above data set.\n",
        "import seaborn as sns\n",
        "plt.figure(figsize=(10, 8))\n",
        "sns.heatmap(df_numeric.corr(), annot=True, cmap='coolwarm', fmt=\".2f\")\n",
        "plt.title('Correlation Matrix Heatmap')\n",
        "plt.show()"
      ]
    },
    {
      "cell_type": "markdown",
      "metadata": {
        "id": "L5bvc7sNiD04"
      },
      "source": [
        "| Variables                         | Correlation | Meaning                                                                             |\n",
        "| --------------------------------- | ----------- | ----------------------------------------------------------------------------------- |\n",
        "| `Selling_Price` & `Present_Price` | **0.88**    |  **Strong positive correlation** — cars with high market value sell for more.      |\n",
        "| `Selling_Price` & `Year`          | **0.24**    |  **Weak positive correlation** — newer cars tend to sell for more.                |\n",
        "| `Selling_Price` & `Kms_Driven`    | **0.03**    |  **No significant relation** — distance driven doesn't impact selling price much. |\n",
        "| `Selling_Price` & `Owner`         | **-0.09**   |  **Weak negative correlation** — more owners slightly reduce value.               |\n",
        "| `Year` & `Kms_Driven`             | **-0.52**   |  **Moderate negative correlation** — older cars have driven more, logically.       |\n",
        "| `Present_Price` & `Year`          | **-0.05**   | No strong link — possibly due to market trends or price fluctuations.            |\n"
      ]
    },
    {
      "cell_type": "markdown",
      "metadata": {},
      "source": [
        "A violin plot is similar to a box plot, but it also shows the distribution density of the data.\n",
        "\n",
        "It combines:\n",
        "\n",
        "Box Plot (median, quartiles, outliers)\n",
        "\n",
        "Kernel Density Estimate (KDE) (to show the shape of the distribution).\n",
        "\n",
        "Shape like a violin → wide areas show where data points are concentrated.\n",
        "\n",
        "Useful when you want to know:\n",
        "\n",
        "Are values symmetric or skewed?\n",
        "\n",
        "Are there multiple peaks?"
      ]
    },
    {
      "cell_type": "code",
      "execution_count": null,
      "metadata": {},
      "outputs": [],
      "source": [
        "import seaborn as sns\n",
        "import matplotlib.pyplot as plt\n",
        "\n",
        "# Violin plot: Selling Price by Fuel Type\n",
        "sns.violinplot(x='Fuel_Type', y='Selling_Price', data=df)\n",
        "plt.title(\"Selling Price Distribution by Fuel Type\")\n",
        "plt.show()"
      ]
    },
    {
      "cell_type": "markdown",
      "metadata": {},
      "source": [
        "Central White Dot & Thick Bar\n",
        "\n",
        "The white dot = median selling price of cars for that fuel type.\n",
        "\n",
        "The thick bar around it = interquartile range (IQR) (middle 50% of data).\n",
        "\n",
        "Shape (Width) of the “Violin”\n",
        "\n",
        "Wider areas mean more cars in that selling price range.\n",
        "\n",
        "Narrow areas mean fewer cars in that selling price range.\n",
        "\n",
        "Tails (Top and Bottom Ends)\n",
        "\n",
        "Show extreme values or outliers.\n",
        "\n",
        "If one tail is much longer, the data is skewed in that direction."
      ]
    },
    {
      "cell_type": "markdown",
      "metadata": {},
      "source": [
        "Visualize matrices with matshow\n",
        "matshow visualizes a 2D matrix or array as color-coded image."
      ]
    },
    {
      "cell_type": "code",
      "execution_count": null,
      "metadata": {
        "id": "SbWlvxRhMKlx"
      },
      "outputs": [],
      "source": [
        "import matplotlib.pyplot as plt\n",
        "import numpy as np\n",
        "\n",
        "# a 2D array with linearly increasing values on the diagonal\n",
        "a = np.diag(range(15))\n",
        "\n",
        "plt.matshow(a)\n",
        "\n",
        "plt.show()"
      ]
    },
    {
      "cell_type": "code",
      "execution_count": null,
      "metadata": {},
      "outputs": [],
      "source": []
    }
  ],
  "metadata": {
    "colab": {
      "provenance": []
    },
    "kernelspec": {
      "display_name": "base",
      "language": "python",
      "name": "python3"
    },
    "language_info": {
      "codemirror_mode": {
        "name": "ipython",
        "version": 3
      },
      "file_extension": ".py",
      "mimetype": "text/x-python",
      "name": "python",
      "nbconvert_exporter": "python",
      "pygments_lexer": "ipython3",
      "version": "3.13.5"
    }
  },
  "nbformat": 4,
  "nbformat_minor": 0
}
