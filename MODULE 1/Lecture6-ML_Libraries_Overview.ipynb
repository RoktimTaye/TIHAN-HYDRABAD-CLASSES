{
  "cells": [
    {
      "cell_type": "markdown",
      "id": "6d309206",
      "metadata": {
        "id": "6d309206"
      },
      "source": [
        "# ML Libraries Overview\n",
        "In this notebook, we'll explore three popular machine learning libraries: **scikit-learn**, **TensorFlow**, and **PyTorch**.\n",
        "We'll discuss when to choose each, how to set up the environment, and run minimal working demos."
      ]
    },
    {
      "cell_type": "markdown",
      "id": "c18e8106",
      "metadata": {
        "id": "c18e8106"
      },
      "source": [
        "## 1. When to choose which library\n",
        "| Feature                  | Scikit-learn | TensorFlow | PyTorch |\n",
        "|--------------------------|--------------|------------|---------|\n",
        "| **Best for**             | Classical ML | Deep Learning | Deep Learning |\n",
        "| **Model complexity**     | Simple to moderate | Complex neural nets | Complex neural nets |\n",
        "| **Ease of use**          | Very easy | Medium | Easy-medium |\n",
        "| **Speed on GPU**         | Limited | Excellent | Excellent |\n",
        "| **Ecosystem**            | Data preprocessing, model selection | End-to-end DL, production ready | Research, experimentation |\n",
        "\n",
        "**Rule of thumb:**\n",
        "- If you’re doing **logistic regression, random forests, SVMs** → use **scikit-learn**.\n",
        "- If you’re training **neural networks for production** → use **TensorFlow**.\n",
        "- If you’re doing **deep learning research / custom architectures** → use **PyTorch**."
      ]
    },
    {
      "cell_type": "markdown",
      "id": "c5b8eb9c",
      "metadata": {
        "id": "c5b8eb9c"
      },
      "source": [
        "## 2. Environment Setup"
      ]
    },
    {
      "cell_type": "code",
      "execution_count": 1,
      "id": "0da51461",
      "metadata": {
        "id": "0da51461"
      },
      "outputs": [],
      "source": [
        "!pip install scikit-learn tensorflow torch --quiet"
      ]
    },
    {
      "cell_type": "code",
      "execution_count": 2,
      "id": "49f4ddf0",
      "metadata": {
        "colab": {
          "base_uri": "https://localhost:8080/"
        },
        "id": "49f4ddf0",
        "outputId": "f8907b73-159d-44a6-b6a4-d4dfbed2fc19"
      },
      "outputs": [
        {
          "name": "stdout",
          "output_type": "stream",
          "text": [
            "scikit-learn: 1.7.1\n",
            "TensorFlow: 2.20.0\n",
            "PyTorch: 2.8.0+cpu\n"
          ]
        }
      ],
      "source": [
        "import sklearn, tensorflow as tf, torch\n",
        "print('scikit-learn:', sklearn.__version__)\n",
        "print('TensorFlow:', tf.__version__)\n",
        "print('PyTorch:', torch.__version__)"
      ]
    },
    {
      "cell_type": "markdown",
      "id": "a326f6ed",
      "metadata": {
        "id": "a326f6ed"
      },
      "source": [
        "## 3. Demo: Scikit-learn – Logistic Regression"
      ]
    },
    {
      "cell_type": "code",
      "execution_count": 3,
      "id": "3acdf8f5",
      "metadata": {
        "id": "3acdf8f5"
      },
      "outputs": [],
      "source": [
        "from sklearn.datasets import load_iris\n",
        "from sklearn.model_selection import train_test_split\n",
        "from sklearn.linear_model import LogisticRegression\n",
        "from sklearn.linear_model import LinearRegression\n",
        "from sklearn.metrics import accuracy_score\n",
        "from sklearn.preprocessing import LabelEncoder\n",
        "from sklearn.metrics import mean_squared_error, r2_score\n",
        "import pandas as pd\n",
        "import seaborn as sns"
      ]
    },
    {
      "cell_type": "code",
      "execution_count": 4,
      "id": "1Za8lknzjkQx",
      "metadata": {
        "colab": {
          "base_uri": "https://localhost:8080/",
          "height": 206
        },
        "id": "1Za8lknzjkQx",
        "outputId": "e7fe5dda-fbed-4210-987e-9331bbe7fc62"
      },
      "outputs": [
        {
          "data": {
            "text/html": [
              "<div>\n",
              "<style scoped>\n",
              "    .dataframe tbody tr th:only-of-type {\n",
              "        vertical-align: middle;\n",
              "    }\n",
              "\n",
              "    .dataframe tbody tr th {\n",
              "        vertical-align: top;\n",
              "    }\n",
              "\n",
              "    .dataframe thead th {\n",
              "        text-align: right;\n",
              "    }\n",
              "</style>\n",
              "<table border=\"1\" class=\"dataframe\">\n",
              "  <thead>\n",
              "    <tr style=\"text-align: right;\">\n",
              "      <th></th>\n",
              "      <th>sepal_length</th>\n",
              "      <th>sepal_width</th>\n",
              "      <th>petal_length</th>\n",
              "      <th>petal_width</th>\n",
              "      <th>species</th>\n",
              "    </tr>\n",
              "  </thead>\n",
              "  <tbody>\n",
              "    <tr>\n",
              "      <th>0</th>\n",
              "      <td>5.1</td>\n",
              "      <td>3.5</td>\n",
              "      <td>1.4</td>\n",
              "      <td>0.2</td>\n",
              "      <td>setosa</td>\n",
              "    </tr>\n",
              "    <tr>\n",
              "      <th>1</th>\n",
              "      <td>4.9</td>\n",
              "      <td>3.0</td>\n",
              "      <td>1.4</td>\n",
              "      <td>0.2</td>\n",
              "      <td>setosa</td>\n",
              "    </tr>\n",
              "    <tr>\n",
              "      <th>2</th>\n",
              "      <td>4.7</td>\n",
              "      <td>3.2</td>\n",
              "      <td>1.3</td>\n",
              "      <td>0.2</td>\n",
              "      <td>setosa</td>\n",
              "    </tr>\n",
              "    <tr>\n",
              "      <th>3</th>\n",
              "      <td>4.6</td>\n",
              "      <td>3.1</td>\n",
              "      <td>1.5</td>\n",
              "      <td>0.2</td>\n",
              "      <td>setosa</td>\n",
              "    </tr>\n",
              "    <tr>\n",
              "      <th>4</th>\n",
              "      <td>5.0</td>\n",
              "      <td>3.6</td>\n",
              "      <td>1.4</td>\n",
              "      <td>0.2</td>\n",
              "      <td>setosa</td>\n",
              "    </tr>\n",
              "  </tbody>\n",
              "</table>\n",
              "</div>"
            ],
            "text/plain": [
              "   sepal_length  sepal_width  petal_length  petal_width species\n",
              "0           5.1          3.5           1.4          0.2  setosa\n",
              "1           4.9          3.0           1.4          0.2  setosa\n",
              "2           4.7          3.2           1.3          0.2  setosa\n",
              "3           4.6          3.1           1.5          0.2  setosa\n",
              "4           5.0          3.6           1.4          0.2  setosa"
            ]
          },
          "execution_count": 4,
          "metadata": {},
          "output_type": "execute_result"
        }
      ],
      "source": [
        "# Load dataset\n",
        "df = sns.load_dataset('iris')\n",
        "df.head()"
      ]
    },
    {
      "cell_type": "code",
      "execution_count": null,
      "id": "MzqxkS8hP3fd",
      "metadata": {
        "colab": {
          "base_uri": "https://localhost:8080/"
        },
        "id": "MzqxkS8hP3fd",
        "outputId": "e9ef92bc-c70c-4d17-edb2-16b49b284f10"
      },
      "outputs": [
        {
          "name": "stdout",
          "output_type": "stream",
          "text": [
            "(150, 3)\n",
            "(150,)\n"
          ]
        }
      ],
      "source": [
        "df.head()\n",
        "# #model 1 (logistic regression)\n",
        "X = df.drop('species', axis=1)\n",
        "y = LabelEncoder().fit_transform(df[\"species\"])\n",
        "\n",
        "#model 2 (linear regression)\n",
        "X = df.drop(columns=[\"petal_length\", \"species\"])\n",
        "y = df[\"petal_length\"]\n",
        "\n",
        "\n",
        "print(X.shape)\n",
        "print(y.shape)"
      ]
    },
    {
      "cell_type": "markdown",
      "id": "8RX-P-yQjiPI",
      "metadata": {
        "id": "8RX-P-yQjiPI"
      },
      "source": [
        "X = df.drop('species', axis=1): this will form a numby array with first four columns\n",
        "\n",
        "y = LabelEncoder().fit_transform(df[\"species\"]): : this will form a numby array with last column\n",
        "\n",
        "X → Features (numeric values describing each flower, shape (150, 4) — 150 samples, 4 features).\n",
        "\n",
        "y → Target labels (0, 1, 2 for different flower species)."
      ]
    },
    {
      "cell_type": "code",
      "execution_count": 6,
      "id": "Rq4LArPpjmxW",
      "metadata": {
        "id": "Rq4LArPpjmxW"
      },
      "outputs": [],
      "source": [
        "# Train/test split\n",
        "X_train, X_test, y_train, y_test = train_test_split(X, y, test_size=0.2, random_state=42)\n"
      ]
    },
    {
      "cell_type": "markdown",
      "id": "RmqWx5vUj8Ju",
      "metadata": {
        "id": "RmqWx5vUj8Ju"
      },
      "source": [
        "X_train → Training features.\n",
        "\n",
        "X_test → Testing features.\n",
        "\n",
        "y_train → Training labels.\n",
        "\n",
        "y_test → Testing labels."
      ]
    },
    {
      "cell_type": "code",
      "execution_count": 7,
      "id": "UpQuJI_Rjod7",
      "metadata": {
        "colab": {
          "base_uri": "https://localhost:8080/",
          "height": 80
        },
        "id": "UpQuJI_Rjod7",
        "outputId": "05697029-cfe1-4918-b38c-be76a5790fce"
      },
      "outputs": [
        {
          "ename": "ValueError",
          "evalue": "Unknown label type: continuous. Maybe you are trying to fit a classifier, which expects discrete classes on a regression target with continuous values.",
          "output_type": "error",
          "traceback": [
            "\u001b[31m---------------------------------------------------------------------------\u001b[39m",
            "\u001b[31mValueError\u001b[39m                                Traceback (most recent call last)",
            "\u001b[36mCell\u001b[39m\u001b[36m \u001b[39m\u001b[32mIn[7]\u001b[39m\u001b[32m, line 3\u001b[39m\n\u001b[32m      1\u001b[39m \u001b[38;5;66;03m# Model 1 (logistic regression)\u001b[39;00m\n\u001b[32m      2\u001b[39m model = LogisticRegression(max_iter=\u001b[32m200\u001b[39m)\n\u001b[32m----> \u001b[39m\u001b[32m3\u001b[39m \u001b[43mmodel\u001b[49m\u001b[43m.\u001b[49m\u001b[43mfit\u001b[49m\u001b[43m(\u001b[49m\u001b[43mX_train\u001b[49m\u001b[43m,\u001b[49m\u001b[43m \u001b[49m\u001b[43my_train\u001b[49m\u001b[43m)\u001b[49m\n",
            "\u001b[36mFile \u001b[39m\u001b[32m~\\AppData\\Roaming\\Python\\Python313\\site-packages\\sklearn\\base.py:1365\u001b[39m, in \u001b[36m_fit_context.<locals>.decorator.<locals>.wrapper\u001b[39m\u001b[34m(estimator, *args, **kwargs)\u001b[39m\n\u001b[32m   1358\u001b[39m     estimator._validate_params()\n\u001b[32m   1360\u001b[39m \u001b[38;5;28;01mwith\u001b[39;00m config_context(\n\u001b[32m   1361\u001b[39m     skip_parameter_validation=(\n\u001b[32m   1362\u001b[39m         prefer_skip_nested_validation \u001b[38;5;129;01mor\u001b[39;00m global_skip_validation\n\u001b[32m   1363\u001b[39m     )\n\u001b[32m   1364\u001b[39m ):\n\u001b[32m-> \u001b[39m\u001b[32m1365\u001b[39m     \u001b[38;5;28;01mreturn\u001b[39;00m \u001b[43mfit_method\u001b[49m\u001b[43m(\u001b[49m\u001b[43mestimator\u001b[49m\u001b[43m,\u001b[49m\u001b[43m \u001b[49m\u001b[43m*\u001b[49m\u001b[43margs\u001b[49m\u001b[43m,\u001b[49m\u001b[43m \u001b[49m\u001b[43m*\u001b[49m\u001b[43m*\u001b[49m\u001b[43mkwargs\u001b[49m\u001b[43m)\u001b[49m\n",
            "\u001b[36mFile \u001b[39m\u001b[32m~\\AppData\\Roaming\\Python\\Python313\\site-packages\\sklearn\\linear_model\\_logistic.py:1256\u001b[39m, in \u001b[36mLogisticRegression.fit\u001b[39m\u001b[34m(self, X, y, sample_weight)\u001b[39m\n\u001b[32m   1245\u001b[39m     _dtype = [np.float64, np.float32]\n\u001b[32m   1247\u001b[39m X, y = validate_data(\n\u001b[32m   1248\u001b[39m     \u001b[38;5;28mself\u001b[39m,\n\u001b[32m   1249\u001b[39m     X,\n\u001b[32m   (...)\u001b[39m\u001b[32m   1254\u001b[39m     accept_large_sparse=solver \u001b[38;5;129;01mnot\u001b[39;00m \u001b[38;5;129;01min\u001b[39;00m [\u001b[33m\"\u001b[39m\u001b[33mliblinear\u001b[39m\u001b[33m\"\u001b[39m, \u001b[33m\"\u001b[39m\u001b[33msag\u001b[39m\u001b[33m\"\u001b[39m, \u001b[33m\"\u001b[39m\u001b[33msaga\u001b[39m\u001b[33m\"\u001b[39m],\n\u001b[32m   1255\u001b[39m )\n\u001b[32m-> \u001b[39m\u001b[32m1256\u001b[39m \u001b[43mcheck_classification_targets\u001b[49m\u001b[43m(\u001b[49m\u001b[43my\u001b[49m\u001b[43m)\u001b[49m\n\u001b[32m   1257\u001b[39m \u001b[38;5;28mself\u001b[39m.classes_ = np.unique(y)\n\u001b[32m   1259\u001b[39m \u001b[38;5;66;03m# TODO(1.8) remove multi_class\u001b[39;00m\n",
            "\u001b[36mFile \u001b[39m\u001b[32m~\\AppData\\Roaming\\Python\\Python313\\site-packages\\sklearn\\utils\\multiclass.py:221\u001b[39m, in \u001b[36mcheck_classification_targets\u001b[39m\u001b[34m(y)\u001b[39m\n\u001b[32m    213\u001b[39m y_type = type_of_target(y, input_name=\u001b[33m\"\u001b[39m\u001b[33my\u001b[39m\u001b[33m\"\u001b[39m)\n\u001b[32m    214\u001b[39m \u001b[38;5;28;01mif\u001b[39;00m y_type \u001b[38;5;129;01mnot\u001b[39;00m \u001b[38;5;129;01min\u001b[39;00m [\n\u001b[32m    215\u001b[39m     \u001b[33m\"\u001b[39m\u001b[33mbinary\u001b[39m\u001b[33m\"\u001b[39m,\n\u001b[32m    216\u001b[39m     \u001b[33m\"\u001b[39m\u001b[33mmulticlass\u001b[39m\u001b[33m\"\u001b[39m,\n\u001b[32m   (...)\u001b[39m\u001b[32m    219\u001b[39m     \u001b[33m\"\u001b[39m\u001b[33mmultilabel-sequences\u001b[39m\u001b[33m\"\u001b[39m,\n\u001b[32m    220\u001b[39m ]:\n\u001b[32m--> \u001b[39m\u001b[32m221\u001b[39m     \u001b[38;5;28;01mraise\u001b[39;00m \u001b[38;5;167;01mValueError\u001b[39;00m(\n\u001b[32m    222\u001b[39m         \u001b[33mf\u001b[39m\u001b[33m\"\u001b[39m\u001b[33mUnknown label type: \u001b[39m\u001b[38;5;132;01m{\u001b[39;00my_type\u001b[38;5;132;01m}\u001b[39;00m\u001b[33m. Maybe you are trying to fit a \u001b[39m\u001b[33m\"\u001b[39m\n\u001b[32m    223\u001b[39m         \u001b[33m\"\u001b[39m\u001b[33mclassifier, which expects discrete classes on a \u001b[39m\u001b[33m\"\u001b[39m\n\u001b[32m    224\u001b[39m         \u001b[33m\"\u001b[39m\u001b[33mregression target with continuous values.\u001b[39m\u001b[33m\"\u001b[39m\n\u001b[32m    225\u001b[39m     )\n",
            "\u001b[31mValueError\u001b[39m: Unknown label type: continuous. Maybe you are trying to fit a classifier, which expects discrete classes on a regression target with continuous values."
          ]
        }
      ],
      "source": [
        "# Model 1 (logistic regression)\n",
        "model = LogisticRegression(max_iter=200)\n",
        "model.fit(X_train, y_train)\n",
        "\n"
      ]
    },
    {
      "cell_type": "markdown",
      "id": "YMd6Pqofj48s",
      "metadata": {
        "id": "YMd6Pqofj48s"
      },
      "source": [
        "max_iter=200 → Sets the maximum number of optimization iterations (default can be too small for convergence, so we increase it).\n",
        "\n",
        ".fit() → Trains the logistic regression model by finding the best weights for classification.\n",
        "\n",
        "The model learns patterns in X_train that correspond to the correct labels y_train."
      ]
    },
    {
      "cell_type": "code",
      "execution_count": null,
      "id": "4z1vfYRtjrAf",
      "metadata": {
        "colab": {
          "base_uri": "https://localhost:8080/"
        },
        "id": "4z1vfYRtjrAf",
        "outputId": "dd073041-3793-4a4b-b809-f8d0e41aa43b"
      },
      "outputs": [
        {
          "name": "stdout",
          "output_type": "stream",
          "text": [
            "Accuracy: 1.0\n"
          ]
        }
      ],
      "source": [
        "# Predict & evaluate (logistic regression)\n",
        "y_pred = model.predict(X_test)\n",
        "print('Accuracy:', accuracy_score(y_test, y_pred))"
      ]
    },
    {
      "cell_type": "code",
      "execution_count": null,
      "id": "FYPBfDYgUZ7C",
      "metadata": {
        "colab": {
          "base_uri": "https://localhost:8080/",
          "height": 80
        },
        "id": "FYPBfDYgUZ7C",
        "outputId": "e7cd03ac-87b1-4eec-e51d-02ffac1f0a99"
      },
      "outputs": [
        {
          "data": {
            "text/html": [
              "<style>#sk-container-id-2 {\n",
              "  /* Definition of color scheme common for light and dark mode */\n",
              "  --sklearn-color-text: #000;\n",
              "  --sklearn-color-text-muted: #666;\n",
              "  --sklearn-color-line: gray;\n",
              "  /* Definition of color scheme for unfitted estimators */\n",
              "  --sklearn-color-unfitted-level-0: #fff5e6;\n",
              "  --sklearn-color-unfitted-level-1: #f6e4d2;\n",
              "  --sklearn-color-unfitted-level-2: #ffe0b3;\n",
              "  --sklearn-color-unfitted-level-3: chocolate;\n",
              "  /* Definition of color scheme for fitted estimators */\n",
              "  --sklearn-color-fitted-level-0: #f0f8ff;\n",
              "  --sklearn-color-fitted-level-1: #d4ebff;\n",
              "  --sklearn-color-fitted-level-2: #b3dbfd;\n",
              "  --sklearn-color-fitted-level-3: cornflowerblue;\n",
              "\n",
              "  /* Specific color for light theme */\n",
              "  --sklearn-color-text-on-default-background: var(--sg-text-color, var(--theme-code-foreground, var(--jp-content-font-color1, black)));\n",
              "  --sklearn-color-background: var(--sg-background-color, var(--theme-background, var(--jp-layout-color0, white)));\n",
              "  --sklearn-color-border-box: var(--sg-text-color, var(--theme-code-foreground, var(--jp-content-font-color1, black)));\n",
              "  --sklearn-color-icon: #696969;\n",
              "\n",
              "  @media (prefers-color-scheme: dark) {\n",
              "    /* Redefinition of color scheme for dark theme */\n",
              "    --sklearn-color-text-on-default-background: var(--sg-text-color, var(--theme-code-foreground, var(--jp-content-font-color1, white)));\n",
              "    --sklearn-color-background: var(--sg-background-color, var(--theme-background, var(--jp-layout-color0, #111)));\n",
              "    --sklearn-color-border-box: var(--sg-text-color, var(--theme-code-foreground, var(--jp-content-font-color1, white)));\n",
              "    --sklearn-color-icon: #878787;\n",
              "  }\n",
              "}\n",
              "\n",
              "#sk-container-id-2 {\n",
              "  color: var(--sklearn-color-text);\n",
              "}\n",
              "\n",
              "#sk-container-id-2 pre {\n",
              "  padding: 0;\n",
              "}\n",
              "\n",
              "#sk-container-id-2 input.sk-hidden--visually {\n",
              "  border: 0;\n",
              "  clip: rect(1px 1px 1px 1px);\n",
              "  clip: rect(1px, 1px, 1px, 1px);\n",
              "  height: 1px;\n",
              "  margin: -1px;\n",
              "  overflow: hidden;\n",
              "  padding: 0;\n",
              "  position: absolute;\n",
              "  width: 1px;\n",
              "}\n",
              "\n",
              "#sk-container-id-2 div.sk-dashed-wrapped {\n",
              "  border: 1px dashed var(--sklearn-color-line);\n",
              "  margin: 0 0.4em 0.5em 0.4em;\n",
              "  box-sizing: border-box;\n",
              "  padding-bottom: 0.4em;\n",
              "  background-color: var(--sklearn-color-background);\n",
              "}\n",
              "\n",
              "#sk-container-id-2 div.sk-container {\n",
              "  /* jupyter's `normalize.less` sets `[hidden] { display: none; }`\n",
              "     but bootstrap.min.css set `[hidden] { display: none !important; }`\n",
              "     so we also need the `!important` here to be able to override the\n",
              "     default hidden behavior on the sphinx rendered scikit-learn.org.\n",
              "     See: https://github.com/scikit-learn/scikit-learn/issues/21755 */\n",
              "  display: inline-block !important;\n",
              "  position: relative;\n",
              "}\n",
              "\n",
              "#sk-container-id-2 div.sk-text-repr-fallback {\n",
              "  display: none;\n",
              "}\n",
              "\n",
              "div.sk-parallel-item,\n",
              "div.sk-serial,\n",
              "div.sk-item {\n",
              "  /* draw centered vertical line to link estimators */\n",
              "  background-image: linear-gradient(var(--sklearn-color-text-on-default-background), var(--sklearn-color-text-on-default-background));\n",
              "  background-size: 2px 100%;\n",
              "  background-repeat: no-repeat;\n",
              "  background-position: center center;\n",
              "}\n",
              "\n",
              "/* Parallel-specific style estimator block */\n",
              "\n",
              "#sk-container-id-2 div.sk-parallel-item::after {\n",
              "  content: \"\";\n",
              "  width: 100%;\n",
              "  border-bottom: 2px solid var(--sklearn-color-text-on-default-background);\n",
              "  flex-grow: 1;\n",
              "}\n",
              "\n",
              "#sk-container-id-2 div.sk-parallel {\n",
              "  display: flex;\n",
              "  align-items: stretch;\n",
              "  justify-content: center;\n",
              "  background-color: var(--sklearn-color-background);\n",
              "  position: relative;\n",
              "}\n",
              "\n",
              "#sk-container-id-2 div.sk-parallel-item {\n",
              "  display: flex;\n",
              "  flex-direction: column;\n",
              "}\n",
              "\n",
              "#sk-container-id-2 div.sk-parallel-item:first-child::after {\n",
              "  align-self: flex-end;\n",
              "  width: 50%;\n",
              "}\n",
              "\n",
              "#sk-container-id-2 div.sk-parallel-item:last-child::after {\n",
              "  align-self: flex-start;\n",
              "  width: 50%;\n",
              "}\n",
              "\n",
              "#sk-container-id-2 div.sk-parallel-item:only-child::after {\n",
              "  width: 0;\n",
              "}\n",
              "\n",
              "/* Serial-specific style estimator block */\n",
              "\n",
              "#sk-container-id-2 div.sk-serial {\n",
              "  display: flex;\n",
              "  flex-direction: column;\n",
              "  align-items: center;\n",
              "  background-color: var(--sklearn-color-background);\n",
              "  padding-right: 1em;\n",
              "  padding-left: 1em;\n",
              "}\n",
              "\n",
              "\n",
              "/* Toggleable style: style used for estimator/Pipeline/ColumnTransformer box that is\n",
              "clickable and can be expanded/collapsed.\n",
              "- Pipeline and ColumnTransformer use this feature and define the default style\n",
              "- Estimators will overwrite some part of the style using the `sk-estimator` class\n",
              "*/\n",
              "\n",
              "/* Pipeline and ColumnTransformer style (default) */\n",
              "\n",
              "#sk-container-id-2 div.sk-toggleable {\n",
              "  /* Default theme specific background. It is overwritten whether we have a\n",
              "  specific estimator or a Pipeline/ColumnTransformer */\n",
              "  background-color: var(--sklearn-color-background);\n",
              "}\n",
              "\n",
              "/* Toggleable label */\n",
              "#sk-container-id-2 label.sk-toggleable__label {\n",
              "  cursor: pointer;\n",
              "  display: flex;\n",
              "  width: 100%;\n",
              "  margin-bottom: 0;\n",
              "  padding: 0.5em;\n",
              "  box-sizing: border-box;\n",
              "  text-align: center;\n",
              "  align-items: start;\n",
              "  justify-content: space-between;\n",
              "  gap: 0.5em;\n",
              "}\n",
              "\n",
              "#sk-container-id-2 label.sk-toggleable__label .caption {\n",
              "  font-size: 0.6rem;\n",
              "  font-weight: lighter;\n",
              "  color: var(--sklearn-color-text-muted);\n",
              "}\n",
              "\n",
              "#sk-container-id-2 label.sk-toggleable__label-arrow:before {\n",
              "  /* Arrow on the left of the label */\n",
              "  content: \"▸\";\n",
              "  float: left;\n",
              "  margin-right: 0.25em;\n",
              "  color: var(--sklearn-color-icon);\n",
              "}\n",
              "\n",
              "#sk-container-id-2 label.sk-toggleable__label-arrow:hover:before {\n",
              "  color: var(--sklearn-color-text);\n",
              "}\n",
              "\n",
              "/* Toggleable content - dropdown */\n",
              "\n",
              "#sk-container-id-2 div.sk-toggleable__content {\n",
              "  max-height: 0;\n",
              "  max-width: 0;\n",
              "  overflow: hidden;\n",
              "  text-align: left;\n",
              "  /* unfitted */\n",
              "  background-color: var(--sklearn-color-unfitted-level-0);\n",
              "}\n",
              "\n",
              "#sk-container-id-2 div.sk-toggleable__content.fitted {\n",
              "  /* fitted */\n",
              "  background-color: var(--sklearn-color-fitted-level-0);\n",
              "}\n",
              "\n",
              "#sk-container-id-2 div.sk-toggleable__content pre {\n",
              "  margin: 0.2em;\n",
              "  border-radius: 0.25em;\n",
              "  color: var(--sklearn-color-text);\n",
              "  /* unfitted */\n",
              "  background-color: var(--sklearn-color-unfitted-level-0);\n",
              "}\n",
              "\n",
              "#sk-container-id-2 div.sk-toggleable__content.fitted pre {\n",
              "  /* unfitted */\n",
              "  background-color: var(--sklearn-color-fitted-level-0);\n",
              "}\n",
              "\n",
              "#sk-container-id-2 input.sk-toggleable__control:checked~div.sk-toggleable__content {\n",
              "  /* Expand drop-down */\n",
              "  max-height: 200px;\n",
              "  max-width: 100%;\n",
              "  overflow: auto;\n",
              "}\n",
              "\n",
              "#sk-container-id-2 input.sk-toggleable__control:checked~label.sk-toggleable__label-arrow:before {\n",
              "  content: \"▾\";\n",
              "}\n",
              "\n",
              "/* Pipeline/ColumnTransformer-specific style */\n",
              "\n",
              "#sk-container-id-2 div.sk-label input.sk-toggleable__control:checked~label.sk-toggleable__label {\n",
              "  color: var(--sklearn-color-text);\n",
              "  background-color: var(--sklearn-color-unfitted-level-2);\n",
              "}\n",
              "\n",
              "#sk-container-id-2 div.sk-label.fitted input.sk-toggleable__control:checked~label.sk-toggleable__label {\n",
              "  background-color: var(--sklearn-color-fitted-level-2);\n",
              "}\n",
              "\n",
              "/* Estimator-specific style */\n",
              "\n",
              "/* Colorize estimator box */\n",
              "#sk-container-id-2 div.sk-estimator input.sk-toggleable__control:checked~label.sk-toggleable__label {\n",
              "  /* unfitted */\n",
              "  background-color: var(--sklearn-color-unfitted-level-2);\n",
              "}\n",
              "\n",
              "#sk-container-id-2 div.sk-estimator.fitted input.sk-toggleable__control:checked~label.sk-toggleable__label {\n",
              "  /* fitted */\n",
              "  background-color: var(--sklearn-color-fitted-level-2);\n",
              "}\n",
              "\n",
              "#sk-container-id-2 div.sk-label label.sk-toggleable__label,\n",
              "#sk-container-id-2 div.sk-label label {\n",
              "  /* The background is the default theme color */\n",
              "  color: var(--sklearn-color-text-on-default-background);\n",
              "}\n",
              "\n",
              "/* On hover, darken the color of the background */\n",
              "#sk-container-id-2 div.sk-label:hover label.sk-toggleable__label {\n",
              "  color: var(--sklearn-color-text);\n",
              "  background-color: var(--sklearn-color-unfitted-level-2);\n",
              "}\n",
              "\n",
              "/* Label box, darken color on hover, fitted */\n",
              "#sk-container-id-2 div.sk-label.fitted:hover label.sk-toggleable__label.fitted {\n",
              "  color: var(--sklearn-color-text);\n",
              "  background-color: var(--sklearn-color-fitted-level-2);\n",
              "}\n",
              "\n",
              "/* Estimator label */\n",
              "\n",
              "#sk-container-id-2 div.sk-label label {\n",
              "  font-family: monospace;\n",
              "  font-weight: bold;\n",
              "  display: inline-block;\n",
              "  line-height: 1.2em;\n",
              "}\n",
              "\n",
              "#sk-container-id-2 div.sk-label-container {\n",
              "  text-align: center;\n",
              "}\n",
              "\n",
              "/* Estimator-specific */\n",
              "#sk-container-id-2 div.sk-estimator {\n",
              "  font-family: monospace;\n",
              "  border: 1px dotted var(--sklearn-color-border-box);\n",
              "  border-radius: 0.25em;\n",
              "  box-sizing: border-box;\n",
              "  margin-bottom: 0.5em;\n",
              "  /* unfitted */\n",
              "  background-color: var(--sklearn-color-unfitted-level-0);\n",
              "}\n",
              "\n",
              "#sk-container-id-2 div.sk-estimator.fitted {\n",
              "  /* fitted */\n",
              "  background-color: var(--sklearn-color-fitted-level-0);\n",
              "}\n",
              "\n",
              "/* on hover */\n",
              "#sk-container-id-2 div.sk-estimator:hover {\n",
              "  /* unfitted */\n",
              "  background-color: var(--sklearn-color-unfitted-level-2);\n",
              "}\n",
              "\n",
              "#sk-container-id-2 div.sk-estimator.fitted:hover {\n",
              "  /* fitted */\n",
              "  background-color: var(--sklearn-color-fitted-level-2);\n",
              "}\n",
              "\n",
              "/* Specification for estimator info (e.g. \"i\" and \"?\") */\n",
              "\n",
              "/* Common style for \"i\" and \"?\" */\n",
              "\n",
              ".sk-estimator-doc-link,\n",
              "a:link.sk-estimator-doc-link,\n",
              "a:visited.sk-estimator-doc-link {\n",
              "  float: right;\n",
              "  font-size: smaller;\n",
              "  line-height: 1em;\n",
              "  font-family: monospace;\n",
              "  background-color: var(--sklearn-color-background);\n",
              "  border-radius: 1em;\n",
              "  height: 1em;\n",
              "  width: 1em;\n",
              "  text-decoration: none !important;\n",
              "  margin-left: 0.5em;\n",
              "  text-align: center;\n",
              "  /* unfitted */\n",
              "  border: var(--sklearn-color-unfitted-level-1) 1pt solid;\n",
              "  color: var(--sklearn-color-unfitted-level-1);\n",
              "}\n",
              "\n",
              ".sk-estimator-doc-link.fitted,\n",
              "a:link.sk-estimator-doc-link.fitted,\n",
              "a:visited.sk-estimator-doc-link.fitted {\n",
              "  /* fitted */\n",
              "  border: var(--sklearn-color-fitted-level-1) 1pt solid;\n",
              "  color: var(--sklearn-color-fitted-level-1);\n",
              "}\n",
              "\n",
              "/* On hover */\n",
              "div.sk-estimator:hover .sk-estimator-doc-link:hover,\n",
              ".sk-estimator-doc-link:hover,\n",
              "div.sk-label-container:hover .sk-estimator-doc-link:hover,\n",
              ".sk-estimator-doc-link:hover {\n",
              "  /* unfitted */\n",
              "  background-color: var(--sklearn-color-unfitted-level-3);\n",
              "  color: var(--sklearn-color-background);\n",
              "  text-decoration: none;\n",
              "}\n",
              "\n",
              "div.sk-estimator.fitted:hover .sk-estimator-doc-link.fitted:hover,\n",
              ".sk-estimator-doc-link.fitted:hover,\n",
              "div.sk-label-container:hover .sk-estimator-doc-link.fitted:hover,\n",
              ".sk-estimator-doc-link.fitted:hover {\n",
              "  /* fitted */\n",
              "  background-color: var(--sklearn-color-fitted-level-3);\n",
              "  color: var(--sklearn-color-background);\n",
              "  text-decoration: none;\n",
              "}\n",
              "\n",
              "/* Span, style for the box shown on hovering the info icon */\n",
              ".sk-estimator-doc-link span {\n",
              "  display: none;\n",
              "  z-index: 9999;\n",
              "  position: relative;\n",
              "  font-weight: normal;\n",
              "  right: .2ex;\n",
              "  padding: .5ex;\n",
              "  margin: .5ex;\n",
              "  width: min-content;\n",
              "  min-width: 20ex;\n",
              "  max-width: 50ex;\n",
              "  color: var(--sklearn-color-text);\n",
              "  box-shadow: 2pt 2pt 4pt #999;\n",
              "  /* unfitted */\n",
              "  background: var(--sklearn-color-unfitted-level-0);\n",
              "  border: .5pt solid var(--sklearn-color-unfitted-level-3);\n",
              "}\n",
              "\n",
              ".sk-estimator-doc-link.fitted span {\n",
              "  /* fitted */\n",
              "  background: var(--sklearn-color-fitted-level-0);\n",
              "  border: var(--sklearn-color-fitted-level-3);\n",
              "}\n",
              "\n",
              ".sk-estimator-doc-link:hover span {\n",
              "  display: block;\n",
              "}\n",
              "\n",
              "/* \"?\"-specific style due to the `<a>` HTML tag */\n",
              "\n",
              "#sk-container-id-2 a.estimator_doc_link {\n",
              "  float: right;\n",
              "  font-size: 1rem;\n",
              "  line-height: 1em;\n",
              "  font-family: monospace;\n",
              "  background-color: var(--sklearn-color-background);\n",
              "  border-radius: 1rem;\n",
              "  height: 1rem;\n",
              "  width: 1rem;\n",
              "  text-decoration: none;\n",
              "  /* unfitted */\n",
              "  color: var(--sklearn-color-unfitted-level-1);\n",
              "  border: var(--sklearn-color-unfitted-level-1) 1pt solid;\n",
              "}\n",
              "\n",
              "#sk-container-id-2 a.estimator_doc_link.fitted {\n",
              "  /* fitted */\n",
              "  border: var(--sklearn-color-fitted-level-1) 1pt solid;\n",
              "  color: var(--sklearn-color-fitted-level-1);\n",
              "}\n",
              "\n",
              "/* On hover */\n",
              "#sk-container-id-2 a.estimator_doc_link:hover {\n",
              "  /* unfitted */\n",
              "  background-color: var(--sklearn-color-unfitted-level-3);\n",
              "  color: var(--sklearn-color-background);\n",
              "  text-decoration: none;\n",
              "}\n",
              "\n",
              "#sk-container-id-2 a.estimator_doc_link.fitted:hover {\n",
              "  /* fitted */\n",
              "  background-color: var(--sklearn-color-fitted-level-3);\n",
              "}\n",
              "</style><div id=\"sk-container-id-2\" class=\"sk-top-container\"><div class=\"sk-text-repr-fallback\"><pre>LinearRegression()</pre><b>In a Jupyter environment, please rerun this cell to show the HTML representation or trust the notebook. <br />On GitHub, the HTML representation is unable to render, please try loading this page with nbviewer.org.</b></div><div class=\"sk-container\" hidden><div class=\"sk-item\"><div class=\"sk-estimator fitted sk-toggleable\"><input class=\"sk-toggleable__control sk-hidden--visually\" id=\"sk-estimator-id-2\" type=\"checkbox\" checked><label for=\"sk-estimator-id-2\" class=\"sk-toggleable__label fitted sk-toggleable__label-arrow\"><div><div>LinearRegression</div></div><div><a class=\"sk-estimator-doc-link fitted\" rel=\"noreferrer\" target=\"_blank\" href=\"https://scikit-learn.org/1.6/modules/generated/sklearn.linear_model.LinearRegression.html\">?<span>Documentation for LinearRegression</span></a><span class=\"sk-estimator-doc-link fitted\">i<span>Fitted</span></span></div></label><div class=\"sk-toggleable__content fitted\"><pre>LinearRegression()</pre></div> </div></div></div></div>"
            ],
            "text/plain": [
              "LinearRegression()"
            ]
          },
          "execution_count": 12,
          "metadata": {},
          "output_type": "execute_result"
        }
      ],
      "source": [
        "model = LinearRegression()\n",
        "model.fit(X_train, y_train)"
      ]
    },
    {
      "cell_type": "markdown",
      "id": "_AV337aUkI9l",
      "metadata": {
        "id": "_AV337aUkI9l"
      },
      "source": [
        ".predict(X_test) → Uses the trained model to predict labels for unseen test data.\n",
        "\n",
        "Produces y_pred — an array of predicted class labels.\n",
        "\n",
        "accuracy_score(y_test, y_pred) → Calculates the fraction of correct predictions (values between 0 and 1)."
      ]
    },
    {
      "cell_type": "markdown",
      "id": "kkIDoFC3smVp",
      "metadata": {
        "id": "kkIDoFC3smVp"
      },
      "source": [
        "Mean Squared Error (MSE) is the most common loss function used in linear regression. It measures how far the predicted values are from the true values by squaring the difference and then averaging over all data points.\n",
        "\n",
        "Formula:\n",
        "MSE = (1/n) * Σ (y_true - y_pred)²\n",
        "\n",
        "Where\n",
        "\n",
        "n = number of samples\n",
        "\n",
        "y_true = actual target values\n",
        "\n",
        "y_pred = predicted target values\n",
        "\n",
        "Why squared?\n",
        "\n",
        "Squaring ensures all errors are positive.\n",
        "\n",
        "It penalizes larger errors more strongly than smaller ones."
      ]
    },
    {
      "cell_type": "code",
      "execution_count": null,
      "id": "AXa7ZFcOWP-m",
      "metadata": {
        "colab": {
          "base_uri": "https://localhost:8080/"
        },
        "id": "AXa7ZFcOWP-m",
        "outputId": "42dad193-b3ee-4aeb-c518-7ace03805c26"
      },
      "outputs": [
        {
          "name": "stdout",
          "output_type": "stream",
          "text": [
            "Mean Squared Error: 0.13001626031382688\n"
          ]
        }
      ],
      "source": [
        "y_pred = model.predict(X_test)\n",
        "\n",
        "\n",
        "print(\"Mean Squared Error:\", mean_squared_error(y_test, y_pred))\n"
      ]
    },
    {
      "cell_type": "markdown",
      "id": "HPwZM0Qzu2Cn",
      "metadata": {
        "id": "HPwZM0Qzu2Cn"
      },
      "source": [
        "# PyTorch vs TensorFlow: Linear Regression with Gradients\n",
        "\n",
        "We use a simple **linear regression** model:\n",
        "\\[\n",
        "$$ y \\approx wX + b $$\n",
        "\\]\n",
        "---\n",
        "\n",
        "## 🔹 What are Gradients?\n",
        "- The **loss** is the Mean Squared Error (MSE):\n",
        "\n",
        "\\[\n",
        "$$ L = \\frac{1}{N} \\sum (y - (wX+b))^2 $$\n",
        "\\]\n",
        "\n",
        "- We want **derivatives**:\n",
        "  - Gradient wrt `w`:  \\($\\frac{\\partial L}{\\partial w}$\\)  \n",
        "  - Gradient wrt `b`:  \\($\\frac{\\partial L}{\\partial b}$\\)\n",
        "\n",
        "These gradients tell us how much the loss changes when we tweak `w` or `b`.  \n",
        "They are essential for optimization (gradient descent).\n",
        "\n",
        "---\n"
      ]
    },
    {
      "cell_type": "code",
      "execution_count": null,
      "id": "BYe-kEOjtSJd",
      "metadata": {
        "colab": {
          "base_uri": "https://localhost:8080/"
        },
        "id": "BYe-kEOjtSJd",
        "outputId": "c8141876-4b52-4c11-e20b-7a969643fa72"
      },
      "outputs": [
        {
          "name": "stdout",
          "output_type": "stream",
          "text": [
            "Loss: 5.4809041023254395\n",
            "Gradient w: -2.6412487030029297 Gradient b: -4.638677597045898\n"
          ]
        }
      ],
      "source": [
        "import torch\n",
        "\n",
        "# Random data\n",
        "X = torch.rand(100, 1)\n",
        "y = 3*X + 2 + 0.1*torch.randn(100, 1)\n",
        "\n",
        "# Parameters (with gradients enabled)\n",
        "w = torch.randn(1, requires_grad=True)\n",
        "b = torch.randn(1, requires_grad=True)\n",
        "\n",
        "# Prediction\n",
        "y_pred = w*X + b\n",
        "\n",
        "# Mean Squared Error\n",
        "loss = torch.mean((y - y_pred)**2)\n",
        "\n",
        "# Backprop (compute gradients)\n",
        "loss.backward()\n",
        "\n",
        "print(\"Loss:\", loss.item())\n",
        "print(\"Gradient w:\", w.grad.item(), \"Gradient b:\", b.grad.item())"
      ]
    },
    {
      "cell_type": "code",
      "execution_count": null,
      "id": "yqZQRiwewDm-",
      "metadata": {
        "colab": {
          "base_uri": "https://localhost:8080/"
        },
        "id": "yqZQRiwewDm-",
        "outputId": "bc07171e-1c63-4242-ea9c-0759a5872c6e"
      },
      "outputs": [
        {
          "name": "stdout",
          "output_type": "stream",
          "text": [
            "Loss: 8.380713\n",
            "Gradient w: [-3.2505088] Gradient b: [-5.4442644]\n"
          ]
        }
      ],
      "source": [
        "import tensorflow as tf\n",
        "\n",
        "# Random data\n",
        "X = tf.random.uniform((100, 1))\n",
        "y = 3*X + 2 + 0.1*tf.random.normal((100, 1))\n",
        "\n",
        "# Parameters as Variables\n",
        "w = tf.Variable(tf.random.normal((1,)))\n",
        "b = tf.Variable(tf.random.normal((1,)))\n",
        "\n",
        "# GradientTape to record operations\n",
        "with tf.GradientTape() as tape:\n",
        "    y_pred = w*X + b\n",
        "    loss = tf.reduce_mean((y - y_pred)**2)\n",
        "\n",
        "# Compute gradients wrt w and b\n",
        "grads = tape.gradient(loss, [w, b])\n",
        "print(\"Loss:\", loss.numpy())\n",
        "print(\"Gradient w:\", grads[0].numpy(), \"Gradient b:\", grads[1].numpy())"
      ]
    },
    {
      "cell_type": "markdown",
      "id": "0ec60439",
      "metadata": {
        "id": "0ec60439"
      },
      "source": [
        "## 4. Demo: TensorFlow – Simple Neural Network"
      ]
    },
    {
      "cell_type": "code",
      "execution_count": null,
      "id": "8c1400af",
      "metadata": {
        "id": "8c1400af"
      },
      "outputs": [],
      "source": [
        "import tensorflow as tf\n",
        "from tensorflow.keras import layers, models\n",
        "import numpy as np\n",
        "\n",
        "# Random data: 100 samples, 10 features\n",
        "X = np.random.rand(100, 10)\n",
        "y = np.random.randint(0, 2, size=(100,))"
      ]
    },
    {
      "cell_type": "markdown",
      "id": "0IlJDRrti_w5",
      "metadata": {
        "id": "0IlJDRrti_w5"
      },
      "source": [
        "np.random.rand(100, 10) → Creates a NumPy array of shape (100, 10) with random values between 0 and 1.\n",
        "\n",
        "Simulates 100 samples, each with 10 features.\n",
        "\n",
        "np.random.randint(0, 2, size=(100,)) → Creates an array of random integers 0 or 1, shape (100,).\n",
        "\n",
        "This simulates binary classification labels (0 = class A, 1 = class B)."
      ]
    },
    {
      "cell_type": "code",
      "execution_count": null,
      "id": "wTCW127-h8_1",
      "metadata": {
        "id": "wTCW127-h8_1"
      },
      "outputs": [],
      "source": [
        "# Build model\n",
        "model = models.Sequential([\n",
        "    layers.Dense(16, activation='relu', input_shape=(10,)),\n",
        "    layers.Dense(1, activation='sigmoid')\n",
        "])"
      ]
    },
    {
      "cell_type": "markdown",
      "id": "iiy5UuAOh6w4",
      "metadata": {
        "id": "iiy5UuAOh6w4"
      },
      "source": [
        "models.Sequential([...]) → Creates a Sequential model, meaning layers are stacked one after the other.\n",
        "\n",
        "layers.Dense(16, activation='relu', input_shape=(10,)) →\n",
        "\n",
        "Fully connected layer with 16 neurons.\n",
        "\n",
        "activation='relu' → Rectified Linear Unit activation, sets negative outputs to 0.\n",
        "\n",
        "input_shape=(10,) → The model expects 10 features for each sample.\n",
        "\n",
        "layers.Dense(1, activation='sigmoid') → Output layer:\n",
        "\n",
        "1 neuron → outputs a single probability.\n",
        "\n",
        "Sigmoid activation squashes output between 0 and 1, suitable for binary classification."
      ]
    },
    {
      "cell_type": "code",
      "execution_count": null,
      "id": "2UZ9j2XOh_YL",
      "metadata": {
        "id": "2UZ9j2XOh_YL"
      },
      "outputs": [],
      "source": [
        "model.compile(optimizer='adam', loss='binary_crossentropy', metrics=['accuracy'])"
      ]
    },
    {
      "cell_type": "markdown",
      "id": "hBIZKGspiCRI",
      "metadata": {
        "id": "hBIZKGspiCRI"
      },
      "source": [
        "optimizer='adam' → Optimization algorithm that adjusts weights using gradients (fast & adaptive learning rates).\n",
        "\n",
        "loss='binary_crossentropy' → Loss function for binary classification using probabilities.\n",
        "\n",
        "metrics=['accuracy'] → We want to track accuracy during training."
      ]
    },
    {
      "cell_type": "markdown",
      "id": "mubrhdNO2eHa",
      "metadata": {
        "id": "mubrhdNO2eHa"
      },
      "source": [
        "**Forward Pass**\n",
        "\n",
        "For each batch of data, TensorFlow runs the model’s call()/forward() function to compute predictions (y_pred).\n",
        "\n",
        "It applies the layers in sequence (Dense, ReLU, etc.).\n",
        "\n",
        "**Loss Computation**\n",
        "\n",
        "Compares predictions (y_pred) against ground truth (y) using the loss function defined in model.compile(...).\n",
        "\n",
        "**Gradient Calculation (Backpropagation)**\n",
        "\n",
        "Uses autograd (via tf.GradientTape) to automatically compute gradients of the loss w.r.t model parameters.\n",
        "\n",
        "**Optimizer Step**\n",
        "\n",
        "Updates weights using the optimizer (e.g., SGD, Adam) chosen in compile.\n",
        "\n",
        "\n",
        "**Metrics Tracking**\n",
        "\n",
        "Evaluates accuracy, loss, or other metrics on each batch/epoch if specified.\n",
        "\n",
        "**Looping**\n",
        "\n",
        "Repeats this process for each batch in each epoch."
      ]
    },
    {
      "cell_type": "code",
      "execution_count": null,
      "id": "sw9iv3YliApD",
      "metadata": {
        "id": "sw9iv3YliApD"
      },
      "outputs": [],
      "source": [
        "# Train\n",
        "model.fit(X, y, epochs=5, batch_size=8)"
      ]
    },
    {
      "cell_type": "markdown",
      "id": "_nKuXjXWiCrZ",
      "metadata": {
        "id": "_nKuXjXWiCrZ"
      },
      "source": [
        "epochs=5 → Go through the entire dataset 5 times.\n",
        "\n",
        "batch_size=8 → Process data in batches of 8 samples before updating weights."
      ]
    },
    {
      "cell_type": "code",
      "execution_count": null,
      "id": "Xe6f3KQlfrF3",
      "metadata": {
        "id": "Xe6f3KQlfrF3"
      },
      "outputs": [],
      "source": [
        "loss, accuracy = model.evaluate(X, y, verbose=0)\n",
        "print(\"Loss:\", loss)\n",
        "print(\"Accuracy:\", accuracy)"
      ]
    },
    {
      "cell_type": "code",
      "execution_count": null,
      "id": "AXmZqKgYgS4E",
      "metadata": {
        "id": "AXmZqKgYgS4E"
      },
      "outputs": [],
      "source": [
        "# Predict probabilities\n",
        "y_pred_prob = model.predict(X)\n",
        "\n",
        "# Convert probabilities to class labels (if classification)\n",
        "import numpy as np\n",
        "y_pred = np.argmax(y_pred_prob, axis=1)\n",
        "\n",
        "print(\"Predicted classes:\", y_pred[:10])"
      ]
    },
    {
      "cell_type": "code",
      "execution_count": null,
      "id": "6uOF2EhIftt5",
      "metadata": {
        "id": "6uOF2EhIftt5"
      },
      "outputs": [],
      "source": []
    },
    {
      "cell_type": "markdown",
      "id": "bf684484",
      "metadata": {
        "id": "bf684484"
      },
      "source": [
        "## 5. Demo: PyTorch – Simple Neural Network"
      ]
    },
    {
      "cell_type": "markdown",
      "id": "yxJe0ipAgAP1",
      "metadata": {
        "id": "yxJe0ipAgAP1"
      },
      "source": [
        "torch – the main PyTorch package for tensors and core operations.\n",
        "\n",
        "torch.nn – contains tools to build neural networks (layers, activations, loss functions).\n",
        "\n",
        "torch.optim – contains optimization algorithms like Adam, SGD, RMSP"
      ]
    },
    {
      "cell_type": "code",
      "execution_count": null,
      "id": "qNd9CVjKgDs4",
      "metadata": {
        "id": "qNd9CVjKgDs4"
      },
      "outputs": [],
      "source": [
        "import torch\n",
        "import torch.nn as nn\n",
        "import torch.optim as optim"
      ]
    },
    {
      "cell_type": "code",
      "execution_count": null,
      "id": "ZcymWlGlv63t",
      "metadata": {
        "id": "ZcymWlGlv63t"
      },
      "outputs": [],
      "source": []
    },
    {
      "cell_type": "code",
      "execution_count": null,
      "id": "9c83RbRWgF-g",
      "metadata": {
        "id": "9c83RbRWgF-g"
      },
      "outputs": [],
      "source": [
        "# Random data\n",
        "X = torch.rand(100, 10)\n",
        "y = torch.randint(0, 2, (100,), dtype=torch.float32)"
      ]
    },
    {
      "cell_type": "markdown",
      "id": "n716t1D8gPvM",
      "metadata": {
        "id": "n716t1D8gPvM"
      },
      "source": [
        "torch.rand(100, 10) → Creates a tensor with shape (100, 10) filled with random numbers between 0 and 1.\n",
        "\n",
        "Simulates 100 samples, each with 10 features.\n",
        "\n",
        "torch.randint(0, 2, (100,), dtype=torch.float32) → Creates 100 random integers (0 or 1) as the target labels, then converts them to floating-point numbers (needed for our loss function later).\n",
        "\n",
        "This simulates binary classification labels."
      ]
    },
    {
      "cell_type": "code",
      "execution_count": null,
      "id": "6efba878",
      "metadata": {
        "id": "6efba878"
      },
      "outputs": [],
      "source": [
        "# Model\n",
        "class SimpleNN(nn.Module):\n",
        "    def __init__(self):\n",
        "        super().__init__()\n",
        "        self.fc1 = nn.Linear(10, 16)\n",
        "        self.relu = nn.ReLU()\n",
        "        self.fc2 = nn.Linear(16, 1)\n",
        "        self.sigmoid = nn.Sigmoid()\n",
        "    def forward(self, x):\n",
        "        return self.sigmoid(self.fc2(self.relu(self.fc1(x))))\n",
        "# Defines how data flows through the network:\n",
        "# Input x goes to fc1 layer.\n",
        "# Apply ReLU activation.\n",
        "# Output goes to fc2 layer.\n",
        "# Apply Sigmoid to get probability between 0 and 1."
      ]
    },
    {
      "cell_type": "markdown",
      "id": "zWetdO4igg7w",
      "metadata": {
        "id": "zWetdO4igg7w"
      },
      "source": [
        "class SimpleNN(nn.Module) → Defines our neural network architecture by extending PyTorch’s nn.Module.\n",
        "\n",
        "super().__init__() → Initializes the parent nn.Module class.\n",
        "\n",
        "self.fc1 = nn.Linear(10, 16) → First fully connected layer: takes 10 input features and outputs 16 neurons.\n",
        "\n",
        "self.relu = nn.ReLU() → Activation function: Rectified Linear Unit (sets negative values to 0).\n",
        "\n",
        "self.fc2 = nn.Linear(16, 1) → Second fully connected layer: takes 16 inputs and outputs 1 neuron (for binary classification).\n",
        "\n",
        "self.sigmoid = nn.Sigmoid() → Activation function that outputs a value between 0 and 1 (probability)."
      ]
    },
    {
      "cell_type": "code",
      "execution_count": null,
      "id": "BNklZyrqgjSv",
      "metadata": {
        "id": "BNklZyrqgjSv"
      },
      "outputs": [],
      "source": [
        "model = SimpleNN()\n",
        "criterion = nn.BCELoss()\n",
        "optimizer = optim.Adam(model.parameters(), lr=0.01)"
      ]
    },
    {
      "cell_type": "markdown",
      "id": "_sdxT2AFgpIB",
      "metadata": {
        "id": "_sdxT2AFgpIB"
      },
      "source": [
        "model = SimpleNN() → Creates an instance of our network.\n",
        "\n",
        "criterion = nn.BCELoss() → Binary Cross-Entropy loss — good for binary classification with probabilities.\n",
        "\n",
        "optimizer = optim.Adam(model.parameters(), lr=0.01) → Adam optimizer updates the network weights during training with a learning rate of 0.01."
      ]
    },
    {
      "cell_type": "code",
      "execution_count": null,
      "id": "Evhbm500gk5X",
      "metadata": {
        "id": "Evhbm500gk5X"
      },
      "outputs": [],
      "source": [
        "# Train loop\n",
        "for epoch in range(5):\n",
        "    optimizer.zero_grad()\n",
        "    outputs = model(X).squeeze()\n",
        "    loss = criterion(outputs, y)\n",
        "    loss.backward()\n",
        "    optimizer.step()\n",
        "    print(f'Epoch {epoch+1}, Loss: {loss.item():.4f}')"
      ]
    },
    {
      "cell_type": "markdown",
      "id": "zaSiU06-hbdJ",
      "metadata": {
        "id": "zaSiU06-hbdJ"
      },
      "source": [
        "optimizer.zero_grad() → Resets gradient values to zero before backpropagation (otherwise PyTorch accumulates them).\n",
        "\n",
        "outputs = model(X).squeeze() → Passes X through the network to get predictions, and .squeeze() removes extra dimensions from (100, 1) → (100,).\n",
        "\n",
        "loss = criterion(outputs, y) → Calculates the Binary Cross-Entropy loss between predictions and true labels.\n",
        "\n",
        "loss.backward() → Computes the gradients of the loss w.r.t. all learnable parameters.\n",
        "\n",
        "optimizer.step() → Updates model weights using computed gradients."
      ]
    },
    {
      "cell_type": "markdown",
      "id": "11f0ded7",
      "metadata": {
        "id": "11f0ded7"
      },
      "source": [
        "## 6. Summary\n",
        "- **scikit-learn** → Best for small to medium datasets, quick models, classical algorithms.\n",
        "- **TensorFlow** → Best for scalable deep learning models, production deployment.\n",
        "- **PyTorch** → Best for flexible, experimental deep learning research."
      ]
    }
  ],
  "metadata": {
    "colab": {
      "provenance": []
    },
    "kernelspec": {
      "display_name": "base",
      "language": "python",
      "name": "python3"
    },
    "language_info": {
      "codemirror_mode": {
        "name": "ipython",
        "version": 3
      },
      "file_extension": ".py",
      "mimetype": "text/x-python",
      "name": "python",
      "nbconvert_exporter": "python",
      "pygments_lexer": "ipython3",
      "version": "3.13.5"
    }
  },
  "nbformat": 4,
  "nbformat_minor": 5
}
