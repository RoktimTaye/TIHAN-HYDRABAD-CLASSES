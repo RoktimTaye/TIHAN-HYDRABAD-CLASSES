{
 "cells": [
  {
   "cell_type": "code",
   "execution_count": 2,
   "id": "6cda8ead",
   "metadata": {},
   "outputs": [
    {
     "ename": "ModuleNotFoundError",
     "evalue": "No module named 'torch'",
     "output_type": "error",
     "traceback": [
      "\u001b[1;31m---------------------------------------------------------------------------\u001b[0m",
      "\u001b[1;31mModuleNotFoundError\u001b[0m                       Traceback (most recent call last)",
      "Cell \u001b[1;32mIn[2], line 1\u001b[0m\n\u001b[1;32m----> 1\u001b[0m \u001b[38;5;28;01mimport\u001b[39;00m\u001b[38;5;250m \u001b[39m\u001b[38;5;21;01mtorch\u001b[39;00m\n\u001b[0;32m      3\u001b[0m \u001b[38;5;66;03m# Sample data: Features (X) and Targets (Y)\u001b[39;00m\n\u001b[0;32m      4\u001b[0m X \u001b[38;5;241m=\u001b[39m torch\u001b[38;5;241m.\u001b[39mtensor([[\u001b[38;5;241m1.0\u001b[39m], [\u001b[38;5;241m2.0\u001b[39m], [\u001b[38;5;241m3.0\u001b[39m], [\u001b[38;5;241m4.0\u001b[39m]])\n",
      "\u001b[1;31mModuleNotFoundError\u001b[0m: No module named 'torch'"
     ]
    }
   ],
   "source": [
    "import torch\n",
    "\n",
    "# Sample data: Features (X) and Targets (Y)\n",
    "X = torch.tensor([[1.0], [2.0], [3.0], [4.0]])\n",
    "Y = torch.tensor([[3.0], [5.0], [7.0], [9.0]])\n",
    "\n",
    "# Parameters for weights and bias, requires_grad=True to track gradients\n",
    "W = torch.randn(1, 1, requires_grad=True)\n",
    "b = torch.randn(1, requires_grad=True)\n",
    "\n",
    "learning_rate = 0.01\n",
    "\n",
    "for epoch in range(1000):\n",
    "    y_pred = X.mm(W) + b  # Linear model: y = X*W + b\n",
    "    loss = torch.mean((Y - y_pred) ** 2)  # Mean Squared Error\n",
    "\n",
    "    loss.backward()  # Compute gradients\n",
    "    with torch.no_grad():\n",
    "        W -= learning_rate * W.grad  # Update weights\n",
    "        b -= learning_rate * b.grad  # Update bias\n",
    "\n",
    "        # Zero gradients after updating\n",
    "        W.grad.zero_()\n",
    "        b.grad.zero_()\n",
    "\n",
    "# Print trained parameters\n",
    "print(f\"W: {W.detach().numpy()}, b: {b.detach().numpy()}\")\n"
   ]
  }
 ],
 "metadata": {
  "kernelspec": {
   "display_name": "Python 3",
   "language": "python",
   "name": "python3"
  },
  "language_info": {
   "codemirror_mode": {
    "name": "ipython",
    "version": 3
   },
   "file_extension": ".py",
   "mimetype": "text/x-python",
   "name": "python",
   "nbconvert_exporter": "python",
   "pygments_lexer": "ipython3",
   "version": "3.10.11"
  }
 },
 "nbformat": 4,
 "nbformat_minor": 5
}
