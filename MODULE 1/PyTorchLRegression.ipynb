{
 "cells": [
  {
   "cell_type": "code",
   "execution_count": 1,
   "id": "982da736",
   "metadata": {},
   "outputs": [
    {
     "name": "stdout",
     "output_type": "stream",
     "text": [
      "Loss :  tensor(21.3075, grad_fn=<MeanBackward0>)\n",
      "Gradient w :  -4.759515285491943 Gradient b :  -9.034724235534668\n"
     ]
    }
   ],
   "source": [
    "import torch \n",
    "\n",
    "x = torch.rand(100,1)\n",
    "y  = 3*x + 2 + 0.1*torch.randn(100,1)\n",
    "\n",
    "w = torch.randn(1,requires_grad=True)\n",
    "b = torch.randn(1,requires_grad=True)\n",
    "\n",
    "y_pred = w*x + b\n",
    "\n",
    "loss = torch.mean((y - y_pred)**2)\n",
    "loss.backward()\n",
    "\n",
    "print(\"Loss : \",loss)\n",
    "print(\"Gradient w : \",w.grad.item(),\"Gradient b : \",b.grad.item())"
   ]
  }
 ],
 "metadata": {
  "kernelspec": {
   "display_name": "base",
   "language": "python",
   "name": "python3"
  },
  "language_info": {
   "codemirror_mode": {
    "name": "ipython",
    "version": 3
   },
   "file_extension": ".py",
   "mimetype": "text/x-python",
   "name": "python",
   "nbconvert_exporter": "python",
   "pygments_lexer": "ipython3",
   "version": "3.13.5"
  }
 },
 "nbformat": 4,
 "nbformat_minor": 5
}
