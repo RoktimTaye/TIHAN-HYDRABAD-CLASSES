{
 "cells": [
  {
   "cell_type": "code",
   "execution_count": null,
   "id": "4fad8190",
   "metadata": {},
   "outputs": [],
   "source": [
    "import pandas as pd\n",
    "import matplotlib.pyplot as plt"
   ]
  },
  {
   "cell_type": "code",
   "execution_count": null,
   "id": "f32bb695",
   "metadata": {},
   "outputs": [],
   "source": [
    "df = pd.read_csv('Cars.csv')\n",
    "df"
   ]
  },
  {
   "cell_type": "code",
   "execution_count": null,
   "id": "ec00aeed",
   "metadata": {},
   "outputs": [],
   "source": [
    "df.describe()"
   ]
  },
  {
   "cell_type": "code",
   "execution_count": null,
   "id": "eb0efaf8",
   "metadata": {},
   "outputs": [],
   "source": [
    "df.info()"
   ]
  },
  {
   "cell_type": "code",
   "execution_count": null,
   "id": "a85fe017",
   "metadata": {},
   "outputs": [],
   "source": [
    "df.isnull()"
   ]
  },
  {
   "cell_type": "code",
   "execution_count": null,
   "id": "58243caf",
   "metadata": {},
   "outputs": [],
   "source": [
    "plt.Figure(figsize=(6,8))\n",
    "plt.plot(df['Selling_Price'],color='red', marker='o',label='SELLING PRICE')\n",
    "plt.plot(df['Present_Price'],color='green',marker='x',label='PRESENT PRICE')\n",
    "plt.title('Selling Price Plot Graph')\n",
    "plt.xlabel('Selling Prices')\n",
    "plt.ylabel('Selling Price Count')"
   ]
  },
  {
   "cell_type": "code",
   "execution_count": null,
   "id": "d0233af7",
   "metadata": {},
   "outputs": [],
   "source": [
    "# This dosent give scattered points for both the values but gives a corellation point for each pair of data , one pair from selling price and obe pair from present price.\n",
    "plt.scatter(df['Selling_Price'],df['Present_Price'],c='green') \n",
    "plt.title('Selling Price vs Present Price')\n",
    "plt.xlabel('Present Price')\n",
    "plt.ylabel('Selling Price')"
   ]
  },
  {
   "cell_type": "code",
   "execution_count": null,
   "id": "ac0014e3",
   "metadata": {},
   "outputs": [],
   "source": [
    "Fule_Count = df['Fuel_Type'].value_counts()\n",
    "plt.bar('Petrol', Fule_Count['Petrol'], color='red', label='PETROL')\n",
    "plt.bar('Diesel', Fule_Count['Diesel'], color='green', label='DISEAL')\n",
    "plt.bar('CNG', Fule_Count['CNG'], color='pink', label='CNG')\n",
    "plt.legend()\n",
    "plt.title('NO. OF FULE USE OF DIFFERENT FULE')\n",
    "plt.xlabel('FULE NAME')\n",
    "plt.ylabel('FULE COUNT')\n",
    "\n",
    "\n"
   ]
  }
 ],
 "metadata": {
  "kernelspec": {
   "display_name": "base",
   "language": "python",
   "name": "python3"
  },
  "language_info": {
   "codemirror_mode": {
    "name": "ipython",
    "version": 3
   },
   "file_extension": ".py",
   "mimetype": "text/x-python",
   "name": "python",
   "nbconvert_exporter": "python",
   "pygments_lexer": "ipython3",
   "version": "3.13.5"
  }
 },
 "nbformat": 4,
 "nbformat_minor": 5
}
