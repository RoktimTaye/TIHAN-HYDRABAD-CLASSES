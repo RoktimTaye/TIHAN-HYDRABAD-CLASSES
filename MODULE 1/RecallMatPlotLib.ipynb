{
 "cells": [
  {
   "cell_type": "code",
   "execution_count": null,
   "id": "7fadfead",
   "metadata": {},
   "outputs": [],
   "source": [
    "import pandas as pd\n",
    "import numpy as np\n",
    "import matplotlib.pyplot as plt\n",
    "import seaborn as sns"
   ]
  },
  {
   "cell_type": "code",
   "execution_count": null,
   "id": "29302720",
   "metadata": {},
   "outputs": [],
   "source": [
    "df = pd.read_csv('Cars.csv')\n",
    "df"
   ]
  },
  {
   "cell_type": "code",
   "execution_count": null,
   "id": "138b03b2",
   "metadata": {},
   "outputs": [],
   "source": [
    "ValueCount = df['Fuel_Type'].value_counts()\n",
    "plt.bar('Diesel',ValueCount['Diesel'],color = 'red',label = \"DIESEL\")\n",
    "plt.bar('Petrol',ValueCount['Petrol'],color = 'green', label = \"PETROL\")\n",
    "plt.legend()\n",
    "plt.show()"
   ]
  },
  {
   "cell_type": "code",
   "execution_count": null,
   "id": "4a7d6c15",
   "metadata": {},
   "outputs": [],
   "source": [
    "plt.scatter(df['Selling_Price'],df['Present_Price'],color = 'red',marker='*')\n",
    "plt.show()"
   ]
  },
  {
   "cell_type": "code",
   "execution_count": null,
   "id": "4b4c3ea5",
   "metadata": {},
   "outputs": [],
   "source": [
    "plt.Figure(figsize=(8,6))\n",
    "df.select_dtypes(include='number').hist(bins=10)\n",
    "plt.show()"
   ]
  },
  {
   "cell_type": "code",
   "execution_count": null,
   "id": "3602a8fb",
   "metadata": {},
   "outputs": [],
   "source": [
    "plt.hist(df['Selling_Price'],bins=10,edgecolor = 'black')\n",
    "plt.show()"
   ]
  },
  {
   "cell_type": "code",
   "execution_count": null,
   "id": "c9cd95ba",
   "metadata": {},
   "outputs": [],
   "source": [
    "figure=plt.figure(figsize=(8,6))\n",
    "data1=figure.add_subplot(projection='polar')\n",
    "data1.scatter(df['Selling_Price'],df['Present_Price'])\n",
    "plt.show()"
   ]
  },
  {
   "cell_type": "code",
   "execution_count": null,
   "id": "b4f3d9d9",
   "metadata": {},
   "outputs": [],
   "source": [
    "polar = plt.polar(df['Selling_Price'],df['Present_Price'])\n",
    "plt.show()"
   ]
  },
  {
   "cell_type": "code",
   "execution_count": null,
   "id": "7bd015af",
   "metadata": {},
   "outputs": [],
   "source": [
    "plt.boxplot(df['Selling_Price'])\n",
    "plt.show()"
   ]
  },
  {
   "cell_type": "code",
   "execution_count": null,
   "id": "12143542",
   "metadata": {},
   "outputs": [],
   "source": [
    "fig, axs = plt.subplots(1,3,sharex=True,figsize = (15,5))\n",
    "axs[0].boxplot(df['Selling_Price'])\n",
    "axs[1].boxplot(df['Present_Price'])\n",
    "axs[2].boxplot(df['Kms_Driven'])\n",
    "plt.show()"
   ]
  },
  {
   "cell_type": "code",
   "execution_count": null,
   "id": "2be1da8f",
   "metadata": {},
   "outputs": [],
   "source": [
    "x = df['Present_Price']\n",
    "y = df['Kms_Driven']\n",
    "z = df['Selling_Price']\n",
    "fig = plt.figure(figsize=(10, 7))\n",
    "ax = fig.add_subplot(111, projection='3d')\n",
    "scatter = ax.scatter(x, y, z,c=z,  # Color of each point is based on Selling price\n",
    "                     cmap='viridis')\n",
    "fig.colorbar(scatter, ax=ax, shrink=0.5, aspect=5)\n",
    "plt.show()"
   ]
  },
  {
   "cell_type": "code",
   "execution_count": null,
   "id": "540b3b1d",
   "metadata": {},
   "outputs": [],
   "source": [
    "fig,axs = plt.subplots(1, 3, figsize=(15, 5))\n",
    "myexplode1 = [0.1,0.1,0.1]\n",
    "seller_type_count = df['Fuel_Type'].value_counts()\n",
    "axs[0].pie(seller_type_count, labels = seller_type_count.index, explode = myexplode1,autopct = '%1.1f%%', shadow=True)\n",
    "axs[0].set_title('Seller Type')\n",
    "\n",
    "myexplode2 = [0.1,0.1]\n",
    "seller_type_count = df['Seller_Type'].value_counts()\n",
    "axs[1].pie(seller_type_count, labels = seller_type_count.index, explode = myexplode2,autopct = '%1.1f%%', shadow=True)\n",
    "axs[1].set_title('Seller Type')\n",
    "\n",
    "myexplode3 = [0.3, 0.3]\n",
    "transmission_type_counts = df['Transmission'].value_counts()\n",
    "axs[2].pie(transmission_type_counts,\n",
    "           labels=transmission_type_counts.index,autopct='%1.1f%%', explode=myexplode3, shadow=True)\n",
    "axs[2].set_title('Transmission Type')\n",
    "plt.show()"
   ]
  },
  {
   "cell_type": "code",
   "execution_count": null,
   "id": "e355abff",
   "metadata": {},
   "outputs": [],
   "source": [
    "fig,axs = plt.subplots(1, 3, figsize=(15, 5))\n",
    "\n",
    "seller_type_count = df['Seller_Type'].value_counts()\n",
    "explode1 = [0.2,0.2]\n",
    "axs[0].pie(seller_type_count,labels = seller_type_count.index,explode = explode1,autopct = '%1.1f%%',shadow = True)\n",
    "axs[0].set_title('Dealer Type')\n",
    "\n",
    "Fuel_type_count = df['Fuel_Type'].value_counts()\n",
    "explode2 = [0.2,0.2,0.2]\n",
    "axs[1].pie(Fuel_type_count,labels = Fuel_type_count.index, explode = explode2,autopct = '%1.1f%%',shadow = True)\n",
    "axs[1].set_title('Fuel Type')\n",
    "\n",
    "transmission_type_counts = df['Transmission'].value_counts()\n",
    "explode3 = [0.2,0.2]\n",
    "axs[2].pie(transmission_type_counts,labels = transmission_type_counts.index,explode = explode3, autopct = '%1.1f%%',shadow = True)\n",
    "axs[2].set_title('Transmission Type')\n",
    "plt.show()"
   ]
  },
  {
   "cell_type": "code",
   "execution_count": null,
   "id": "d14e5a6c",
   "metadata": {},
   "outputs": [],
   "source": [
    "plt.figure(figsize=(12, 8))\n",
    "Mydf = df.select_dtypes(include='number')\n",
    "sns.heatmap(Mydf,cmap='coolwarm')\n",
    "plt.show()"
   ]
  },
  {
   "cell_type": "code",
   "execution_count": null,
   "id": "34a28b80",
   "metadata": {},
   "outputs": [],
   "source": [
    "Mydf = df.select_dtypes(include='number')\n",
    "sns.clustermap(Mydf,cmap='coolwarm')\n",
    "plt.show()\n"
   ]
  }
 ],
 "metadata": {
  "kernelspec": {
   "display_name": "base",
   "language": "python",
   "name": "python3"
  },
  "language_info": {
   "codemirror_mode": {
    "name": "ipython",
    "version": 3
   },
   "file_extension": ".py",
   "mimetype": "text/x-python",
   "name": "python",
   "nbconvert_exporter": "python",
   "pygments_lexer": "ipython3",
   "version": "3.13.5"
  }
 },
 "nbformat": 4,
 "nbformat_minor": 5
}
