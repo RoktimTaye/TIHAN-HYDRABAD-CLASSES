{
 "cells": [
  {
   "cell_type": "code",
   "execution_count": null,
   "id": "c88ab7c1",
   "metadata": {},
   "outputs": [],
   "source": [
    "### 1. Setup and Data Loading\n",
    "\n",
    "import pandas as pd\n",
    "from sklearn.model_selection import train_test_split\n",
    "from sklearn.preprocessing import StandardScaler, OneHotEncoder\n",
    "from sklearn.impute import SimpleImputer\n",
    "from sklearn.compose import ColumnTransformer\n",
    "from sklearn.pipeline import Pipeline\n",
    "from sklearn.linear_model import LogisticRegression\n",
    "from sklearn.metrics import accuracy_score, classification_report, confusion_matrix"
   ]
  },
  {
   "cell_type": "code",
   "execution_count": null,
   "id": "c177f759",
   "metadata": {},
   "outputs": [],
   "source": [
    "# Load the Titanic dataset\n",
    "df = pd.read_csv('Module.csv') \n",
    "# Ensure 'titanic.csv' is in the same directory as your Jupyter Notebook or provide the full path.\n",
    "\n",
    "print(\"Original DataFrame Head:\")\n",
    "print(df.head())\n",
    "print(\"\\nOriginal DataFrame Info:\")\n",
    "df.info()"
   ]
  },
  {
   "cell_type": "code",
   "execution_count": null,
   "id": "105cde58",
   "metadata": {},
   "outputs": [],
   "source": [
    "### 2. Train/Test Split\n",
    "\n",
    "X = df.drop('survived', axis=1)\n",
    "y = df['survived']\n",
    "\n",
    "X_train, X_test, y_train, y_test = train_test_split(X, y, test_size=0.2, random_state=42)\n",
    "\n",
    "print(f\"\\nTraining set size: {X_train.shape}\")\n",
    "print(f\"Testing set size: {X_test.shape}\")"
   ]
  },
  {
   "cell_type": "code",
   "execution_count": null,
   "id": "16358abf",
   "metadata": {},
   "outputs": [],
   "source": [
    "### 3. Preprocessing for Columns (Handling Missing Values, Scaling, Encoding)\n",
    "\n",
    "#### Separate Column Types\n",
    "\n",
    "numeric_features = ['age', 'fare', 'pclass']\n",
    "categorical_features = ['sex', 'embarked']"
   ]
  },
  {
   "cell_type": "code",
   "execution_count": null,
   "id": "87553cf4",
   "metadata": {},
   "outputs": [],
   "source": [
    "#### Numeric Pipeline: Handle Missing Values + Scale\n",
    "\n",
    "numeric_transformer = Pipeline(steps=[\n",
    "    ('imputer', SimpleImputer(strategy='mean')),#Takes thee mean of the row of that NaN point and replace its value by the mean value.\n",
    "    ('scaler', StandardScaler())#StandardScaler transforms each feature so that it has a mean of 0 and a standard deviation of 1.\n",
    "])\n",
    "\n",
    "#### Categorical Pipeline: Handle Missing Values + Encode\n",
    "\n",
    "categorical_transformer = Pipeline(steps=[\n",
    "    ('imputer', SimpleImputer(strategy='most_frequent')),# Fillups or replaces the NaN or null value with the most frequent value.\n",
    "    ('encoder', OneHotEncoder(handle_unknown='ignore'))#This encoder converts the categories into a numerical format. It creates new binary (0 or 1) columns for each unique category.\n",
    "])"
   ]
  },
  {
   "cell_type": "code",
   "execution_count": null,
   "id": "9029d814",
   "metadata": {},
   "outputs": [],
   "source": [
    "#### Combine into Column Transformer\n",
    "\n",
    "preprocessor = ColumnTransformer(\n",
    "    transformers=[\n",
    "        ('num', numeric_transformer, numeric_features),\n",
    "        ('cat', categorical_transformer, categorical_features)\n",
    "    ])"
   ]
  },
  {
   "cell_type": "code",
   "execution_count": null,
   "id": "b8873d21",
   "metadata": {},
   "outputs": [],
   "source": [
    "### 4. Model Definition and Training (Fit/Predict)\n",
    "\n",
    "model = Pipeline(steps=[\n",
    "    ('preprocessor', preprocessor),\n",
    "    ('classifier', LogisticRegression(max_iter=1000))\n",
    "])\n",
    "\n",
    "model.fit(X_train, y_train)"
   ]
  },
  {
   "cell_type": "code",
   "execution_count": null,
   "id": "fa152fd9",
   "metadata": {},
   "outputs": [],
   "source": [
    "y_pred = model.predict(X_test)\n",
    "### 5. Evaluation\n",
    "#### Accuracy\n",
    "acc = accuracy_score(y_test, y_pred)\n",
    "print(f\"Accuracy: {acc:.2f}\")"
   ]
  },
  {
   "cell_type": "code",
   "execution_count": null,
   "id": "b84e2995",
   "metadata": {},
   "outputs": [],
   "source": [
    "#### Confusion Matrix\n",
    "\n",
    "cm = confusion_matrix(y_test, y_pred)\n",
    "print(\"\\nConfusion Matrix:\")\n",
    "print(cm)"
   ]
  },
  {
   "cell_type": "code",
   "execution_count": null,
   "id": "7e102395",
   "metadata": {},
   "outputs": [],
   "source": [
    "#### Classification Report\n",
    "\n",
    "print(\"\\nClassification Report:\")\n",
    "print(classification_report(y_test, y_pred))"
   ]
  }
 ],
 "metadata": {
  "kernelspec": {
   "display_name": "base",
   "language": "python",
   "name": "python3"
  },
  "language_info": {
   "codemirror_mode": {
    "name": "ipython",
    "version": 3
   },
   "file_extension": ".py",
   "mimetype": "text/x-python",
   "name": "python",
   "nbconvert_exporter": "python",
   "pygments_lexer": "ipython3",
   "version": "3.13.5"
  }
 },
 "nbformat": 4,
 "nbformat_minor": 5
}
