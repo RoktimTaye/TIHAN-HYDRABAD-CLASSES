{
 "cells": [
  {
   "cell_type": "code",
   "id": "initial_id",
   "metadata": {
    "collapsed": true
   },
   "source": [
    "from sklearn.datasets import load_iris\n",
    "from sklearn.model_selection import train_test_split\n",
    "from sklearn.linear_model import LogisticRegression\n",
    "from sklearn.linear_model import LinearRegression\n",
    "from sklearn.metrics import accuracy_score\n",
    "from sklearn.preprocessing import LabelEncoder, StandardScaler, OneHotEncoder\n",
    "from sklearn.metrics import mean_squared_error, r2_score\n",
    "from sklearn.pipeline import Pipeline\n",
    "from sklearn.impute import SimpleImputer\n",
    "from sklearn.compose import ColumnTransformer\n",
    "import pandas as pd\n",
    "import seaborn as sns"
   ],
   "outputs": [],
   "execution_count": null
  },
  {
   "metadata": {},
   "cell_type": "code",
   "source": "df = sns.load_dataset('iris')",
   "id": "90d92485c7ed50f9",
   "outputs": [],
   "execution_count": null
  },
  {
   "metadata": {},
   "cell_type": "code",
   "source": [
    "x = df.drop(columns=['petal_length', 'species'])\n",
    "y = df['petal_length']\n",
    "\n",
    "x_train,x_test,y_train,y_teest = train_test_split(x,y,test_size=0.2,random_state=42)"
   ],
   "id": "c10be0d41018d161",
   "outputs": [],
   "execution_count": null
  },
  {
   "metadata": {},
   "cell_type": "code",
   "source": [
    "# numric_features = [['sepal_length', 'sepal_width', 'petal_length', 'petal_width']]\n",
    "# categorical_features = [['species']]"
   ],
   "id": "ec216dcbcde92450",
   "outputs": [],
   "execution_count": null
  },
  {
   "metadata": {},
   "cell_type": "code",
   "source": [
    "# numeeric_transform = Pipeline(steps=[\n",
    "#     ('imputer', SimpleImputer(strategy='mean')),\n",
    "#     ('scaler', StandardScaler())\n",
    "# ])\n",
    "# categorical_transform = Pipeline(steps=[\n",
    "#     ('imputer', SimpleImputer(strategy='most_frequent')),\n",
    "#     ('encoder', OneHotEncoder(handle_unknown='ignore'))\n",
    "# ])"
   ],
   "id": "d79da1e83ec4a25e",
   "outputs": [],
   "execution_count": null
  },
  {
   "metadata": {},
   "cell_type": "code",
   "source": [
    "# preprocessor = ColumnTransformer(\n",
    "#     transformers=[\n",
    "#         ('num',numeeric_transform,numric_features),\n",
    "#         ('cat',categorical_transform,categorical_features),\n",
    "#     ]\n",
    "# )"
   ],
   "id": "8f611aa755c3e3e2",
   "outputs": [],
   "execution_count": null
  },
  {
   "metadata": {},
   "cell_type": "code",
   "source": [
    "# model = Pipeline(steps=[\n",
    "#     ('preprocessor', preprocessor),\n",
    "#     ('classifier', LogisticRegression())\n",
    "# ])\n",
    "# model.fit(x_train,y_train)"
   ],
   "id": "9342dbbfbbfdb36",
   "outputs": [],
   "execution_count": null
  },
  {
   "metadata": {},
   "cell_type": "code",
   "source": [
    "model = LinearRegression()\n",
    "model.fit(x_train,y_train)"
   ],
   "id": "97bb74c1ab6f6bd7",
   "outputs": [],
   "execution_count": null
  },
  {
   "metadata": {},
   "cell_type": "code",
   "source": [
    "import tensorflow as tf\n",
    "from tensorflow.keras import layers,models\n",
    "import numpy as np\n",
    "\n",
    "x = np.random.rand(100,10)\n",
    "y = np.random.randint(0,2, #genrates random numbers between 1 and 2\n",
    "                      size=(100,))\n",
    "#Nural newtork\n",
    "model = models.Sequential([\n",
    "    layers.Dense(16,activation='relu',input_shape=(10,)),# layer of 16 nurons, and expect atleast 10 inputs from the x\n",
    "    layers.Dense(16,activation='sigmoid')\n",
    "])"
   ],
   "id": "39008f02d6c4fa1",
   "outputs": [],
   "execution_count": null
  },
  {
   "metadata": {},
   "cell_type": "code",
   "source": "model.compile(optimizer='adam', loss='binary_crossentropy', metrics=['accuracy'])",
   "id": "16c569487e85a4c",
   "outputs": [],
   "execution_count": null
  },
  {
   "metadata": {},
   "cell_type": "code",
   "source": [
    "model.fit(x, y, epochs=5, # number of iteerations\n",
    "          batch_size=8) #numer of samplees processed at a time"
   ],
   "id": "1c3a3a1dc5baed5c",
   "outputs": [],
   "execution_count": null
  },
  {
   "metadata": {},
   "cell_type": "code",
   "source": [
    "loss, accuracy = model.evaluate(X, y, verbose=0)\n",
    "print(\"Loss:\", loss)\n",
    "print(\"Accuracy:\", accuracy)"
   ],
   "id": "1667ffb00e11a0a5",
   "outputs": [],
   "execution_count": null
  }
 ],
 "metadata": {
  "kernelspec": {
   "display_name": "Python 3",
   "language": "python",
   "name": "python3"
  },
  "language_info": {
   "codemirror_mode": {
    "name": "ipython",
    "version": 2
   },
   "file_extension": ".py",
   "mimetype": "text/x-python",
   "name": "python",
   "nbconvert_exporter": "python",
   "pygments_lexer": "ipython2",
   "version": "2.7.6"
  }
 },
 "nbformat": 4,
 "nbformat_minor": 5
}
